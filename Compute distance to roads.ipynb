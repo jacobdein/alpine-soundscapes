{
 "cells": [
  {
   "cell_type": "markdown",
   "metadata": {},
   "source": [
    "# Compute distance to roads"
   ]
  },
  {
   "cell_type": "markdown",
   "metadata": {},
   "source": [
    "This notebook computes the distance to each of the nearest road types in a 'roads' vector map from a vector map of 'points' (sample locations).\n",
    "\n",
    "This notebook uses [GRASS GIS](https://grass.osgeo.org) (7.0.4), and must be run inside of a GRASS environment (start the jupyter notebook server from the GRASS command line)."
   ]
  },
  {
   "cell_type": "markdown",
   "metadata": {},
   "source": [
    "#### Required packages"
   ]
  },
  {
   "cell_type": "markdown",
   "metadata": {},
   "source": [
    "[numpy](https://github.com/numpy/numpy) <br />\n",
    "[pandas](https://github.com/pydata/pandas) <br />\n",
    "[pyprind](https://github.com/rasbt/pyprind)"
   ]
  },
  {
   "cell_type": "markdown",
   "metadata": {},
   "source": [
    "#### Variable declarations"
   ]
  },
  {
   "cell_type": "markdown",
   "metadata": {},
   "source": [
    "points – vector map with points to measure distance from (sample locations) <br />\n",
    "roads – vector map with roads data\n",
    "road_type_field – field name containing the road classification type (i.e. residential, secondary, etc.)\n",
    "distance_table_filename – path to export the distances table as a csv file"
   ]
  },
  {
   "cell_type": "code",
   "execution_count": null,
   "metadata": {
    "collapsed": true
   },
   "outputs": [],
   "source": [
    "points = 'sample_points_field'"
   ]
  },
  {
   "cell_type": "code",
   "execution_count": null,
   "metadata": {
    "collapsed": true
   },
   "outputs": [],
   "source": [
    "roads = 'highway'"
   ]
  },
  {
   "cell_type": "code",
   "execution_count": null,
   "metadata": {
    "collapsed": true
   },
   "outputs": [],
   "source": [
    "road_type_field = 'Type'"
   ]
  },
  {
   "cell_type": "code",
   "execution_count": null,
   "metadata": {
    "collapsed": true
   },
   "outputs": [],
   "source": [
    "distance_table_filename = \"\""
   ]
  },
  {
   "cell_type": "markdown",
   "metadata": {},
   "source": [
    "#### Import statements"
   ]
  },
  {
   "cell_type": "code",
   "execution_count": null,
   "metadata": {
    "collapsed": true
   },
   "outputs": [],
   "source": [
    "import pandas\n",
    "import numpy as np\n",
    "import pyprind"
   ]
  },
  {
   "cell_type": "markdown",
   "metadata": {},
   "source": [
    "GRASS import statements"
   ]
  },
  {
   "cell_type": "code",
   "execution_count": null,
   "metadata": {
    "collapsed": true
   },
   "outputs": [],
   "source": [
    "import grass.script as gscript\n",
    "\n",
    "from grass.pygrass.vector import VectorTopo\n",
    "from grass.pygrass.vector.table import DBlinks"
   ]
  },
  {
   "cell_type": "markdown",
   "metadata": {},
   "source": [
    "#### Function declarations"
   ]
  },
  {
   "cell_type": "markdown",
   "metadata": {},
   "source": [
    "connect to an attribute table"
   ]
  },
  {
   "cell_type": "code",
   "execution_count": null,
   "metadata": {
    "collapsed": true
   },
   "outputs": [],
   "source": [
    "def connectToAttributeTable(map):\n",
    "    vector = VectorTopo(map)\n",
    "    vector.open(mode='r')\n",
    "    dblinks = DBlinks(vector.c_mapinfo)\n",
    "    link = dblinks[0]\n",
    "    return link.table()"
   ]
  },
  {
   "cell_type": "markdown",
   "metadata": {},
   "source": [
    "finds the nearest element in a vector map (to) for elements in another vector map (from) <br />\n",
    "calls the GRASS [v.distance](https://grass.osgeo.org/grass70/manuals/v.distance.html) command"
   ]
  },
  {
   "cell_type": "code",
   "execution_count": null,
   "metadata": {
    "collapsed": false
   },
   "outputs": [],
   "source": [
    "def computeDistance(from_map, to_map):\n",
    "\n",
    "    upload = 'dist'\n",
    "    result = gscript.read_command('v.distance',\n",
    "                         from_=from_map,\n",
    "                         to=to_map,\n",
    "                         upload=upload,\n",
    "                         separator='comma',\n",
    "                         flags='p')\n",
    "    return result.split('\\n')"
   ]
  },
  {
   "cell_type": "markdown",
   "metadata": {},
   "source": [
    "selects vector features from an existing vector map and creates a new vector map containing only the selected features <br />\n",
    "calls the GRASS [v.extract](https://grass.osgeo.org/grass70/manuals/v.extract.html) command"
   ]
  },
  {
   "cell_type": "code",
   "execution_count": null,
   "metadata": {
    "collapsed": true
   },
   "outputs": [],
   "source": [
    "def extractFeatures(input_, type_, output):\n",
    "\n",
    "    where = \"{0} = '{1}'\".format(road_type_field, type_)\n",
    "    gscript.read_command('v.extract',\n",
    "                         input_=input_,\n",
    "                         where=where,\n",
    "                         output=output,\n",
    "                         overwrite=True)"
   ]
  },
  {
   "cell_type": "markdown",
   "metadata": {},
   "source": [
    "#### Get unique 'roads' types"
   ]
  },
  {
   "cell_type": "code",
   "execution_count": null,
   "metadata": {
    "collapsed": false
   },
   "outputs": [],
   "source": [
    "roads_table = connectToAttributeTable(map=roads)\n",
    "roads_table.filters.select(road_type_field)\n",
    "cursor = roads_table.execute()\n",
    "result = np.array(cursor.fetchall())\n",
    "cursor.close()\n",
    "road_types = np.unique(result)"
   ]
  },
  {
   "cell_type": "code",
   "execution_count": null,
   "metadata": {
    "collapsed": false
   },
   "outputs": [],
   "source": [
    "print(road_types)"
   ]
  },
  {
   "cell_type": "markdown",
   "metadata": {},
   "source": [
    "#### Get 'points' attribute table"
   ]
  },
  {
   "cell_type": "code",
   "execution_count": null,
   "metadata": {
    "collapsed": false
   },
   "outputs": [],
   "source": [
    "point_table = connectToAttributeTable(map=points)\n",
    "point_table.filters.select()\n",
    "columns = point_table.columns.names()\n",
    "cursor = point_table.execute()\n",
    "result = np.array(cursor.fetchall())\n",
    "cursor.close()\n",
    "point_data = pandas.DataFrame(result, columns=columns).set_index('cat')"
   ]
  },
  {
   "cell_type": "markdown",
   "metadata": {},
   "source": [
    "#### Loop through 'roads' types and compute the distances from all 'points'"
   ]
  },
  {
   "cell_type": "code",
   "execution_count": null,
   "metadata": {
    "collapsed": true
   },
   "outputs": [],
   "source": [
    "distances = pandas.DataFrame(columns=road_types, index=point_data.index)"
   ]
  },
  {
   "cell_type": "code",
   "execution_count": null,
   "metadata": {
    "collapsed": false
   },
   "outputs": [],
   "source": [
    "progress_bar = pyprind.ProgBar(road_types.size, bar_char='█', title='Progress', monitor=True, stream=1, width=50)\n",
    "\n",
    "for type_ in road_types:\n",
    "    \n",
    "    # update progress bar\n",
    "    progress_bar.update(item_id=type_)\n",
    "    \n",
    "    # extract road data based on type query\n",
    "    extractFeatures(input_=roads, type_=type_, output='roads_tmp')\n",
    "    \n",
    "    # compute distance from points to road type\n",
    "    results = computeDistance(points, 'roads_tmp')\n",
    "    \n",
    "    # save results to data frame\n",
    "    distances[type_] = [ d.split(',')[1] for d in results[1:len(results)-1] ]\n",
    "\n",
    "# match index with SiteID\n",
    "distances['SiteID'] = point_data['ID']\n",
    "distances.set_index('SiteID', inplace=True)"
   ]
  },
  {
   "cell_type": "markdown",
   "metadata": {},
   "source": [
    "#### Export distances table to a csv file"
   ]
  },
  {
   "cell_type": "code",
   "execution_count": null,
   "metadata": {
    "collapsed": false
   },
   "outputs": [],
   "source": [
    "distances.to_csv(distance_table_filename, header=False)"
   ]
  }
 ],
 "metadata": {
  "kernelspec": {
   "display_name": "Python 2",
   "language": "python",
   "name": "python2"
  },
  "language_info": {
   "codemirror_mode": {
    "name": "ipython",
    "version": 2
   },
   "file_extension": ".py",
   "mimetype": "text/x-python",
   "name": "python",
   "nbconvert_exporter": "python",
   "pygments_lexer": "ipython2",
   "version": "2.7.6"
  }
 },
 "nbformat": 4,
 "nbformat_minor": 0
}
