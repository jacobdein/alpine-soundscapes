{
 "cells": [
  {
   "cell_type": "markdown",
   "metadata": {},
   "source": [
    "# Pull political boundary data from OpenStreetMap as shapefile"
   ]
  },
  {
   "cell_type": "markdown",
   "metadata": {},
   "source": [
    "This notebook pulls political boundary data from the OpenStreetMap database and creates a shapefile containing the query results."
   ]
  },
  {
   "cell_type": "markdown",
   "metadata": {},
   "source": [
    "#### Required packages"
   ]
  },
  {
   "cell_type": "markdown",
   "metadata": {},
   "source": [
    "<a href=\"https://github.com/DinoTools/python-overpy\">overpy</a> <br />\n",
    "<a href=\"https://github.com/Toblerity/Fiona\">Fiona</a>"
   ]
  },
  {
   "cell_type": "markdown",
   "metadata": {},
   "source": [
    "#### Variable settings"
   ]
  },
  {
   "cell_type": "markdown",
   "metadata": {},
   "source": [
    "bounding_box_filepath — path to shapefile to can define the desired bounding box to query the OpenStreetMap database <br />\n",
    "result_shapefile_filepath — path to export shapefile containing the query results"
   ]
  },
  {
   "cell_type": "code",
   "execution_count": 1,
   "metadata": {
    "collapsed": true
   },
   "outputs": [],
   "source": [
    "bounding_box_file = \"\""
   ]
  },
  {
   "cell_type": "code",
   "execution_count": 2,
   "metadata": {
    "collapsed": true
   },
   "outputs": [],
   "source": [
    "result_shapefile_filepath = \"\""
   ]
  },
  {
   "cell_type": "code",
   "execution_count": 80,
   "metadata": {
    "collapsed": true
   },
   "outputs": [],
   "source": [
    "p1 = pyproj.Proj(\"+init=epsg:31254\")\n",
    "p2 = pyproj.Proj(\"+init=epsg:4326\")\n",
    "p3 = pyproj.Proj(\"+init=epsg:3857\")\n",
    "p4 = pyproj.Proj(\"+init=epsg:25832\")"
   ]
  },
  {
   "cell_type": "markdown",
   "metadata": {},
   "source": [
    "#### Import statements"
   ]
  },
  {
   "cell_type": "code",
   "execution_count": 90,
   "metadata": {
    "collapsed": false
   },
   "outputs": [],
   "source": [
    "import overpy\n",
    "import fiona\n",
    "import numpy\n",
    "import geopandas\n",
    "from shapely.ops import polygonize\n",
    "from shapely.geometry import LineString\n",
    "\n",
    "from database.models import Site\n",
    "import pyproj\n",
    "\n",
    "from matplotlib import pyplot\n",
    "%matplotlib inline"
   ]
  },
  {
   "cell_type": "markdown",
   "metadata": {},
   "source": [
    "#### Utility functions"
   ]
  },
  {
   "cell_type": "markdown",
   "metadata": {},
   "source": [
    "function to see what results were returned from the Overpass API query"
   ]
  },
  {
   "cell_type": "code",
   "execution_count": 5,
   "metadata": {
    "collapsed": false
   },
   "outputs": [],
   "source": [
    "def print_results(results):\n",
    "    for way in result.ways:\n",
    "        print(\"Name: %s\" % way.tags.get(\"name\", \"n/a\"))\n",
    "        print(\"  Highway: %s\" % way.tags.get(\"highway\", \"n/a\"))\n",
    "        print(\"  Nodes:\")\n",
    "        for node in way.nodes:\n",
    "            print(\"    Lat: %f, Lon: %f\" % (node.lat, node.lon))"
   ]
  },
  {
   "cell_type": "markdown",
   "metadata": {},
   "source": [
    "#### Query OpenStreetMap using OverpassAPI via overpy python package"
   ]
  },
  {
   "cell_type": "markdown",
   "metadata": {},
   "source": [
    "setup Overpass api"
   ]
  },
  {
   "cell_type": "code",
   "execution_count": 3,
   "metadata": {
    "collapsed": true
   },
   "outputs": [],
   "source": [
    "api = overpy.Overpass()"
   ]
  },
  {
   "cell_type": "markdown",
   "metadata": {},
   "source": [
    "define bounding box from a 1km-buffered envelope around the study area boundary"
   ]
  },
  {
   "cell_type": "code",
   "execution_count": 7,
   "metadata": {
    "collapsed": true
   },
   "outputs": [],
   "source": [
    "with fiona.open(bounding_box_file, mode='r') as bounding_box:\n",
    "    bounds = bounding_box.bounds\n",
    "    bounding_box.close()"
   ]
  },
  {
   "cell_type": "code",
   "execution_count": 8,
   "metadata": {
    "collapsed": false
   },
   "outputs": [
    {
     "name": "stdout",
     "output_type": "stream",
     "text": [
      "(11.290198256852443, 47.202364564149754, 11.470060257137265, 47.306229150962515)\n"
     ]
    }
   ],
   "source": [
    "print(bounds)"
   ]
  },
  {
   "cell_type": "markdown",
   "metadata": {},
   "source": [
    "define query "
   ]
  },
  {
   "cell_type": "code",
   "execution_count": 9,
   "metadata": {
    "collapsed": true
   },
   "outputs": [],
   "source": [
    "query = \"\"\"way({bottom},{left},{top},{right}) [\"highway\"]; (._;>;); out body;\"\"\".format(bottom=bounds[1],\n",
    "                                                                                        left=bounds[0],\n",
    "                                                                                        top=bounds[3],\n",
    "                                                                                        right=bounds[2])"
   ]
  },
  {
   "cell_type": "code",
   "execution_count": 5,
   "metadata": {
    "collapsed": true
   },
   "outputs": [],
   "source": [
    "query = \"\"\"\n",
    "            [out:json];\n",
    "            relation\n",
    "            [\"boundary\"=\"administrative\"]\n",
    "            [\"admin_level\"=\"2\"]\n",
    "            [\"name:en\"=\"Austria\"];\n",
    "            (._;>;);\n",
    "            out;\n",
    "        \"\"\".replace(\"\\n\", \"\").replace(\" \", \"\")"
   ]
  },
  {
   "cell_type": "code",
   "execution_count": 6,
   "metadata": {
    "collapsed": false
   },
   "outputs": [
    {
     "data": {
      "text/plain": [
       "'[out:json];relation[\"boundary\"=\"administrative\"][\"admin_level\"=\"2\"][\"name:en\"=\"Austria\"];(._;>;);out;'"
      ]
     },
     "execution_count": 6,
     "metadata": {},
     "output_type": "execute_result"
    }
   ],
   "source": [
    "query"
   ]
  },
  {
   "cell_type": "markdown",
   "metadata": {},
   "source": [
    "execute query"
   ]
  },
  {
   "cell_type": "code",
   "execution_count": 7,
   "metadata": {
    "collapsed": false
   },
   "outputs": [],
   "source": [
    "result = api.query(query)"
   ]
  },
  {
   "cell_type": "code",
   "execution_count": 8,
   "metadata": {
    "collapsed": true
   },
   "outputs": [],
   "source": [
    "ways = numpy.empty(len(result.ways), dtype=numpy.object)\n",
    "for i, way in enumerate(result.ways):\n",
    "    ways[i] = LineString([ (node.lon, node.lat) for node in way.nodes ])\n",
    "boundaries = list(polygonize(ways))\n",
    "boundaries = geopandas.GeoDataFrame(geometry=boundaries, crs=\"+init=epsg:4326\")"
   ]
  },
  {
   "cell_type": "code",
   "execution_count": 9,
   "metadata": {
    "collapsed": false
   },
   "outputs": [
    {
     "data": {
      "text/html": [
       "<div>\n",
       "<table border=\"1\" class=\"dataframe\">\n",
       "  <thead>\n",
       "    <tr style=\"text-align: right;\">\n",
       "      <th></th>\n",
       "      <th>geometry</th>\n",
       "    </tr>\n",
       "  </thead>\n",
       "  <tbody>\n",
       "    <tr>\n",
       "      <th>0</th>\n",
       "      <td>POLYGON ((16.1791723 46.9077653, 16.1790524 46...</td>\n",
       "    </tr>\n",
       "    <tr>\n",
       "      <th>1</th>\n",
       "      <td>POLYGON ((10.4723901 47.5869399, 10.4724211 47...</td>\n",
       "    </tr>\n",
       "  </tbody>\n",
       "</table>\n",
       "</div>"
      ],
      "text/plain": [
       "                                            geometry\n",
       "0  POLYGON ((16.1791723 46.9077653, 16.1790524 46...\n",
       "1  POLYGON ((10.4723901 47.5869399, 10.4724211 47..."
      ]
     },
     "execution_count": 9,
     "metadata": {},
     "output_type": "execute_result"
    }
   ],
   "source": [
    "boundaries"
   ]
  },
  {
   "cell_type": "code",
   "execution_count": 10,
   "metadata": {
    "collapsed": false,
    "scrolled": false
   },
   "outputs": [
    {
     "data": {
      "text/plain": [
       "<matplotlib.axes._subplots.AxesSubplot at 0x1044365f8>"
      ]
     },
     "execution_count": 10,
     "metadata": {},
     "output_type": "execute_result"
    },
    {
     "data": {
      "image/png": "[encoded data removed]",
      "text/plain": [
       "<matplotlib.figure.Figure at 0x114bda128>"
      ]
     },
     "metadata": {},
     "output_type": "display_data"
    }
   ],
   "source": [
    "boundaries.plot(facecolor='white', edgecolor='red')"
   ]
  },
  {
   "cell_type": "code",
   "execution_count": 11,
   "metadata": {
    "collapsed": false
   },
   "outputs": [],
   "source": [
    "bbox = boundaries.bounds.iloc[0]"
   ]
  },
  {
   "cell_type": "code",
   "execution_count": 12,
   "metadata": {
    "collapsed": false
   },
   "outputs": [
    {
     "data": {
      "text/plain": [
       "minx     9.530749\n",
       "miny    46.372276\n",
       "maxx    17.160776\n",
       "maxy    49.020526\n",
       "Name: 0, dtype: float64"
      ]
     },
     "execution_count": 12,
     "metadata": {},
     "output_type": "execute_result"
    }
   ],
   "source": [
    "bbox"
   ]
  },
  {
   "cell_type": "code",
   "execution_count": 13,
   "metadata": {
    "collapsed": false
   },
   "outputs": [],
   "source": [
    "query = \"\"\"\n",
    "            relation({s}, {w}, {n}, {e})\n",
    "            [\"boundary\"=\"administrative\"]\n",
    "            [\"admin_level\"=\"2\"];\n",
    "            (._;>;);\n",
    "            out;\n",
    "        \"\"\".format(s=bbox['miny'], w=bbox['minx'], n=bbox['maxy'], e=bbox['maxx']).replace(\"\\n\", \"\").replace(\" \", \"\")"
   ]
  },
  {
   "cell_type": "code",
   "execution_count": 14,
   "metadata": {
    "collapsed": false
   },
   "outputs": [
    {
     "data": {
      "text/plain": [
       "'relation(46.3722761,9.5307487,49.0205264,17.160776)[\"boundary\"=\"administrative\"][\"admin_level\"=\"2\"];(._;>;);out;'"
      ]
     },
     "execution_count": 14,
     "metadata": {},
     "output_type": "execute_result"
    }
   ],
   "source": [
    "query"
   ]
  },
  {
   "cell_type": "code",
   "execution_count": 15,
   "metadata": {
    "collapsed": false
   },
   "outputs": [],
   "source": [
    "result = api.query(query)"
   ]
  },
  {
   "cell_type": "code",
   "execution_count": 84,
   "metadata": {
    "collapsed": false
   },
   "outputs": [],
   "source": [
    "ways = numpy.empty(len(result.ways), dtype=numpy.object)\n",
    "for i, way in enumerate(result.ways):\n",
    "    ways[i] = LineString([ (node.lon, node.lat) for node in way.nodes ]).simplify(0.01, preserve_topology=False)\n",
    "boundaries = list(polygonize(ways))\n",
    "boundaries = geopandas.GeoDataFrame(geometry=boundaries, crs=\"+init=epsg:4326\")\n",
    "boundaries = boundaries.to_crs(crs=\"+init=epsg:25832\")"
   ]
  },
  {
   "cell_type": "code",
   "execution_count": 64,
   "metadata": {
    "collapsed": false
   },
   "outputs": [],
   "source": [
    "center = Site.objects.get(name='Hofgarten')"
   ]
  },
  {
   "cell_type": "code",
   "execution_count": 85,
   "metadata": {
    "collapsed": false
   },
   "outputs": [],
   "source": [
    "x, y = center.geometry.coords\n",
    "x, y = pyproj.transform(p1, p4, x, y)"
   ]
  },
  {
   "cell_type": "code",
   "execution_count": 82,
   "metadata": {
    "collapsed": false
   },
   "outputs": [
    {
     "data": {
      "text/plain": [
       "681325.0483919675"
      ]
     },
     "execution_count": 82,
     "metadata": {},
     "output_type": "execute_result"
    }
   ],
   "source": [
    "x"
   ]
  },
  {
   "cell_type": "code",
   "execution_count": 83,
   "metadata": {
    "collapsed": false
   },
   "outputs": [
    {
     "data": {
      "text/plain": [
       "5238280.111198772"
      ]
     },
     "execution_count": 83,
     "metadata": {},
     "output_type": "execute_result"
    }
   ],
   "source": [
    "y"
   ]
  },
  {
   "cell_type": "code",
   "execution_count": 97,
   "metadata": {
    "collapsed": false
   },
   "outputs": [
    {
     "data": {
      "text/plain": [
       "['naturalearth_cities', 'naturalearth_lowres']"
      ]
     },
     "execution_count": 97,
     "metadata": {},
     "output_type": "execute_result"
    }
   ],
   "source": [
    "geopandas.datasets.available"
   ]
  },
  {
   "cell_type": "code",
   "execution_count": 112,
   "metadata": {
    "collapsed": false
   },
   "outputs": [],
   "source": [
    "world = geopandas.read_file(geopandas.datasets.get_path('naturalearth_lowres'))"
   ]
  },
  {
   "cell_type": "code",
   "execution_count": 113,
   "metadata": {
    "collapsed": false
   },
   "outputs": [],
   "source": [
    "area = world[world.name.isin(['Austria', 'Germany', 'Switzerland', 'Italy'])]"
   ]
  },
  {
   "cell_type": "code",
   "execution_count": 121,
   "metadata": {
    "collapsed": false
   },
   "outputs": [
    {
     "data": {
      "image/png": "[encoded data removed]",
      "text/plain": [
       "<matplotlib.figure.Figure at 0x167ef90f0>"
      ]
     },
     "metadata": {},
     "output_type": "display_data"
    }
   ],
   "source": [
    "plt = area.plot(facecolor='white', edgecolor='black')\n",
    "plt.set_frame_on(False)"
   ]
  },
  {
   "cell_type": "markdown",
   "metadata": {},
   "source": [
    "#### Write OpenStreetMap data to a shapefile"
   ]
  },
  {
   "cell_type": "code",
   "execution_count": 11,
   "metadata": {
    "collapsed": false
   },
   "outputs": [],
   "source": [
    "from fiona.crs import from_epsg\n",
    "schema = {'geometry': 'LineString', 'properties': {'Name':'str:80', 'Type':'str:80'}}\n",
    "with fiona.open(result_shapefile_filepath, 'w', crs=from_epsg(4326), driver='ESRI Shapefile', schema=schema) as output:\n",
    "    for way in result.ways:\n",
    "        # the shapefile geometry use (lon,lat) \n",
    "        line = {'type': 'LineString', 'coordinates':[(node.lon, node.lat) for node in way.nodes]}\n",
    "        prop = {'Name': way.tags.get(\"name\", \"n/a\"), 'Type': way.tags.get(\"highway\", \"n/a\")}\n",
    "        output.write({'geometry': line, 'properties':prop})\n",
    "    output.close()"
   ]
  }
 ],
 "metadata": {
  "anaconda-cloud": {},
  "kernelspec": {
   "display_name": "Django Shell-Plus",
   "language": "python",
   "name": "django_extensions"
  },
  "language_info": {
   "codemirror_mode": {
    "name": "ipython",
    "version": 3
   },
   "file_extension": ".py",
   "mimetype": "text/x-python",
   "name": "python",
   "nbconvert_exporter": "python",
   "pygments_lexer": "ipython3",
   "version": "3.5.2"
  }
 },
 "nbformat": 4,
 "nbformat_minor": 0
}
