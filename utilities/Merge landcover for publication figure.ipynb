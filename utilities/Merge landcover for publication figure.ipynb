{
 "cells": [
  {
   "cell_type": "markdown",
   "metadata": {},
   "source": [
    "# Merge land cover for publication figure"
   ]
  },
  {
   "cell_type": "markdown",
   "metadata": {},
   "source": [
    "This notebook merges the high-resolution LISA land cover with the lower-resolution CORINE land cover to create a land cover raster that covers a large extent to depict the surrounding landscape around the study area in a publication figure. <br />\n",
    "\n",
    "The 1.07 version of [basemap](https://github.com/matplotlib/basemap) is not compatible with the 0.36 version of [rasterio](https://github.com/mapbox/rasterio), which is required to merge the rasters. Therefore, this notebook must be run in a different environment than the other notebooks."
   ]
  },
  {
   "cell_type": "markdown",
   "metadata": {},
   "source": [
    "#### Import statements"
   ]
  },
  {
   "cell_type": "code",
   "execution_count": 4,
   "metadata": {
    "collapsed": true
   },
   "outputs": [],
   "source": [
    "from geo.models import Raster\n",
    "import rasterio\n",
    "from rasterio.merge import merge\n",
    "import os.path"
   ]
  },
  {
   "cell_type": "markdown",
   "metadata": {},
   "source": [
    "#### Load input raster objects"
   ]
  },
  {
   "cell_type": "code",
   "execution_count": 6,
   "metadata": {
    "collapsed": true
   },
   "outputs": [],
   "source": [
    "landcover_study_area = Raster.objects.get(name='landcover study area')\n",
    "landcover_background = Raster.objects.get(name='landcover corine mapped lisa')"
   ]
  },
  {
   "cell_type": "markdown",
   "metadata": {},
   "source": [
    "#### Merge land cover"
   ]
  },
  {
   "cell_type": "markdown",
   "metadata": {},
   "source": [
    "s1 = rasterio.open(landcover_study_area.filepath, mode='r')\n",
    "s2 = rasterio.open(landcover_background.filepath, mode='r')\n",
    "landcover, transform = merge(sources=[s1, s2], res=(5., 5.), nodata=255)"
   ]
  },
  {
   "cell_type": "markdown",
   "metadata": {},
   "source": [
    "#### Write merged raster to disk"
   ]
  },
  {
   "cell_type": "code",
   "execution_count": 10,
   "metadata": {
    "collapsed": false
   },
   "outputs": [],
   "source": [
    "output_filepath = os.path.join(os.path.dirname(landcover_background.filepath), \"landcover_merged_publication.tif\")\n",
    "with rasterio.open(path=output_filepath, mode='w', driver='GTiff', \n",
    "                   width=landcover.shape[2], height=landcover.shape[1], count=landcover.shape[0], \n",
    "                   crs=\"+init=epsg:31254\", transform=transform, dtype=landcover.dtype, nodata=int(s1.nodata)) as dest:\n",
    "    dest.write(landcover[0], 1)"
   ]
  },
  {
   "cell_type": "markdown",
   "metadata": {},
   "source": [
    "#### Close input raster files"
   ]
  },
  {
   "cell_type": "code",
   "execution_count": 11,
   "metadata": {
    "collapsed": true
   },
   "outputs": [],
   "source": [
    "s1.close()\n",
    "s2.close()"
   ]
  },
  {
   "cell_type": "markdown",
   "metadata": {},
   "source": [
    "#### Save new raster object to database"
   ]
  },
  {
   "cell_type": "code",
   "execution_count": 13,
   "metadata": {
    "collapsed": false
   },
   "outputs": [],
   "source": [
    "Raster(name='landcover merged publication', filepath=output_filepath).save()"
   ]
  }
 ],
 "metadata": {
  "anaconda-cloud": {},
  "kernelspec": {
   "display_name": "Django Shell-Plus",
   "language": "python",
   "name": "python3"
  },
  "language_info": {
   "codemirror_mode": {
    "name": "ipython",
    "version": 3
   },
   "file_extension": ".py",
   "mimetype": "text/x-python",
   "name": "python",
   "nbconvert_exporter": "python",
   "pygments_lexer": "ipython3",
   "version": "3.5.2"
  }
 },
 "nbformat": 4,
 "nbformat_minor": 1
}
