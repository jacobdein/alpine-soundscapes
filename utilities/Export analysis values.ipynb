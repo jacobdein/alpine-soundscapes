{
 "cells": [
  {
   "cell_type": "markdown",
   "metadata": {},
   "source": [
    "# Export analysis values"
   ]
  },
  {
   "cell_type": "markdown",
   "metadata": {},
   "source": [
    "This notebook exports values from the database to a csv file for further analysis."
   ]
  },
  {
   "cell_type": "markdown",
   "metadata": {},
   "source": [
    "#### Import statements"
   ]
  },
  {
   "cell_type": "code",
   "execution_count": 1,
   "metadata": {
    "collapsed": true
   },
   "outputs": [],
   "source": [
    "from datetime import date, time, timedelta, datetime"
   ]
  },
  {
   "cell_type": "code",
   "execution_count": 2,
   "metadata": {
    "collapsed": false
   },
   "outputs": [],
   "source": [
    "import pandas\n",
    "import numpy as np"
   ]
  },
  {
   "cell_type": "code",
   "execution_count": 3,
   "metadata": {
    "collapsed": false
   },
   "outputs": [],
   "source": [
    "from nacoustik import sum_decibels"
   ]
  },
  {
   "cell_type": "code",
   "execution_count": 4,
   "metadata": {
    "collapsed": false
   },
   "outputs": [],
   "source": [
    "from database.models import Sound\n",
    "from metrics.models import BiophonyPercent, SoundExposureLevel\n",
    "from weather.models import Record\n",
    "from landscape.models import LandCoverArea, NaturalnessArea"
   ]
  },
  {
   "cell_type": "markdown",
   "metadata": {},
   "source": [
    "#### Variable declarations"
   ]
  },
  {
   "cell_type": "code",
   "execution_count": 5,
   "metadata": {
    "collapsed": true
   },
   "outputs": [],
   "source": [
    "csv_filepath = \"/Users/Jake/Desktop/innsbruck_dataset/all.csv\""
   ]
  },
  {
   "cell_type": "code",
   "execution_count": 6,
   "metadata": {
    "collapsed": true
   },
   "outputs": [],
   "source": [
    "time_offset = timedelta(hours = 1)"
   ]
  },
  {
   "cell_type": "code",
   "execution_count": 7,
   "metadata": {
    "collapsed": false
   },
   "outputs": [
    {
     "data": {
      "text/plain": [
       "datetime.datetime"
      ]
     },
     "execution_count": 7,
     "metadata": {},
     "output_type": "execute_result"
    }
   ],
   "source": [
    "datetime"
   ]
  },
  {
   "cell_type": "code",
   "execution_count": 8,
   "metadata": {
    "collapsed": false
   },
   "outputs": [],
   "source": [
    "start_datetime = datetime(2016, 1, 27)"
   ]
  },
  {
   "cell_type": "code",
   "execution_count": 9,
   "metadata": {
    "collapsed": true
   },
   "outputs": [],
   "source": [
    "#included_area = '500m'"
   ]
  },
  {
   "cell_type": "markdown",
   "metadata": {},
   "source": [
    "#### Function declarations"
   ]
  },
  {
   "cell_type": "code",
   "execution_count": 10,
   "metadata": {
    "collapsed": true
   },
   "outputs": [],
   "source": [
    "def calculate_average_wind_speed(start_offset, end_offset):\n",
    "    wind_speed = \"{0:.1f}\".format(Record.objects.filter(date__range = (start_offset.date(), \n",
    "                                                                       end_offset.date()), \n",
    "                                                        time__range = (start_offset.time(), \n",
    "                                                                       end_offset.time())).aggregate(Avg('wind_speed'))['wind_speed__avg'])\n",
    "    return wind_speed"
   ]
  },
  {
   "cell_type": "code",
   "execution_count": 11,
   "metadata": {
    "collapsed": false
   },
   "outputs": [],
   "source": [
    "def calculate_average_temperature(start_offset, end_offset):\n",
    "    temperature = \"{0:.1f}\".format(Record.objects.filter(date__range = (start_offset.date(), \n",
    "                                                                        end_offset.date()), \n",
    "                                                         time__range = (start_offset.time(), \n",
    "                                                                        end_offset.time())).aggregate(Avg('temperature'))['temperature__avg'])\n",
    "    return temperature"
   ]
  },
  {
   "cell_type": "code",
   "execution_count": 12,
   "metadata": {
    "collapsed": true
   },
   "outputs": [],
   "source": [
    "def calculate_average_precipitation(start_offset, end_offset):\n",
    "    precipitation = \"{0:.1f}\".format(Record.objects.filter(date__range = (start_offset.date(), \n",
    "                                                                        end_offset.date()), \n",
    "                                                         time__range = (start_offset.time(), \n",
    "                                                                        end_offset.time())).aggregate(Sum('precipitation'))['precipitation__sum'])\n",
    "    return precipitation"
   ]
  },
  {
   "cell_type": "code",
   "execution_count": 13,
   "metadata": {
    "collapsed": true
   },
   "outputs": [],
   "source": [
    "def calculate_average_pressure(start_offset, end_offset):\n",
    "    pressure = \"{0:.1f}\".format(Record.objects.filter(date__range = (start_offset.date(), \n",
    "                                                                        end_offset.date()), \n",
    "                                                         time__range = (start_offset.time(), \n",
    "                                                                        end_offset.time())).aggregate(Avg('pressure'))['pressure__avg'])\n",
    "    return pressure"
   ]
  },
  {
   "cell_type": "code",
   "execution_count": 14,
   "metadata": {
    "collapsed": true
   },
   "outputs": [],
   "source": [
    "def get_landcover_areas(site, included_area, cover_type):\n",
    "    area = LandCoverArea.objects.filter(site__exact = site, included_area__exact = included_area).get()\n",
    "    return eval(\"area.{0}\".format(cover_type))"
   ]
  },
  {
   "cell_type": "code",
   "execution_count": 15,
   "metadata": {
    "collapsed": true
   },
   "outputs": [],
   "source": [
    "def get_naturalness_areas(site, included_area, cover_type):\n",
    "    area = NaturalnessArea.objects.filter(site__exact = site, included_area__exact = included_area).get()\n",
    "    return eval(\"area.{0}\".format(cover_type))"
   ]
  },
  {
   "cell_type": "code",
   "execution_count": 16,
   "metadata": {
    "collapsed": true
   },
   "outputs": [],
   "source": [
    "def calculate_sel(sound):\n",
    "    try:\n",
    "        sel_record = SoundExposureLevel.objects.get(sound = sound)\n",
    "        anthrophony = sum_decibels(np.array(eval(sel_record.sel)[0:2]).astype(np.float64))\n",
    "        biophony = sum_decibels(np.array(eval(sel_record.sel)[2:10]).astype(np.float64))\n",
    "        return anthrophony, biophony\n",
    "    except SoundExposureLevel.DoesNotExist:\n",
    "        return 0., 0."
   ]
  },
  {
   "cell_type": "code",
   "execution_count": 17,
   "metadata": {
    "collapsed": false
   },
   "outputs": [],
   "source": [
    "def get_ndsi(sound):\n",
    "    ndsi = NDSI.objects.get(sound = sound)\n",
    "    return ndsi.ndsi_left + ndsi.ndsi_right"
   ]
  },
  {
   "cell_type": "code",
   "execution_count": 18,
   "metadata": {
    "collapsed": true
   },
   "outputs": [],
   "source": [
    "def get_aci(sound):\n",
    "    aci = AcousticComplexityIndex.objects.get(sound = sound)\n",
    "    return aci.aci_left + aci.aci_right"
   ]
  },
  {
   "cell_type": "code",
   "execution_count": 19,
   "metadata": {
    "collapsed": true
   },
   "outputs": [],
   "source": [
    "def get_bai(sound):\n",
    "    bai = BioacousticIndex.objects.get(sound = sound)\n",
    "    return bai.bai_left + bai.bai_right"
   ]
  },
  {
   "cell_type": "code",
   "execution_count": 20,
   "metadata": {
    "collapsed": true
   },
   "outputs": [],
   "source": [
    "def get_pss(sound):\n",
    "    pss = PowerSpectrumSum.objects.get(sound = sound)\n",
    "    a = pss.anthrophony\n",
    "    b = pss.biophony\n",
    "    t = pss.total\n",
    "    return a, b, t"
   ]
  },
  {
   "cell_type": "code",
   "execution_count": 21,
   "metadata": {
    "collapsed": true
   },
   "outputs": [],
   "source": [
    "def get_sel(sound):\n",
    "    record = SoundExposureLevel.objects.get(sound = sound)\n",
    "    sel = record.sel\n",
    "    sel_anthrophony = record.anthrophony\n",
    "    sel_biophony = record.biophony\n",
    "    return sel, sel_anthrophony, sel_biophony"
   ]
  },
  {
   "cell_type": "code",
   "execution_count": 22,
   "metadata": {
    "collapsed": true
   },
   "outputs": [],
   "source": [
    "def get_biophony_percent(sound):\n",
    "    record = BiophonyPercent.objects.get(sound = sound)\n",
    "    return record.biophony_percent"
   ]
  },
  {
   "cell_type": "code",
   "execution_count": 23,
   "metadata": {
    "collapsed": true
   },
   "outputs": [],
   "source": [
    "def get_week(sound):\n",
    "    return (sound.date - start_datetime.date()).days / 7"
   ]
  },
  {
   "cell_type": "markdown",
   "metadata": {},
   "source": [
    "#### Pull values"
   ]
  },
  {
   "cell_type": "code",
   "execution_count": 24,
   "metadata": {
    "collapsed": true
   },
   "outputs": [],
   "source": [
    "#sounds = Sound.objects.filter(quality__exact = 1)"
   ]
  },
  {
   "cell_type": "code",
   "execution_count": 25,
   "metadata": {
    "collapsed": false
   },
   "outputs": [],
   "source": [
    "sounds = Sound.objects.filter(quality__range = (0, 1))"
   ]
  },
  {
   "cell_type": "code",
   "execution_count": 26,
   "metadata": {
    "collapsed": false
   },
   "outputs": [],
   "source": [
    "values = pandas.DataFrame(columns=['sound', 'site', 'site_name',\n",
    "                                   'sel', 'sel_anthrophony', 'sel_biophony',\n",
    "                                   'biophony', 'week',\n",
    "                                   \n",
    "                                   'building_50m', 'pavement_50m', \n",
    "                                   'forest_50m', 'field_50m',\n",
    "                                   \n",
    "                                   'building_100m', 'pavement_100m', \n",
    "                                   'forest_100m', 'field_100m', \n",
    "                                   \n",
    "                                   'building_200m', 'pavement_200m', \n",
    "                                   'forest_200m', 'field_200m', \n",
    "                                   \n",
    "                                   'building_500m', 'pavement_500m', \n",
    "                                   'forest_500m', 'field_500m', \n",
    "                                   \n",
    "                                   'temperature', 'wind_speed', \n",
    "                                   'precipitation', 'pressure'])"
   ]
  },
  {
   "cell_type": "markdown",
   "metadata": {},
   "source": [
    "values = values.append(row)"
   ]
  },
  {
   "cell_type": "code",
   "execution_count": 27,
   "metadata": {
    "collapsed": false
   },
   "outputs": [],
   "source": [
    "for sound in sounds:\n",
    "    \n",
    "    # initialize dict to hold row values\n",
    "    sound_row = dict()\n",
    "    \n",
    "    # compute time offsets for weather data calculations\n",
    "    recorded_datetime = datetime(sound.date.year, sound.date.month, sound.date.day, \n",
    "                             sound.time.hour, sound.time.minute, sound.time.second)\n",
    "    start_offset = recorded_datetime - time_offset\n",
    "    end_offset = recorded_datetime + time_offset\n",
    "    \n",
    "    # sound\n",
    "    sound_row['sound'] = sound.id\n",
    "    # site\n",
    "    sound_row['site'] = sound.site.id\n",
    "    # site name\n",
    "    sound_row['site_name'] = sound.site.name\n",
    "    # sel\n",
    "    sound_row['sel'], sound_row['sel_anthrophony'], sound_row['sel_biophony'] = get_sel(sound)\n",
    "    # biophony_percent\n",
    "    sound_row['biophony'] = get_biophony_percent(sound)\n",
    "    # week\n",
    "    sound_row['week'] = get_week(sound)\n",
    "    \n",
    "    # building_50m\n",
    "    sound_row['building_50m'] = (get_landcover_areas(sound.site, '50m', 'type_1') / 7756.657171) * 100\n",
    "    # pavement_50m\n",
    "    sound_row['pavement_50m'] = (get_landcover_areas(sound.site, '50m', 'type_2') / 7756.657171) * 100\n",
    "    # forest_50m\n",
    "    sound_row['forest_50m'] = (get_landcover_areas(sound.site, '50m', 'type_9') / 7756.657171) * 100\n",
    "    # field_50m\n",
    "    sound_row['field_50m'] = (get_landcover_areas(sound.site, '50m', 'type_12') / 7756.657171) * 100\n",
    "    \n",
    "    # building_100m\n",
    "    sound_row['building_100m'] = (get_landcover_areas(sound.site, '100m', 'type_1') / 31026.6287) * 100\n",
    "    # pavement_100m\n",
    "    sound_row['pavement_100m'] = (get_landcover_areas(sound.site, '100m', 'type_2') / 31026.6287) * 100\n",
    "    # forest_100m\n",
    "    sound_row['forest_100m'] = (get_landcover_areas(sound.site, '100m', 'type_9') / 31026.6287) * 100\n",
    "    # field_100m\n",
    "    sound_row['field_100m'] = (get_landcover_areas(sound.site, '100m', 'type_12') / 31026.6287) * 100\n",
    "    \n",
    "    # building_200m\n",
    "    sound_row['building_200m'] = (get_landcover_areas(sound.site, '200m', 'type_1') / 124106.515) * 100\n",
    "    # pavement_200m\n",
    "    sound_row['pavement_200m'] = (get_landcover_areas(sound.site, '200m', 'type_2') / 124106.515) * 100\n",
    "    # forest_200m\n",
    "    sound_row['forest_200m'] = (get_landcover_areas(sound.site, '200m', 'type_9') / 124106.515) * 100\n",
    "    # field_200m\n",
    "    sound_row['field_200m'] = (get_landcover_areas(sound.site, '200m', 'type_12') / 124106.515) * 100\n",
    "    \n",
    "    # building_500m\n",
    "    sound_row['building_500m'] = (get_landcover_areas(sound.site, '500m', 'type_1') / 775665.7171) * 100\n",
    "    # pavement_500m\n",
    "    sound_row['pavement_500m'] = (get_landcover_areas(sound.site, '500m', 'type_2') / 775665.7171) * 100\n",
    "    # forest_500m\n",
    "    sound_row['forest_500m'] = (get_landcover_areas(sound.site, '500m', 'type_9') / 775665.7171) * 100\n",
    "    # field_500m\n",
    "    sound_row['field_500m'] = (get_landcover_areas(sound.site, '500m', 'type_12') / 775665.7171) * 100  \n",
    "\n",
    "    # temperature\n",
    "    sound_row['temperature'] = calculate_average_temperature(start_offset, end_offset)\n",
    "    # wind_speed\n",
    "    sound_row['wind_speed'] = calculate_average_wind_speed(start_offset, end_offset)\n",
    "    # precipitation\n",
    "    sound_row['precipitation'] = calculate_average_precipitation(start_offset, end_offset)\n",
    "    # pressure\n",
    "    sound_row['pressure'] = calculate_average_pressure(start_offset, end_offset)\n",
    "    \n",
    "    # append row dict to values dataframe\n",
    "    values = values.append(sound_row, ignore_index = True)\n",
    "\n",
    "# clean up dataframe\n",
    "values['sound'] = values['sound'].astype(np.int)\n",
    "values['site'] = values['site'].astype(np.int)\n",
    "values.set_index('sound', inplace = True)"
   ]
  },
  {
   "cell_type": "markdown",
   "metadata": {},
   "source": [
    "## Join roads data"
   ]
  },
  {
   "cell_type": "markdown",
   "metadata": {},
   "source": [
    "load csv"
   ]
  },
  {
   "cell_type": "code",
   "execution_count": 28,
   "metadata": {
    "collapsed": true
   },
   "outputs": [],
   "source": [
    "filepath = \"/Users/Jake/Desktop/innsbruck_dataset/distanceroads.csv\"\n",
    "roads_data = pandas.read_csv(filepath).set_index('site')"
   ]
  },
  {
   "cell_type": "markdown",
   "metadata": {},
   "source": [
    "join"
   ]
  },
  {
   "cell_type": "code",
   "execution_count": 29,
   "metadata": {
    "collapsed": true
   },
   "outputs": [],
   "source": [
    "values = values.join(roads_data, on='site')"
   ]
  },
  {
   "cell_type": "markdown",
   "metadata": {},
   "source": [
    "## Export data to csv"
   ]
  },
  {
   "cell_type": "code",
   "execution_count": 30,
   "metadata": {
    "collapsed": false
   },
   "outputs": [],
   "source": [
    "values.to_csv(csv_filepath)"
   ]
  }
 ],
 "metadata": {
  "anaconda-cloud": {},
  "kernelspec": {
   "display_name": "Django Shell-Plus",
   "language": "python",
   "name": "django_extensions"
  },
  "language_info": {
   "codemirror_mode": {
    "name": "ipython",
    "version": 3
   },
   "file_extension": ".py",
   "mimetype": "text/x-python",
   "name": "python",
   "nbconvert_exporter": "python",
   "pygments_lexer": "ipython3",
   "version": "3.5.2"
  }
 },
 "nbformat": 4,
 "nbformat_minor": 1
}
