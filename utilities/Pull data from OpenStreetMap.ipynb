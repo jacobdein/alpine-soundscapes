{
 "cells": [
  {
   "cell_type": "markdown",
   "metadata": {},
   "source": [
    "# Pull highway data from OpenStreetMap as shapefile"
   ]
  },
  {
   "cell_type": "markdown",
   "metadata": {},
   "source": [
    "This notebook pulls highway line data from the OpenStreetMap database and creates a shapefile containing the query results."
   ]
  },
  {
   "cell_type": "markdown",
   "metadata": {},
   "source": [
    "#### Required packages"
   ]
  },
  {
   "cell_type": "markdown",
   "metadata": {},
   "source": [
    "<a href=\"https://github.com/DinoTools/python-overpy\">overpy</a> <br />\n",
    "<a href=\"https://github.com/Toblerity/Fiona\">Fiona</a>"
   ]
  },
  {
   "cell_type": "markdown",
   "metadata": {},
   "source": [
    "#### Variable settings"
   ]
  },
  {
   "cell_type": "markdown",
   "metadata": {},
   "source": [
    "bounding_box_filepath — path to shapefile to can define the desired bounding box to query the OpenStreetMap database <br />\n",
    "result_shapefile_filepath — path to export shapefile containing the query results"
   ]
  },
  {
   "cell_type": "code",
   "execution_count": 1,
   "metadata": {
    "collapsed": true
   },
   "outputs": [],
   "source": [
    "bounding_box_file = \"\""
   ]
  },
  {
   "cell_type": "code",
   "execution_count": 2,
   "metadata": {
    "collapsed": true
   },
   "outputs": [],
   "source": [
    "result_shapefile_filepath = \"\""
   ]
  },
  {
   "cell_type": "markdown",
   "metadata": {},
   "source": [
    "#### Import statements"
   ]
  },
  {
   "cell_type": "code",
   "execution_count": 3,
   "metadata": {
    "collapsed": true
   },
   "outputs": [],
   "source": [
    "import overpy\n",
    "import fiona"
   ]
  },
  {
   "cell_type": "markdown",
   "metadata": {},
   "source": [
    "#### Utility functions"
   ]
  },
  {
   "cell_type": "markdown",
   "metadata": {},
   "source": [
    "function to see what results were returned from the Overpass API query"
   ]
  },
  {
   "cell_type": "code",
   "execution_count": 5,
   "metadata": {
    "collapsed": false
   },
   "outputs": [],
   "source": [
    "def print_results(results):\n",
    "    for way in result.ways:\n",
    "        print(\"Name: %s\" % way.tags.get(\"name\", \"n/a\"))\n",
    "        print(\"  Highway: %s\" % way.tags.get(\"highway\", \"n/a\"))\n",
    "        print(\"  Nodes:\")\n",
    "        for node in way.nodes:\n",
    "            print(\"    Lat: %f, Lon: %f\" % (node.lat, node.lon))"
   ]
  },
  {
   "cell_type": "markdown",
   "metadata": {},
   "source": [
    "#### Query OpenStreetMap using OverpassAPI via overpy python package"
   ]
  },
  {
   "cell_type": "markdown",
   "metadata": {},
   "source": [
    "setup Overpass api"
   ]
  },
  {
   "cell_type": "code",
   "execution_count": 6,
   "metadata": {
    "collapsed": true
   },
   "outputs": [],
   "source": [
    "api = overpy.Overpass()"
   ]
  },
  {
   "cell_type": "markdown",
   "metadata": {},
   "source": [
    "define bounding box from a 1km-buffered envelope around the study area boundary"
   ]
  },
  {
   "cell_type": "code",
   "execution_count": 7,
   "metadata": {
    "collapsed": true
   },
   "outputs": [],
   "source": [
    "with fiona.open(bounding_box_file, mode='r') as bounding_box:\n",
    "    bounds = bounding_box.bounds\n",
    "    bounding_box.close()"
   ]
  },
  {
   "cell_type": "code",
   "execution_count": 8,
   "metadata": {
    "collapsed": false
   },
   "outputs": [
    {
     "name": "stdout",
     "output_type": "stream",
     "text": [
      "(11.290198256852443, 47.202364564149754, 11.470060257137265, 47.306229150962515)\n"
     ]
    }
   ],
   "source": [
    "print(bounds)"
   ]
  },
  {
   "cell_type": "markdown",
   "metadata": {},
   "source": [
    "define query "
   ]
  },
  {
   "cell_type": "code",
   "execution_count": 9,
   "metadata": {
    "collapsed": true
   },
   "outputs": [],
   "source": [
    "query = \"\"\"way({bottom},{left},{top},{right}) [\"highway\"]; (._;>;); out body;\"\"\".format(bottom=bounds[1],\n",
    "                                                                                        left=bounds[0],\n",
    "                                                                                        top=bounds[3],\n",
    "                                                                                        right=bounds[2])"
   ]
  },
  {
   "cell_type": "markdown",
   "metadata": {},
   "source": [
    "execute query"
   ]
  },
  {
   "cell_type": "code",
   "execution_count": 10,
   "metadata": {
    "collapsed": true
   },
   "outputs": [],
   "source": [
    "result = api.query(query)"
   ]
  },
  {
   "cell_type": "markdown",
   "metadata": {},
   "source": [
    "#### Write OpenStreetMap data to a shapefile"
   ]
  },
  {
   "cell_type": "code",
   "execution_count": 11,
   "metadata": {
    "collapsed": false
   },
   "outputs": [],
   "source": [
    "from fiona.crs import from_epsg\n",
    "schema = {'geometry': 'LineString', 'properties': {'Name':'str:80', 'Type':'str:80'}}\n",
    "with fiona.open(result_shapefile_filepath, 'w', crs=from_epsg(4326), driver='ESRI Shapefile', schema=schema) as output:\n",
    "    for way in result.ways:\n",
    "        # the shapefile geometry use (lon,lat) \n",
    "        line = {'type': 'LineString', 'coordinates':[(node.lon, node.lat) for node in way.nodes]}\n",
    "        prop = {'Name': way.tags.get(\"name\", \"n/a\"), 'Type': way.tags.get(\"highway\", \"n/a\")}\n",
    "        output.write({'geometry': line, 'properties':prop})\n",
    "    output.close()"
   ]
  }
 ],
 "metadata": {
  "anaconda-cloud": {},
  "kernelspec": {
   "display_name": "Python [default]",
   "language": "python",
   "name": "python3"
  },
  "language_info": {
   "codemirror_mode": {
    "name": "ipython",
    "version": 3
   },
   "file_extension": ".py",
   "mimetype": "text/x-python",
   "name": "python",
   "nbconvert_exporter": "python",
   "pygments_lexer": "ipython3",
   "version": "3.5.2"
  }
 },
 "nbformat": 4,
 "nbformat_minor": 0
}
