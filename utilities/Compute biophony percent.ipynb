{
 "cells": [
  {
   "cell_type": "markdown",
   "metadata": {},
   "source": [
    "# Compute biophony percent"
   ]
  },
  {
   "cell_type": "markdown",
   "metadata": {},
   "source": [
    "This notebook computes the biophony percent of a wave."
   ]
  },
  {
   "cell_type": "markdown",
   "metadata": {},
   "source": [
    "#### Required packages"
   ]
  },
  {
   "cell_type": "markdown",
   "metadata": {},
   "source": [
    "nacoustik:\n",
    "https://github.com/jacobdein/nacoustik"
   ]
  },
  {
   "cell_type": "markdown",
   "metadata": {},
   "source": [
    "#### Import statements"
   ]
  },
  {
   "cell_type": "code",
   "execution_count": 7,
   "metadata": {
    "collapsed": false,
    "jupyter": {
     "outputs_hidden": false
    }
   },
   "outputs": [],
   "source": [
    "from nacoustik import Wave\n",
    "from nacoustik.spectrum import psd\n",
    "from nacoustik.noise import remove_background_noise, remove_anthrophony\n",
    "\n",
    "import numpy"
   ]
  },
  {
   "cell_type": "markdown",
   "metadata": {},
   "source": [
    "#### Function declarations"
   ]
  },
  {
   "cell_type": "code",
   "execution_count": 2,
   "metadata": {},
   "outputs": [],
   "source": [
    "def compute_biophony_percent(sound_file, window_length):\n",
    "    sound = Wave(sound_file)\n",
    "    sound.read()\n",
    "    sound.normalize()\n",
    "    f, t, a = psd(sound, window_length=512)\n",
    "    ale = remove_background_noise(a, N=0.18, iterations=3)\n",
    "    b = remove_anthrophony(ale, time_delta=t[1]-t[0], freq_delta=f[1]-f[0])\n",
    "    return (numpy.ma.masked_not_equal(b, value=0).mask.sum() / numpy.array(b.shape).prod()) * 100"
   ]
  }
 ],
 "metadata": {
  "kernelspec": {
   "display_name": "Python 3",
   "language": "python",
   "name": "python3"
  },
  "language_info": {
   "codemirror_mode": {
    "name": "ipython",
    "version": 3
   },
   "file_extension": ".py",
   "mimetype": "text/x-python",
   "name": "python",
   "nbconvert_exporter": "python",
   "pygments_lexer": "ipython3",
   "version": "3.7.11"
  }
 },
 "nbformat": 4,
 "nbformat_minor": 4
}
