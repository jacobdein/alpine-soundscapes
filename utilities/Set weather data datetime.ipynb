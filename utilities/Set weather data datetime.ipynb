{
 "cells": [
  {
   "cell_type": "markdown",
   "metadata": {},
   "source": [
    "# Set weather data datetime"
   ]
  },
  {
   "cell_type": "markdown",
   "metadata": {},
   "source": [
    "This notebook formats a date and a time column for weather data measurements with a unix timestamp. Each measurement is then inserted into a pumilio database."
   ]
  },
  {
   "cell_type": "markdown",
   "metadata": {},
   "source": [
    "#### Required packages"
   ]
  },
  {
   "cell_type": "markdown",
   "metadata": {},
   "source": [
    "<a href=\"https://github.com/pydata/pandas\">pandas</a> <br />\n",
    "<a href=\"https://github.com/rasbt/pyprind\">pyprind</a> <br />\n",
    "<a href=\"https://github.com/jacobdein/pymilio\">pymilio</a>"
   ]
  },
  {
   "cell_type": "markdown",
   "metadata": {},
   "source": [
    "#### Variable declarations"
   ]
  },
  {
   "cell_type": "markdown",
   "metadata": {},
   "source": [
    "weather_filepath – path to excel containing weather measurements, each with a unix timestamp"
   ]
  },
  {
   "cell_type": "code",
   "execution_count": null,
   "metadata": {
    "collapsed": true
   },
   "outputs": [],
   "source": [
    "weather_filepath = \"\""
   ]
  },
  {
   "cell_type": "markdown",
   "metadata": {},
   "source": [
    "#### Import statements"
   ]
  },
  {
   "cell_type": "code",
   "execution_count": 2,
   "metadata": {
    "collapsed": false
   },
   "outputs": [],
   "source": [
    "import pandas\n",
    "import pyprind\n",
    "from datetime import datetime\n",
    "from Pymilio import database"
   ]
  },
  {
   "cell_type": "markdown",
   "metadata": {},
   "source": [
    "#### Create and format a 'WeatherDate' and 'WeatherTime' column"
   ]
  },
  {
   "cell_type": "code",
   "execution_count": 2,
   "metadata": {
    "collapsed": true
   },
   "outputs": [],
   "source": [
    "weather_data = pandas.read_excel(weather_filepath)"
   ]
  },
  {
   "cell_type": "code",
   "execution_count": 3,
   "metadata": {
    "collapsed": true
   },
   "outputs": [],
   "source": [
    "weather_data['WeatherDate'] = weather_data['WeatherDate'].astype('str')\n",
    "weather_data['WeatherTime'] = weather_data['WeatherTime'].astype('str')"
   ]
  },
  {
   "cell_type": "code",
   "execution_count": 4,
   "metadata": {
    "collapsed": false
   },
   "outputs": [],
   "source": [
    "for index, row in weather_data.iterrows():\n",
    "    timestamp = row['timestamp']\n",
    "    dt = datetime.fromtimestamp(timestamp)\n",
    "    date = datetime.strftime(dt, \"%Y-%m-%d\")\n",
    "    time = datetime.strftime(dt, \"%H:%M:%S\")\n",
    "    \n",
    "    weather_data.set_value(index, 'WeatherDate', date)\n",
    "    weather_data.set_value(index, 'WeatherTime', time)"
   ]
  },
  {
   "cell_type": "code",
   "execution_count": 5,
   "metadata": {
    "collapsed": true
   },
   "outputs": [],
   "source": [
    "weather_data = weather_data.drop('timestamp', axis=1)\n",
    "weather_data = weather_data.drop('LightIntensity', axis=1)"
   ]
  },
  {
   "cell_type": "markdown",
   "metadata": {},
   "source": [
    "#### Connect to database"
   ]
  },
  {
   "cell_type": "code",
   "execution_count": 3,
   "metadata": {
    "collapsed": false
   },
   "outputs": [],
   "source": [
    "db = database.Pymilio_db_connection(user='pumilio',\n",
    "                                    database='pumilio',\n",
    "                                    read_default_file='~/.my.cnf.pumilio')"
   ]
  },
  {
   "cell_type": "markdown",
   "metadata": {},
   "source": [
    "#### Insert weather measurements into a pumilio database"
   ]
  },
  {
   "cell_type": "code",
   "execution_count": 8,
   "metadata": {
    "collapsed": false
   },
   "outputs": [
    {
     "name": "stdout",
     "output_type": "stream",
     "text": [
      "Progress\n",
      "0%                                              100%\n",
      "[██████████████████████████████████████████████████] | ETA: 00:00:00 | Item ID: 21883\n",
      "Total time elapsed: 00:00:18\n"
     ]
    }
   ],
   "source": [
    "table_name = 'WeatherData'\n",
    "\n",
    "column_list = [ n for n in weather_data.columns ]\n",
    "column_names = \", \".join(column_list)\n",
    "\n",
    "progress_bar = pyprind.ProgBar(len(weather_data), bar_char='█', title='Progress', monitor=True, stream=1, width=50)\n",
    "\n",
    "for index, row in weather_data.iterrows():\n",
    "    progress_bar.update(item_id=str(index))\n",
    "    \n",
    "    value_list = [ str(v) for v in row.as_matrix() ]\n",
    "    value_strings = \"'\"\n",
    "    value_strings = value_strings + \"', '\".join(value_list)\n",
    "    value_strings = value_strings + \"'\"\n",
    "    #value_strings = value_strings.replace('nan', 'NULL')\n",
    "\n",
    "    statement = \"\"\"INSERT INTO {0} ({1}) VALUES ({2})\"\"\".format(table_name, column_names, value_strings)\n",
    "\n",
    "    db = pumilio_db._connect()\n",
    "    c = db.cursor()\n",
    "    c.execute(statement)\n",
    "    c.close()\n",
    "    db.close()"
   ]
  },
  {
   "cell_type": "markdown",
   "metadata": {},
   "source": [
    "#### Optionally export dataframe to a csv file"
   ]
  },
  {
   "cell_type": "code",
   "execution_count": 73,
   "metadata": {
    "collapsed": true
   },
   "outputs": [],
   "source": [
    "#weather_data.to_csv(\"~/Desktop/weather_db.csv\", index=False, header=False)"
   ]
  }
 ],
 "metadata": {
  "kernelspec": {
   "display_name": "Python 3",
   "language": "python",
   "name": "python3"
  },
  "language_info": {
   "codemirror_mode": {
    "name": "ipython",
    "version": 3
   },
   "file_extension": ".py",
   "mimetype": "text/x-python",
   "name": "python",
   "nbconvert_exporter": "python",
   "pygments_lexer": "ipython3",
   "version": "3.5.1"
  }
 },
 "nbformat": 4,
 "nbformat_minor": 0
}
