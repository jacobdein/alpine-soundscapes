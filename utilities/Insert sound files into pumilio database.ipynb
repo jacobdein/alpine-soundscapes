{
 "cells": [
  {
   "cell_type": "markdown",
   "metadata": {},
   "source": [
    "# Insert sound files into pumilio database"
   ]
  },
  {
   "cell_type": "markdown",
   "metadata": {},
   "source": [
    "This notebook inserts sound files into the pumilio database, assuming all files are already organized inside the pumilio file structure (.../pumilio/sounds/sounds/'ColID'/'SiteID'/)."
   ]
  },
  {
   "cell_type": "markdown",
   "metadata": {},
   "source": [
    "#### Required packages"
   ]
  },
  {
   "cell_type": "markdown",
   "metadata": {},
   "source": [
    "<a href=\"https://github.com/pydata/pandas\">pandas</a> <br />"
   ]
  },
  {
   "cell_type": "markdown",
   "metadata": {},
   "source": [
    "#### Variable definitions"
   ]
  },
  {
   "cell_type": "markdown",
   "metadata": {},
   "source": [
    "sound_directory – directory containing organized sound files to be added to the database <br />\n",
    "sound_db_filepath – path to output csv file containing sound records ready to import into database"
   ]
  },
  {
   "cell_type": "code",
   "execution_count": 8,
   "metadata": {
    "collapsed": true
   },
   "outputs": [],
   "source": [
    "sound_directory = \"\""
   ]
  },
  {
   "cell_type": "code",
   "execution_count": null,
   "metadata": {
    "collapsed": true
   },
   "outputs": [],
   "source": [
    "sound_db_filename = \"\""
   ]
  },
  {
   "cell_type": "markdown",
   "metadata": {},
   "source": [
    "#### Import packages"
   ]
  },
  {
   "cell_type": "code",
   "execution_count": 7,
   "metadata": {
    "collapsed": false
   },
   "outputs": [],
   "source": [
    "import pandas\n",
    "\n",
    "import re\n",
    "from datetime import datetime\n",
    "import os.path\n",
    "from os import listdir"
   ]
  },
  {
   "cell_type": "markdown",
   "metadata": {},
   "source": [
    "#### Functions"
   ]
  },
  {
   "cell_type": "markdown",
   "metadata": {},
   "source": [
    "generate record of sound for database"
   ]
  },
  {
   "cell_type": "code",
   "execution_count": 10,
   "metadata": {
    "collapsed": false
   },
   "outputs": [],
   "source": [
    "def create_db_sound_record(sound, count):\n",
    "    \n",
    "    SoundID = count + 100\n",
    "    SoundStatus = 0\n",
    "    QualityFlagID = 0\n",
    "    OtherSoundID = 0\n",
    "    DerviedSound = ''\n",
    "    DerviedFromSoundID = ''\n",
    "    ColID = sound['ColID']\n",
    "    DirID = sound['ID']\n",
    "    SoundName = sound['filename'].rstrip('.flac')\n",
    "    OriginalFilename = sound['filename']\n",
    "    FileSize = os.path.getsize(os.path.join(sound_directory, ColID, DirID, OriginalFilename))\n",
    "    MD5_hash = ''\n",
    "    AudioPreviewFilename = ''\n",
    "    AudioPreviewFormat = ''\n",
    "    \n",
    "    dt = datetime.strptime(SoundName, '%y%m%d-%H%M%S')\n",
    "    \n",
    "    Date = dt.strftime('%Y-%m-%d')\n",
    "    Time = dt.strftime('%H:%M:%S')\n",
    "    SamplingRate = 48000\n",
    "    BitRate = 16\n",
    "    Channels = 2\n",
    "    Duration = 300\n",
    "    SoundFormat = 'flac'\n",
    "    SiteID = int(sound['ID']) + 100\n",
    "    SensorID = 103\n",
    "    Notes = ''\n",
    "    SoundStats = 0\n",
    "    stamp = datetime.now().strftime('%Y-%m-%d %H:%M:%S')\n",
    "    \n",
    "    sound_table = pandas.DataFrame([[\n",
    "                 SoundID,\n",
    "                 SoundStatus,\n",
    "                 QualityFlagID,\n",
    "                 OtherSoundID,\n",
    "                 DerviedSound,\n",
    "                 DerviedFromSoundID,\n",
    "                 ColID,\n",
    "                 DirID,\n",
    "                 SoundName,\n",
    "                 OriginalFilename,\n",
    "                 FileSize,\n",
    "                 MD5_hash,\n",
    "                 AudioPreviewFilename,\n",
    "                 AudioPreviewFormat,\n",
    "                 Date,\n",
    "                 Time,\n",
    "                 SamplingRate,\n",
    "                 BitRate,\n",
    "                 Channels,\n",
    "                 Duration,\n",
    "                 SoundFormat,\n",
    "                 SiteID,\n",
    "                 SensorID,\n",
    "                 Notes,\n",
    "                 SoundStats,\n",
    "                 stamp\n",
    "                 ]], columns=['SoundID', 'SoundStatus', 'QualityFlagID', 'OtherSoundID', 'DerivedSound', 'DerivedFromSoundID', 'ColID', 'DirID', 'SoundName', 'OriginalFilename', 'FileSize', 'MD5_hash', 'AudioPreviewFilename', 'AudioPreviewFormat', 'Date', 'Time', 'SamplingRate', 'BitRate', 'Channels', 'Duration', 'SoundFormat', 'SiteID', 'SensorID', 'Notes', 'SoundStats', 'stamp'])\n",
    "    #print(sound_table)\n",
    "    global sounds_table\n",
    "    sounds_table = sounds_table.append(sound_table, ignore_index=True)"
   ]
  },
  {
   "cell_type": "markdown",
   "metadata": {},
   "source": [
    "#### Get all sounds"
   ]
  },
  {
   "cell_type": "code",
   "execution_count": 9,
   "metadata": {
    "collapsed": false
   },
   "outputs": [],
   "source": [
    "collections = listdir(sound_directory)\n",
    "ColIDs = []\n",
    "IDs = []\n",
    "filenames = []\n",
    "for collection in collections:\n",
    "    m = re.search('\\d', collection)\n",
    "    if m:\n",
    "        ColID = m.string\n",
    "        sites = listdir(os.path.join(sound_directory, ColID))\n",
    "        for site in sites:\n",
    "            m = re.search('\\d', site)\n",
    "            if m:\n",
    "                ID = m.string\n",
    "                sound_files = listdir(os.path.join(sound_directory, ColID, ID))\n",
    "                for sound_file in sound_files:\n",
    "                    m = re.search('\\d{6}-\\d{6}\\.flac', sound_file)\n",
    "                    if m:\n",
    "                        filename = m.string\n",
    "                        filenames.append(filename)\n",
    "                        ColIDs.append(ColID)\n",
    "                        IDs.append(ID)\n",
    "sounds = pandas.DataFrame({'filename': filenames,\n",
    "                           'ColID': ColIDs,\n",
    "                           'ID': IDs})\n",
    "sounds = sounds.sort_values(by='filename')"
   ]
  },
  {
   "cell_type": "markdown",
   "metadata": {},
   "source": [
    "#### Create and export table (csv) of sound records"
   ]
  },
  {
   "cell_type": "code",
   "execution_count": 11,
   "metadata": {
    "collapsed": false
   },
   "outputs": [],
   "source": [
    "sounds_table = pandas.DataFrame()\n",
    "count = 1\n",
    "for index, sound in sounds.iterrows():\n",
    "    create_db_sound_record(sound, count)\n",
    "    count = count + 1\n",
    "sounds_table.to_csv(sound_db_filepath)"
   ]
  }
 ],
 "metadata": {
  "kernelspec": {
   "display_name": "Python 3",
   "language": "python",
   "name": "python3"
  },
  "language_info": {
   "codemirror_mode": {
    "name": "ipython",
    "version": 3
   },
   "file_extension": ".py",
   "mimetype": "text/x-python",
   "name": "python",
   "nbconvert_exporter": "python",
   "pygments_lexer": "ipython3",
   "version": "3.5.1"
  }
 },
 "nbformat": 4,
 "nbformat_minor": 0
}
