{
 "cells": [
  {
   "cell_type": "markdown",
   "metadata": {},
   "source": [
    "# Process raw WAV files"
   ]
  },
  {
   "cell_type": "markdown",
   "metadata": {},
   "source": [
    "This notebook clips WAV files in the specified 'directory' to a specified 'clip_duration' starting from a time calculated from a time specified in the WAV filename and a specified 'watch_offset'."
   ]
  },
  {
   "cell_type": "markdown",
   "metadata": {},
   "source": [
    "#### Import statements"
   ]
  },
  {
   "cell_type": "code",
   "execution_count": 1,
   "metadata": {
    "collapsed": false
   },
   "outputs": [],
   "source": [
    "import os.path\n",
    "from os import listdir\n",
    "import wave\n",
    "from audioop import ratecv\n",
    "import datetime\n",
    "import time"
   ]
  },
  {
   "cell_type": "markdown",
   "metadata": {},
   "source": [
    "#### Variable declarations"
   ]
  },
  {
   "cell_type": "markdown",
   "metadata": {},
   "source": [
    "directory – path to directory containing WAV files to be processed"
   ]
  },
  {
   "cell_type": "code",
   "execution_count": 2,
   "metadata": {
    "collapsed": true
   },
   "outputs": [],
   "source": [
    "directory = \"\""
   ]
  },
  {
   "cell_type": "code",
   "execution_count": 2,
   "metadata": {
    "collapsed": false
   },
   "outputs": [],
   "source": [
    "# set clip duration\n",
    "clip_duration = datetime.timedelta(minutes=5)"
   ]
  },
  {
   "cell_type": "code",
   "execution_count": 3,
   "metadata": {
    "collapsed": false
   },
   "outputs": [],
   "source": [
    "# set watch offset\n",
    "watch_offset = datetime.timedelta(minutes=2, seconds=25)\n",
    "watch_start_time = ''"
   ]
  },
  {
   "cell_type": "code",
   "execution_count": 4,
   "metadata": {
    "collapsed": true
   },
   "outputs": [],
   "source": [
    "# set time change offset\n",
    "time_shift = datetime.timedelta(hours=0)"
   ]
  },
  {
   "cell_type": "code",
   "execution_count": 84,
   "metadata": {
    "collapsed": false
   },
   "outputs": [],
   "source": [
    "# specify specific start time\n",
    "specific_start_time = {'enabled':True, 'hour':16, 'minute':45, 'second':10}"
   ]
  },
  {
   "cell_type": "code",
   "execution_count": 56,
   "metadata": {
    "collapsed": false
   },
   "outputs": [],
   "source": [
    "# set directories\n",
    "directory = '/Volumes/jPassport/alpine soundscapes/field recordings/2016-03-07/'\n",
    "os.chdir(directory)\n",
    "clip_directory = directory + 'clipped/'\n",
    "if os.path.exists(clip_directory):\n",
    "    os.rmdir(clip_directory)\n",
    "os.mkdir(clip_directory)"
   ]
  },
  {
   "cell_type": "code",
   "execution_count": 87,
   "metadata": {
    "collapsed": false
   },
   "outputs": [
    {
     "name": "stdout",
     "output_type": "stream",
     "text": [
      "['160301-164729.WAV']\n"
     ]
    }
   ],
   "source": [
    "# find all WAV files in directory\n",
    "#WAV_files = [f for f in listdir(directory) if os.path.isfile(os.path.join(directory, f)) and f.split('.')[1] == 'WAV']\n",
    "WAV_files = [f for f in listdir(directory) if os.path.isfile(os.path.join(directory, f)) and f.split('.')[1] == 'WAV' and f == '160301-164729.WAV']\n",
    "print(WAV_files)"
   ]
  },
  {
   "cell_type": "code",
   "execution_count": 88,
   "metadata": {
    "collapsed": false
   },
   "outputs": [
    {
     "name": "stdout",
     "output_type": "stream",
     "text": [
      "This operation was performed on 2016-05-08 17:06:27.391625\n",
      "The watch offset is set to: 0:02:25\n",
      " \n",
      "Found the following WAV files:\n",
      " \n",
      "160301-164729.WAV\n",
      " \n",
      "Processing...\n",
      " \n",
      "160301-164729.WAV\n",
      "watch start: 2016-03-01 16:45:04\n",
      "start offset: 0:00:06\n",
      "160301-164729.WAV --> will be clipped as --> 160301-164510.WAV\n",
      "Clipping . . . . . . . . . . . . . . . . . . . . . . . . . . . . . . . . . . . . . . . . . . . . . . . . . . . . . . . . . . . . . . . . . . . . . . . . . . . . . . . . . . . . . . . . . . . . . . . . . . . .  done.\n",
      " \n",
      " \n",
      "Done clipping all WAV files in the specified directory.\n"
     ]
    }
   ],
   "source": [
    "# clip all WAV files in the specified directory\n",
    "\n",
    "cliplog_path = './clipped/cliplog.txt'\n",
    "log_count = 0\n",
    "while os.path.exists(cliplog_path):\n",
    "    log_count = log_count + 1\n",
    "    cliplog_path = './clipped/cliplog_{0}.txt'.format(log_count)\n",
    "cliplog = open(cliplog_path, 'w')\n",
    "text = 'This operation was performed on %s' % str(datetime.datetime.now())\n",
    "printlog(cliplog, text)\n",
    "text = 'The watch offset is set to: %s' % str(watch_offset)\n",
    "printlog(cliplog, text)\n",
    "printlog(cliplog, ' ')\n",
    "text = 'Found the following WAV files:'\n",
    "printlog(cliplog, text)\n",
    "printlog(cliplog, ' ')\n",
    "for WAV_file in WAV_files:\n",
    "    text = WAV_file\n",
    "    printlog(cliplog, text)\n",
    "printlog(cliplog, ' ')\n",
    "text = 'Processing...'\n",
    "printlog(cliplog, text)\n",
    "printlog(cliplog, ' ')\n",
    "for WAV_file in WAV_files:\n",
    "    clip_offset, start_time = determine_clip_offset(WAV_file)\n",
    "    clip_WAV_file(WAV_file, clip_offset, start_time, cliplog)\n",
    "    printlog(cliplog, ' ')\n",
    "printlog(cliplog, ' ')\n",
    "text = 'Done clipping all WAV files in the specified directory.'\n",
    "printlog(cliplog, text)\n",
    "cliplog.close()"
   ]
  },
  {
   "cell_type": "code",
   "execution_count": 11,
   "metadata": {
    "collapsed": true
   },
   "outputs": [],
   "source": [
    "# open WAV file\n",
    "def open_WAV_file(path, mode):\n",
    "    WAV_file = wave.open(path, mode)\n",
    "    return WAV_file"
   ]
  },
  {
   "cell_type": "code",
   "execution_count": 44,
   "metadata": {
    "collapsed": false
   },
   "outputs": [],
   "source": [
    "# determine clip_offset from time in filename\n",
    "\n",
    "def determine_clip_offset(filename):\n",
    "\n",
    "    time_string = filename.split('.')[0]\n",
    "    time_year = int('20' + time_string[0:2])\n",
    "    time_month = int(time_string[2:4])\n",
    "    time_day = int(time_string[4:6])\n",
    "    time_hour = int(time_string[7:9])\n",
    "    time_minute = int(time_string[9:11])\n",
    "    time_second = int(time_string[11:13])\n",
    "\n",
    "    machine_start_time = datetime.datetime(year=time_year, month=time_month, day=time_day, hour=time_hour, minute=time_minute, second=time_second)\n",
    "    global watch_start_time\n",
    "    watch_start_time = (machine_start_time + time_shift) - watch_offset\n",
    "    \n",
    "    if specific_start_time['enabled']:\n",
    "        start_time = watch_start_time.replace(hour=specific_start_time['hour'], minute=specific_start_time['minute'], second=specific_start_time['second'])\n",
    "        end_time = start_time + clip_duration\n",
    "        clip_offset = start_time - watch_start_time\n",
    "    else:\n",
    "        a, r = divmod(watch_start_time.minute, 5)\n",
    "        start_minute = a*5 + 5\n",
    "        if start_minute == 60:\n",
    "            start_minute = 0\n",
    "            start_hour = watch_start_time.hour + 1\n",
    "        else:\n",
    "            start_hour = watch_start_time.hour\n",
    "\n",
    "        start_time = watch_start_time.replace(hour=start_hour, minute=start_minute, second=0)\n",
    "        end_time = start_time + clip_duration\n",
    "\n",
    "        clip_offset = start_time - watch_start_time\n",
    "    return clip_offset, start_time"
   ]
  },
  {
   "cell_type": "code",
   "execution_count": 13,
   "metadata": {
    "collapsed": false
   },
   "outputs": [],
   "source": [
    "# clip WAV file\n",
    "\n",
    "def clip_WAV_file(filename, clip_offset, start_time, cliplog):\n",
    "    \n",
    "    clip_filename = start_time.strftime('%y%m%d-%H%M%S.WAV')\n",
    "    if os.path.exists(os.path.join(clip_directory, clip_filename)):\n",
    "        os.remove(os.path.join(clip_directory, clip_filename))\n",
    "    waveread = open_WAV_file(os.path.join(directory, filename), 'rb')\n",
    "    wavewrite = open_WAV_file(os.path.join(clip_directory, clip_filename), 'wb')\n",
    "    \n",
    "    text = filename\n",
    "    printlog(cliplog, text)\n",
    "    text = 'watch start: %s' % str(watch_start_time)\n",
    "    printlog(cliplog, text)\n",
    "    text = 'start offset: %s' % str(clip_offset)\n",
    "    printlog(cliplog, text)\n",
    "    text = filename + ' --> will be clipped as --> ' + clip_filename\n",
    "    printlog(cliplog, text)\n",
    "\n",
    "    params = waveread.getparams()\n",
    "    framerate = params[2]\n",
    "    \n",
    "    nframes_read = int(clip_duration.total_seconds()*framerate)\n",
    "    nreads = 100\n",
    "    buffer_size = nframes_read / nreads\n",
    "    nframes_write = nframes_read\n",
    "    \n",
    "    wavewrite.setparams((params[0], params[1], framerate, nframes_write, params[4], params[5]))\n",
    "    \n",
    "    # report if time_shift is enabled\n",
    "    if time_shift:\n",
    "        text = 'NOTE: The clip was shifted %s hours forward! (daylight savings)' % str(time_shift)\n",
    "        printlog(cliplog, text)\n",
    "    \n",
    "    # check if clip offset should be shifted forward\n",
    "    recording_length = float(params[3])/framerate\n",
    "    clip_offset_shift = 0\n",
    "    while (clip_offset.total_seconds() + clip_duration.total_seconds()) > recording_length - 10:\n",
    "        clip_offset = clip_offset - datetime.timedelta(seconds=1)\n",
    "        clip_offset_shift = clip_offset_shift + 1\n",
    "    if clip_offset_shift:\n",
    "        text = 'NOTE: The clip offset was shifted %i seconds forward!' % clip_offset_shift\n",
    "        printlog(cliplog, text)\n",
    "    \n",
    "    startpos = int(clip_offset.total_seconds()*framerate)\n",
    "    waveread.setpos(startpos)\n",
    "    \n",
    "    print('Clipping'),\n",
    "    for w in xrange(nreads):\n",
    "        write_buffer = waveread.readframes(buffer_size)\n",
    "        wavewrite.writeframes(write_buffer)\n",
    "        print('.'),\n",
    "    print(' done.')\n",
    "    \n",
    "    wavewrite.close()\n",
    "    waveread.close()"
   ]
  },
  {
   "cell_type": "code",
   "execution_count": 14,
   "metadata": {
    "collapsed": true
   },
   "outputs": [],
   "source": [
    "# print and log text\n",
    "def printlog(file, text):\n",
    "    print(text)\n",
    "    file.write(text)\n",
    "    file.write('\\n')"
   ]
  },
  {
   "cell_type": "code",
   "execution_count": 86,
   "metadata": {
    "collapsed": false
   },
   "outputs": [
    {
     "name": "stdout",
     "output_type": "stream",
     "text": [
      "160301-143144.WAV:\n",
      "offset: 2:15:51 \n",
      "start : 2016-03-01 16:45:10 \n",
      "\n",
      "\n",
      "160301-145158.WAV:\n",
      "offset: 1:55:37 \n",
      "start : 2016-03-01 16:45:10 \n",
      "\n",
      "\n",
      "160301-153127.WAV:\n",
      "offset: 1:16:08 \n",
      "start : 2016-03-01 16:45:10 \n",
      "\n",
      "\n",
      "160301-160124.WAV:\n",
      "offset: 0:46:11 \n",
      "start : 2016-03-01 16:45:10 \n",
      "\n",
      "\n",
      "160301-161202.WAV:\n",
      "offset: 0:35:33 \n",
      "start : 2016-03-01 16:45:10 \n",
      "\n",
      "\n",
      "160301-164729.WAV:\n",
      "offset: 0:00:06 \n",
      "start : 2016-03-01 16:45:10 \n",
      "\n",
      "\n"
     ]
    }
   ],
   "source": [
    "# check time offset\n",
    "os.chdir(directory)\n",
    "# find all WAV files in directory\n",
    "WAV_files = [f for f in listdir(directory) if os.path.isfile(os.path.join(directory, f)) and f.split('.')[1] == 'WAV']\n",
    "for WAV_file in WAV_files:\n",
    "    clip_offset, start_time = determine_clip_offset(WAV_file)\n",
    "    print('%s:' % WAV_file)\n",
    "    print('offset: %s ' % str(clip_offset))\n",
    "    print('start : %s ' % str(start_time))\n",
    "    print('\\n')"
   ]
  }
 ],
 "metadata": {
  "kernelspec": {
   "display_name": "Python 3",
   "language": "python",
   "name": "python3"
  },
  "language_info": {
   "codemirror_mode": {
    "name": "ipython",
    "version": 3
   },
   "file_extension": ".py",
   "mimetype": "text/x-python",
   "name": "python",
   "nbconvert_exporter": "python",
   "pygments_lexer": "ipython3",
   "version": "3.5.1"
  }
 },
 "nbformat": 4,
 "nbformat_minor": 0
}
