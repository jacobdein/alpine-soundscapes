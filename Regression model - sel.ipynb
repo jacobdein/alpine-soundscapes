{
 "cells": [
  {
   "cell_type": "markdown",
   "metadata": {},
   "source": [
    "# Regression model—sound exposure level"
   ]
  },
  {
   "cell_type": "markdown",
   "metadata": {},
   "source": [
    "This notebook explores and models the data collected from recordings of the natural acoustic environment over the urban-rural gradient near Innsbruck, Austria. The models are implemented as Bayesian models with the PyMC3 probabilistic programming library.\n",
    "\n",
    "References:<br />\n",
    "https://github.com/fonnesbeck/multilevel_modeling<br />\n",
    "Gelman, A., & Hill, J. (2006). Data Analysis Using Regression and Multilevel/Hierarchical Models (1st ed.). Cambridge University Press."
   ]
  },
  {
   "cell_type": "markdown",
   "metadata": {},
   "source": [
    "#### Import statements"
   ]
  },
  {
   "cell_type": "code",
   "execution_count": 1,
   "metadata": {},
   "outputs": [],
   "source": [
    "import warnings\n",
    "warnings.filterwarnings('ignore')"
   ]
  },
  {
   "cell_type": "code",
   "execution_count": 2,
   "metadata": {},
   "outputs": [],
   "source": [
    "import pandas\n",
    "import numpy\n",
    "from os import path"
   ]
  },
  {
   "cell_type": "code",
   "execution_count": 3,
   "metadata": {},
   "outputs": [],
   "source": [
    "%matplotlib inline\n",
    "from matplotlib import pyplot\n",
    "from matplotlib.patches import Rectangle\n",
    "import seaborn"
   ]
  },
  {
   "cell_type": "code",
   "execution_count": 4,
   "metadata": {},
   "outputs": [],
   "source": [
    "from pymc3 import glm, Model, NUTS, sample, stats, \\\n",
    "                  forestplot, traceplot, plot_posterior, summary, \\\n",
    "                  Normal, Uniform, Deterministic, StudentT\n",
    "from pymc3.backends import Text"
   ]
  },
  {
   "cell_type": "code",
   "execution_count": 5,
   "metadata": {},
   "outputs": [],
   "source": [
    "from figures.figutils import style"
   ]
  },
  {
   "cell_type": "code",
   "execution_count": 6,
   "metadata": {},
   "outputs": [],
   "source": [
    "style.set_font()"
   ]
  },
  {
   "cell_type": "code",
   "execution_count": 7,
   "metadata": {},
   "outputs": [],
   "source": [
    "seaborn.set()"
   ]
  },
  {
   "cell_type": "markdown",
   "metadata": {},
   "source": [
    "#### Plot settings"
   ]
  },
  {
   "cell_type": "markdown",
   "metadata": {},
   "source": [
    "#### Variable definitions"
   ]
  },
  {
   "cell_type": "code",
   "execution_count": 8,
   "metadata": {},
   "outputs": [],
   "source": [
    "data_filepath = r\"C:\\Users\\JDDein\\OneDrive\\Documents\\alpine soundscapes\\data\\dataset_r.csv\""
   ]
  },
  {
   "cell_type": "code",
   "execution_count": 9,
   "metadata": {},
   "outputs": [],
   "source": [
    "trace_output_path = r\"C:\\Users\\JDDein\\OneDrive\\Documents\\alpine soundscapes\\data\\model traces\\sel\""
   ]
  },
  {
   "cell_type": "code",
   "execution_count": 10,
   "metadata": {},
   "outputs": [],
   "source": [
    "seaborn_blue = seaborn.color_palette()[0]"
   ]
  },
  {
   "cell_type": "markdown",
   "metadata": {},
   "source": [
    "## Load data"
   ]
  },
  {
   "cell_type": "code",
   "execution_count": 11,
   "metadata": {},
   "outputs": [],
   "source": [
    "data = pandas.read_csv(data_filepath)\n",
    "data = data.loc[data.site<=30]"
   ]
  },
  {
   "cell_type": "markdown",
   "metadata": {},
   "source": [
    "sort data by site and then by visit"
   ]
  },
  {
   "cell_type": "code",
   "execution_count": 12,
   "metadata": {},
   "outputs": [],
   "source": [
    "data_sorted = data.sort_values(by=['site', 'sound']).reset_index(drop=True)"
   ]
  },
  {
   "cell_type": "markdown",
   "metadata": {},
   "source": [
    "create sites variable for PyMC3 models"
   ]
  },
  {
   "cell_type": "code",
   "execution_count": 13,
   "metadata": {},
   "outputs": [],
   "source": [
    "sites = numpy.copy(data_sorted.site.values) - 1"
   ]
  },
  {
   "cell_type": "markdown",
   "metadata": {},
   "source": [
    "## Model 0 - emtpy model"
   ]
  },
  {
   "cell_type": "markdown",
   "metadata": {},
   "source": [
    "$$\n",
    "\\begin{align}\n",
    "y_{ts} \\sim \\mathcal{N}(\\alpha_s + \\epsilon_t, \\sigma_y^2) \\\\\n",
    "\\alpha_s \\sim \\mathcal{N}(M + \\epsilon_s, \\sigma_\\alpha^2) \\\\\n",
    "\\end{align}\n",
    "$$"
   ]
  },
  {
   "cell_type": "code",
   "execution_count": 14,
   "metadata": {},
   "outputs": [
    {
     "name": "stderr",
     "output_type": "stream",
     "text": [
      "Auto-assigning NUTS sampler...\n",
      "Initializing NUTS using jitter+adapt_diag...\n",
      "Multiprocess sampling (4 chains in 4 jobs)\n",
      "NUTS: [sigma_y, a, sigma_a, mu_grand]\n",
      "Sampling 4 chains: 100%|█████████████| 24000/24000 [00:48<00:00, 491.61draws/s]\n"
     ]
    }
   ],
   "source": [
    "with Model() as model0:\n",
    "    \n",
    "    # Priors\n",
    "    mu_grand = Normal('mu_grand', mu=0., tau=0.0001)\n",
    "    sigma_a = Uniform('sigma_a', lower=0, upper=100)\n",
    "    tau_a = sigma_a**-2\n",
    "    \n",
    "    # Random intercepts\n",
    "    a = Normal('a', mu=mu_grand, tau=tau_a, shape=len(set(sites)))\n",
    "    \n",
    "    # Model error\n",
    "    sigma_y = Uniform('sigma_y', lower=0, upper=100)\n",
    "    tau_y = sigma_y**-2\n",
    "    \n",
    "    # Expected value\n",
    "    y_hat = a[sites]\n",
    "    \n",
    "    # Data likelihood\n",
    "    y_like = Normal('y_like', mu=y_hat, tau=tau_y, observed=data_sorted.sel)\n",
    "    \n",
    "    # sample model\n",
    "    backend = Text(path.join(trace_output_path, \"model0\"))\n",
    "    model0_samples = sample(draws=5000, random_seed=1, trace=backend, \n",
    "                            discard_tuned_samples=True, target_accept=0.95, tune=1000)"
   ]
  },
  {
   "cell_type": "code",
   "execution_count": 15,
   "metadata": {},
   "outputs": [
    {
     "data": {
      "image/png": "[encoded data removed]",
      "text/plain": [
       "<Figure size 432x288 with 1 Axes>"
      ]
     },
     "metadata": {},
     "output_type": "display_data"
    }
   ],
   "source": [
    "fig, ax = pyplot.subplots()\n",
    "\n",
    "# organize results\n",
    "model0_data = pandas.DataFrame({'site': data_sorted.site.unique(), \n",
    "                                 'site_name': data_sorted.site_name.unique()}).set_index('site')\n",
    "model0_data['d2n_320m'] = data.groupby('site')['d2n_320m'].mean()\n",
    "model0_data['quantiles'] = [stats.quantiles(model0_samples.a[:5000, i]) for i in range(len(set(sites)))]\n",
    "\n",
    "# plot quantiles\n",
    "for i, row in model0_data.sort_values(by='d2n_320m').iterrows():\n",
    "    x = row['d2n_320m']\n",
    "    ax.plot([x, x], [row['quantiles'][2.5], row['quantiles'][97.5]], color='black', linewidth=0.5)\n",
    "    ax.plot([x, x], [row['quantiles'][25], row['quantiles'][75]], color='black', linewidth=1)\n",
    "    ax.scatter([x], [row['quantiles'][50]], color='black', marker='o')\n",
    "\n",
    "# format plot\n",
    "l1 = ax.set_xlim([0, 1])\n",
    "xl = ax.set_xlabel(\"forest land cover within 200 meters (percent area)\")\n",
    "yl = ax.set_ylabel(\"SEL (difference from grand mean)\")"
   ]
  },
  {
   "cell_type": "code",
   "execution_count": 16,
   "metadata": {},
   "outputs": [
    {
     "data": {
      "image/png": "[encoded data removed]",
      "text/plain": [
       "<Figure size 432x288 with 1 Axes>"
      ]
     },
     "metadata": {},
     "output_type": "display_data"
    }
   ],
   "source": [
    "fig, ax = pyplot.subplots()\n",
    "\n",
    "# organize results\n",
    "model0_data = pandas.DataFrame({'site': data_sorted.site.unique(), \n",
    "                                 'site_name': data_sorted.site_name.unique()}).set_index('site')\n",
    "model0_data['d2n_320m'] = data.groupby('site')['d2n_320m'].mean()\n",
    "model0_data['quantiles'] = [stats.quantiles(model0_samples.a[:5000, i]) for i in range(len(set(sites)))]\n",
    "\n",
    "# plot quantiles\n",
    "for i, row in model0_data.sort_values(by='d2n_320m').iterrows():\n",
    "    x = row['d2n_320m']\n",
    "    ax.plot([x, x], [row['quantiles'][2.5], row['quantiles'][97.5]], color='black', linewidth=0.5)\n",
    "    ax.plot([x, x], [row['quantiles'][25], row['quantiles'][75]], color='black', linewidth=1)\n",
    "    ax.scatter([x], [row['quantiles'][50]], color='black', marker='o')\n",
    "\n",
    "# format plot\n",
    "l1 = ax.set_xlim([0, 1])\n",
    "xl = ax.set_xlabel(\"d2n within 200 meters (percent area)\")\n",
    "yl = ax.set_ylabel(\"SEL (difference from grand mean)\")"
   ]
  },
  {
   "cell_type": "markdown",
   "metadata": {},
   "source": [
    "## Model 1—time and site predictors"
   ]
  },
  {
   "cell_type": "markdown",
   "metadata": {},
   "source": [
    "$$\n",
    "\\begin{align}\n",
    "\\text{level 1} \\\\\n",
    "y_{ts} \\sim \\mathcal{N}(\\alpha_s + \\beta_s T_t, \\sigma_y^2) \\\\\n",
    "\\text{level 2} \\\\\n",
    "\\alpha_s \\sim \\mathcal{N}(\\gamma_\\alpha + \\gamma_{\\alpha s} L_s, \\sigma_\\alpha^2) \\\\\n",
    "\\beta_s \\sim \\mathcal{N}(\\gamma_\\beta + \\gamma_{\\beta s} L_s, \\sigma_\\beta^2) \\\\\n",
    "\\end{align}\n",
    "$$"
   ]
  },
  {
   "cell_type": "code",
   "execution_count": 17,
   "metadata": {},
   "outputs": [
    {
     "name": "stderr",
     "output_type": "stream",
     "text": [
      "Auto-assigning NUTS sampler...\n",
      "Initializing NUTS using jitter+adapt_diag...\n",
      "Multiprocess sampling (4 chains in 4 jobs)\n",
      "NUTS: [sigma_y, b, sigma_b, g_bs, g_b, a, sigma_a, g_as, g_a]\n",
      "Sampling 4 chains: 100%|█████████████| 24000/24000 [03:37<00:00, 110.57draws/s]\n",
      "There were 384 divergences after tuning. Increase `target_accept` or reparameterize.\n",
      "The acceptance probability does not match the target. It is 0.8282541079561763, but should be close to 0.95. Try to increase the number of tuning steps.\n",
      "There were 107 divergences after tuning. Increase `target_accept` or reparameterize.\n",
      "The acceptance probability does not match the target. It is 0.9076614814980948, but should be close to 0.95. Try to increase the number of tuning steps.\n",
      "There were 75 divergences after tuning. Increase `target_accept` or reparameterize.\n",
      "There were 67 divergences after tuning. Increase `target_accept` or reparameterize.\n",
      "There were 384 divergences after tuning. Increase `target_accept` or reparameterize.\n",
      "The acceptance probability does not match the target. It is 0.8282541079561763, but should be close to 0.95. Try to increase the number of tuning steps.\n",
      "There were 107 divergences after tuning. Increase `target_accept` or reparameterize.\n",
      "The acceptance probability does not match the target. It is 0.9076614814980948, but should be close to 0.95. Try to increase the number of tuning steps.\n",
      "There were 75 divergences after tuning. Increase `target_accept` or reparameterize.\n",
      "There were 67 divergences after tuning. Increase `target_accept` or reparameterize.\n",
      "There were 384 divergences after tuning. Increase `target_accept` or reparameterize.\n",
      "The acceptance probability does not match the target. It is 0.8282541079561763, but should be close to 0.95. Try to increase the number of tuning steps.\n",
      "There were 107 divergences after tuning. Increase `target_accept` or reparameterize.\n",
      "The acceptance probability does not match the target. It is 0.9076614814980948, but should be close to 0.95. Try to increase the number of tuning steps.\n",
      "There were 75 divergences after tuning. Increase `target_accept` or reparameterize.\n",
      "There were 67 divergences after tuning. Increase `target_accept` or reparameterize.\n",
      "There were 384 divergences after tuning. Increase `target_accept` or reparameterize.\n",
      "The acceptance probability does not match the target. It is 0.8282541079561763, but should be close to 0.95. Try to increase the number of tuning steps.\n",
      "There were 107 divergences after tuning. Increase `target_accept` or reparameterize.\n",
      "The acceptance probability does not match the target. It is 0.9076614814980948, but should be close to 0.95. Try to increase the number of tuning steps.\n",
      "There were 75 divergences after tuning. Increase `target_accept` or reparameterize.\n",
      "There were 67 divergences after tuning. Increase `target_accept` or reparameterize.\n",
      "Auto-assigning NUTS sampler...\n",
      "Initializing NUTS using jitter+adapt_diag...\n",
      "Multiprocess sampling (4 chains in 4 jobs)\n",
      "NUTS: [sigma_y, b, sigma_b, g_bs, g_b, a, sigma_a, g_as, g_a]\n",
      "Sampling 4 chains: 100%|█████████████| 24000/24000 [03:45<00:00, 106.42draws/s]\n",
      "There were 669 divergences after tuning. Increase `target_accept` or reparameterize.\n",
      "The acceptance probability does not match the target. It is 0.7983791013638926, but should be close to 0.95. Try to increase the number of tuning steps.\n",
      "There were 777 divergences after tuning. Increase `target_accept` or reparameterize.\n",
      "The acceptance probability does not match the target. It is 0.7937089983486229, but should be close to 0.95. Try to increase the number of tuning steps.\n",
      "There were 225 divergences after tuning. Increase `target_accept` or reparameterize.\n",
      "The acceptance probability does not match the target. It is 0.8795192485356242, but should be close to 0.95. Try to increase the number of tuning steps.\n",
      "There were 81 divergences after tuning. Increase `target_accept` or reparameterize.\n",
      "There were 669 divergences after tuning. Increase `target_accept` or reparameterize.\n",
      "The acceptance probability does not match the target. It is 0.7983791013638926, but should be close to 0.95. Try to increase the number of tuning steps.\n",
      "There were 777 divergences after tuning. Increase `target_accept` or reparameterize.\n",
      "The acceptance probability does not match the target. It is 0.7937089983486229, but should be close to 0.95. Try to increase the number of tuning steps.\n",
      "There were 225 divergences after tuning. Increase `target_accept` or reparameterize.\n",
      "The acceptance probability does not match the target. It is 0.8795192485356242, but should be close to 0.95. Try to increase the number of tuning steps.\n",
      "There were 81 divergences after tuning. Increase `target_accept` or reparameterize.\n",
      "There were 669 divergences after tuning. Increase `target_accept` or reparameterize.\n",
      "The acceptance probability does not match the target. It is 0.7983791013638926, but should be close to 0.95. Try to increase the number of tuning steps.\n",
      "There were 777 divergences after tuning. Increase `target_accept` or reparameterize.\n",
      "The acceptance probability does not match the target. It is 0.7937089983486229, but should be close to 0.95. Try to increase the number of tuning steps.\n",
      "There were 225 divergences after tuning. Increase `target_accept` or reparameterize.\n",
      "The acceptance probability does not match the target. It is 0.8795192485356242, but should be close to 0.95. Try to increase the number of tuning steps.\n",
      "There were 81 divergences after tuning. Increase `target_accept` or reparameterize.\n",
      "There were 669 divergences after tuning. Increase `target_accept` or reparameterize.\n",
      "The acceptance probability does not match the target. It is 0.7983791013638926, but should be close to 0.95. Try to increase the number of tuning steps.\n",
      "There were 777 divergences after tuning. Increase `target_accept` or reparameterize.\n",
      "The acceptance probability does not match the target. It is 0.7937089983486229, but should be close to 0.95. Try to increase the number of tuning steps.\n",
      "There were 225 divergences after tuning. Increase `target_accept` or reparameterize.\n",
      "The acceptance probability does not match the target. It is 0.8795192485356242, but should be close to 0.95. Try to increase the number of tuning steps.\n",
      "There were 81 divergences after tuning. Increase `target_accept` or reparameterize.\n",
      "Auto-assigning NUTS sampler...\n",
      "Initializing NUTS using jitter+adapt_diag...\n",
      "Multiprocess sampling (4 chains in 4 jobs)\n",
      "NUTS: [sigma_y, b, sigma_b, g_bs, g_b, a, sigma_a, g_as, g_a]\n",
      "Sampling 4 chains: 100%|█████████████| 24000/24000 [02:40<00:00, 149.13draws/s]\n",
      "There were 2968 divergences after tuning. Increase `target_accept` or reparameterize.\n",
      "The acceptance probability does not match the target. It is 0.39958240127947403, but should be close to 0.95. Try to increase the number of tuning steps.\n",
      "There were 56 divergences after tuning. Increase `target_accept` or reparameterize.\n",
      "There were 840 divergences after tuning. Increase `target_accept` or reparameterize.\n",
      "The acceptance probability does not match the target. It is 0.7893721790539846, but should be close to 0.95. Try to increase the number of tuning steps.\n",
      "There were 695 divergences after tuning. Increase `target_accept` or reparameterize.\n",
      "The acceptance probability does not match the target. It is 0.8171453298214942, but should be close to 0.95. Try to increase the number of tuning steps.\n",
      "There were 2968 divergences after tuning. Increase `target_accept` or reparameterize.\n",
      "The acceptance probability does not match the target. It is 0.39958240127947403, but should be close to 0.95. Try to increase the number of tuning steps.\n",
      "There were 56 divergences after tuning. Increase `target_accept` or reparameterize.\n",
      "There were 840 divergences after tuning. Increase `target_accept` or reparameterize.\n",
      "The acceptance probability does not match the target. It is 0.7893721790539846, but should be close to 0.95. Try to increase the number of tuning steps.\n",
      "There were 695 divergences after tuning. Increase `target_accept` or reparameterize.\n",
      "The acceptance probability does not match the target. It is 0.8171453298214942, but should be close to 0.95. Try to increase the number of tuning steps.\n",
      "There were 2968 divergences after tuning. Increase `target_accept` or reparameterize.\n"
     ]
    },
    {
     "name": "stderr",
     "output_type": "stream",
     "text": [
      "The acceptance probability does not match the target. It is 0.39958240127947403, but should be close to 0.95. Try to increase the number of tuning steps.\n",
      "There were 56 divergences after tuning. Increase `target_accept` or reparameterize.\n",
      "There were 840 divergences after tuning. Increase `target_accept` or reparameterize.\n",
      "The acceptance probability does not match the target. It is 0.7893721790539846, but should be close to 0.95. Try to increase the number of tuning steps.\n",
      "There were 695 divergences after tuning. Increase `target_accept` or reparameterize.\n",
      "The acceptance probability does not match the target. It is 0.8171453298214942, but should be close to 0.95. Try to increase the number of tuning steps.\n",
      "There were 2968 divergences after tuning. Increase `target_accept` or reparameterize.\n",
      "The acceptance probability does not match the target. It is 0.39958240127947403, but should be close to 0.95. Try to increase the number of tuning steps.\n",
      "There were 56 divergences after tuning. Increase `target_accept` or reparameterize.\n",
      "There were 840 divergences after tuning. Increase `target_accept` or reparameterize.\n",
      "The acceptance probability does not match the target. It is 0.7893721790539846, but should be close to 0.95. Try to increase the number of tuning steps.\n",
      "There were 695 divergences after tuning. Increase `target_accept` or reparameterize.\n",
      "The acceptance probability does not match the target. It is 0.8171453298214942, but should be close to 0.95. Try to increase the number of tuning steps.\n",
      "Auto-assigning NUTS sampler...\n",
      "Initializing NUTS using jitter+adapt_diag...\n",
      "Multiprocess sampling (4 chains in 4 jobs)\n",
      "NUTS: [sigma_y, b, sigma_b, g_bs, g_b, a, sigma_a, g_as, g_a]\n",
      "Sampling 4 chains: 100%|█████████████| 24000/24000 [02:44<00:00, 145.94draws/s]\n",
      "There were 828 divergences after tuning. Increase `target_accept` or reparameterize.\n",
      "The acceptance probability does not match the target. It is 0.7732704910326419, but should be close to 0.95. Try to increase the number of tuning steps.\n",
      "There were 252 divergences after tuning. Increase `target_accept` or reparameterize.\n",
      "The acceptance probability does not match the target. It is 0.8429193183439427, but should be close to 0.95. Try to increase the number of tuning steps.\n",
      "There were 251 divergences after tuning. Increase `target_accept` or reparameterize.\n",
      "The acceptance probability does not match the target. It is 0.907136256275362, but should be close to 0.95. Try to increase the number of tuning steps.\n",
      "There were 60 divergences after tuning. Increase `target_accept` or reparameterize.\n",
      "There were 828 divergences after tuning. Increase `target_accept` or reparameterize.\n",
      "The acceptance probability does not match the target. It is 0.7732704910326419, but should be close to 0.95. Try to increase the number of tuning steps.\n",
      "There were 252 divergences after tuning. Increase `target_accept` or reparameterize.\n",
      "The acceptance probability does not match the target. It is 0.8429193183439427, but should be close to 0.95. Try to increase the number of tuning steps.\n",
      "There were 251 divergences after tuning. Increase `target_accept` or reparameterize.\n",
      "The acceptance probability does not match the target. It is 0.907136256275362, but should be close to 0.95. Try to increase the number of tuning steps.\n",
      "There were 60 divergences after tuning. Increase `target_accept` or reparameterize.\n",
      "There were 828 divergences after tuning. Increase `target_accept` or reparameterize.\n",
      "The acceptance probability does not match the target. It is 0.7732704910326419, but should be close to 0.95. Try to increase the number of tuning steps.\n",
      "There were 252 divergences after tuning. Increase `target_accept` or reparameterize.\n",
      "The acceptance probability does not match the target. It is 0.8429193183439427, but should be close to 0.95. Try to increase the number of tuning steps.\n",
      "There were 251 divergences after tuning. Increase `target_accept` or reparameterize.\n",
      "The acceptance probability does not match the target. It is 0.907136256275362, but should be close to 0.95. Try to increase the number of tuning steps.\n",
      "There were 60 divergences after tuning. Increase `target_accept` or reparameterize.\n",
      "There were 828 divergences after tuning. Increase `target_accept` or reparameterize.\n",
      "The acceptance probability does not match the target. It is 0.7732704910326419, but should be close to 0.95. Try to increase the number of tuning steps.\n",
      "There were 252 divergences after tuning. Increase `target_accept` or reparameterize.\n",
      "The acceptance probability does not match the target. It is 0.8429193183439427, but should be close to 0.95. Try to increase the number of tuning steps.\n",
      "There were 251 divergences after tuning. Increase `target_accept` or reparameterize.\n",
      "The acceptance probability does not match the target. It is 0.907136256275362, but should be close to 0.95. Try to increase the number of tuning steps.\n",
      "There were 60 divergences after tuning. Increase `target_accept` or reparameterize.\n",
      "Auto-assigning NUTS sampler...\n",
      "Initializing NUTS using jitter+adapt_diag...\n",
      "Multiprocess sampling (4 chains in 4 jobs)\n",
      "NUTS: [sigma_y, b, sigma_b, g_bs, g_b, a, sigma_a, g_as, g_a]\n",
      "Sampling 4 chains:  97%|████████████▋| 23325/24000 [02:12<00:03, 175.88draws/s]\n"
     ]
    },
    {
     "ename": "ValueError",
     "evalue": "Stop value in slice not supported.",
     "output_type": "error",
     "traceback": [
      "\u001b[1;31m---------------------------------------------------------------------------\u001b[0m",
      "\u001b[1;31mKeyboardInterrupt\u001b[0m                         Traceback (most recent call last)",
      "\u001b[1;32m~\\AppData\\Local\\Continuum\\miniconda3\\envs\\pymc3\\lib\\site-packages\\pymc3\\sampling.py\u001b[0m in \u001b[0;36m_mp_sample\u001b[1;34m(draws, tune, step, chains, cores, chain, random_seed, start, progressbar, trace, model, **kwargs)\u001b[0m\n\u001b[0;32m    968\u001b[0m             \u001b[1;32mwith\u001b[0m \u001b[0msampler\u001b[0m\u001b[1;33m:\u001b[0m\u001b[1;33m\u001b[0m\u001b[1;33m\u001b[0m\u001b[0m\n\u001b[1;32m--> 969\u001b[1;33m                 \u001b[1;32mfor\u001b[0m \u001b[0mdraw\u001b[0m \u001b[1;32min\u001b[0m \u001b[0msampler\u001b[0m\u001b[1;33m:\u001b[0m\u001b[1;33m\u001b[0m\u001b[1;33m\u001b[0m\u001b[0m\n\u001b[0m\u001b[0;32m    970\u001b[0m                     \u001b[0mtrace\u001b[0m \u001b[1;33m=\u001b[0m \u001b[0mtraces\u001b[0m\u001b[1;33m[\u001b[0m\u001b[0mdraw\u001b[0m\u001b[1;33m.\u001b[0m\u001b[0mchain\u001b[0m \u001b[1;33m-\u001b[0m \u001b[0mchain\u001b[0m\u001b[1;33m]\u001b[0m\u001b[1;33m\u001b[0m\u001b[1;33m\u001b[0m\u001b[0m\n",
      "\u001b[1;32m~\\AppData\\Local\\Continuum\\miniconda3\\envs\\pymc3\\lib\\site-packages\\pymc3\\parallel_sampling.py\u001b[0m in \u001b[0;36m__iter__\u001b[1;34m(self)\u001b[0m\n\u001b[0;32m    392\u001b[0m         \u001b[1;32mwhile\u001b[0m \u001b[0mself\u001b[0m\u001b[1;33m.\u001b[0m\u001b[0m_active\u001b[0m\u001b[1;33m:\u001b[0m\u001b[1;33m\u001b[0m\u001b[1;33m\u001b[0m\u001b[0m\n\u001b[1;32m--> 393\u001b[1;33m             \u001b[0mdraw\u001b[0m \u001b[1;33m=\u001b[0m \u001b[0mProcessAdapter\u001b[0m\u001b[1;33m.\u001b[0m\u001b[0mrecv_draw\u001b[0m\u001b[1;33m(\u001b[0m\u001b[0mself\u001b[0m\u001b[1;33m.\u001b[0m\u001b[0m_active\u001b[0m\u001b[1;33m)\u001b[0m\u001b[1;33m\u001b[0m\u001b[1;33m\u001b[0m\u001b[0m\n\u001b[0m\u001b[0;32m    394\u001b[0m             \u001b[0mproc\u001b[0m\u001b[1;33m,\u001b[0m \u001b[0mis_last\u001b[0m\u001b[1;33m,\u001b[0m \u001b[0mdraw\u001b[0m\u001b[1;33m,\u001b[0m \u001b[0mtuning\u001b[0m\u001b[1;33m,\u001b[0m \u001b[0mstats\u001b[0m\u001b[1;33m,\u001b[0m \u001b[0mwarns\u001b[0m \u001b[1;33m=\u001b[0m \u001b[0mdraw\u001b[0m\u001b[1;33m\u001b[0m\u001b[1;33m\u001b[0m\u001b[0m\n",
      "\u001b[1;32m~\\AppData\\Local\\Continuum\\miniconda3\\envs\\pymc3\\lib\\site-packages\\pymc3\\parallel_sampling.py\u001b[0m in \u001b[0;36mrecv_draw\u001b[1;34m(processes, timeout)\u001b[0m\n\u001b[0;32m    283\u001b[0m         \u001b[0mpipes\u001b[0m \u001b[1;33m=\u001b[0m \u001b[1;33m[\u001b[0m\u001b[0mproc\u001b[0m\u001b[1;33m.\u001b[0m\u001b[0m_msg_pipe\u001b[0m \u001b[1;32mfor\u001b[0m \u001b[0mproc\u001b[0m \u001b[1;32min\u001b[0m \u001b[0mprocesses\u001b[0m\u001b[1;33m]\u001b[0m\u001b[1;33m\u001b[0m\u001b[1;33m\u001b[0m\u001b[0m\n\u001b[1;32m--> 284\u001b[1;33m         \u001b[0mready\u001b[0m \u001b[1;33m=\u001b[0m \u001b[0mmultiprocessing\u001b[0m\u001b[1;33m.\u001b[0m\u001b[0mconnection\u001b[0m\u001b[1;33m.\u001b[0m\u001b[0mwait\u001b[0m\u001b[1;33m(\u001b[0m\u001b[0mpipes\u001b[0m\u001b[1;33m)\u001b[0m\u001b[1;33m\u001b[0m\u001b[1;33m\u001b[0m\u001b[0m\n\u001b[0m\u001b[0;32m    285\u001b[0m         \u001b[1;32mif\u001b[0m \u001b[1;32mnot\u001b[0m \u001b[0mready\u001b[0m\u001b[1;33m:\u001b[0m\u001b[1;33m\u001b[0m\u001b[1;33m\u001b[0m\u001b[0m\n",
      "\u001b[1;32m~\\AppData\\Local\\Continuum\\miniconda3\\envs\\pymc3\\lib\\multiprocessing\\connection.py\u001b[0m in \u001b[0;36mwait\u001b[1;34m(object_list, timeout)\u001b[0m\n\u001b[0;32m    867\u001b[0m \u001b[1;33m\u001b[0m\u001b[0m\n\u001b[1;32m--> 868\u001b[1;33m             \u001b[0mready_handles\u001b[0m \u001b[1;33m=\u001b[0m \u001b[0m_exhaustive_wait\u001b[0m\u001b[1;33m(\u001b[0m\u001b[0mwaithandle_to_obj\u001b[0m\u001b[1;33m.\u001b[0m\u001b[0mkeys\u001b[0m\u001b[1;33m(\u001b[0m\u001b[1;33m)\u001b[0m\u001b[1;33m,\u001b[0m \u001b[0mtimeout\u001b[0m\u001b[1;33m)\u001b[0m\u001b[1;33m\u001b[0m\u001b[1;33m\u001b[0m\u001b[0m\n\u001b[0m\u001b[0;32m    869\u001b[0m         \u001b[1;32mfinally\u001b[0m\u001b[1;33m:\u001b[0m\u001b[1;33m\u001b[0m\u001b[1;33m\u001b[0m\u001b[0m\n",
      "\u001b[1;32m~\\AppData\\Local\\Continuum\\miniconda3\\envs\\pymc3\\lib\\multiprocessing\\connection.py\u001b[0m in \u001b[0;36m_exhaustive_wait\u001b[1;34m(handles, timeout)\u001b[0m\n\u001b[0;32m    799\u001b[0m         \u001b[1;32mwhile\u001b[0m \u001b[0mL\u001b[0m\u001b[1;33m:\u001b[0m\u001b[1;33m\u001b[0m\u001b[1;33m\u001b[0m\u001b[0m\n\u001b[1;32m--> 800\u001b[1;33m             \u001b[0mres\u001b[0m \u001b[1;33m=\u001b[0m \u001b[0m_winapi\u001b[0m\u001b[1;33m.\u001b[0m\u001b[0mWaitForMultipleObjects\u001b[0m\u001b[1;33m(\u001b[0m\u001b[0mL\u001b[0m\u001b[1;33m,\u001b[0m \u001b[1;32mFalse\u001b[0m\u001b[1;33m,\u001b[0m \u001b[0mtimeout\u001b[0m\u001b[1;33m)\u001b[0m\u001b[1;33m\u001b[0m\u001b[1;33m\u001b[0m\u001b[0m\n\u001b[0m\u001b[0;32m    801\u001b[0m             \u001b[1;32mif\u001b[0m \u001b[0mres\u001b[0m \u001b[1;33m==\u001b[0m \u001b[0mWAIT_TIMEOUT\u001b[0m\u001b[1;33m:\u001b[0m\u001b[1;33m\u001b[0m\u001b[1;33m\u001b[0m\u001b[0m\n",
      "\u001b[1;31mKeyboardInterrupt\u001b[0m: ",
      "\nDuring handling of the above exception, another exception occurred:\n",
      "\u001b[1;31mValueError\u001b[0m                                Traceback (most recent call last)",
      "\u001b[1;32m<ipython-input-17-8df826f969ed>\u001b[0m in \u001b[0;36m<module>\u001b[1;34m\u001b[0m\n\u001b[0;32m     53\u001b[0m         model_1_samples = sample(draws=5000, random_seed=1, trace=backend, \n\u001b[0;32m     54\u001b[0m                                  \u001b[0mdiscard_tuned_samples\u001b[0m\u001b[1;33m=\u001b[0m\u001b[1;32mTrue\u001b[0m\u001b[1;33m,\u001b[0m \u001b[0mtarget_accept\u001b[0m\u001b[1;33m=\u001b[0m\u001b[1;36m0.95\u001b[0m\u001b[1;33m,\u001b[0m \u001b[0mtune\u001b[0m\u001b[1;33m=\u001b[0m\u001b[1;36m1000\u001b[0m\u001b[1;33m,\u001b[0m\u001b[1;33m\u001b[0m\u001b[1;33m\u001b[0m\u001b[0m\n\u001b[1;32m---> 55\u001b[1;33m                                  compute_convergence_checks=False)\n\u001b[0m",
      "\u001b[1;32m~\\AppData\\Local\\Continuum\\miniconda3\\envs\\pymc3\\lib\\site-packages\\pymc3\\sampling.py\u001b[0m in \u001b[0;36msample\u001b[1;34m(draws, step, init, n_init, start, trace, chain_idx, chains, cores, tune, progressbar, model, random_seed, discard_tuned_samples, compute_convergence_checks, **kwargs)\u001b[0m\n\u001b[0;32m    435\u001b[0m             \u001b[0m_print_step_hierarchy\u001b[0m\u001b[1;33m(\u001b[0m\u001b[0mstep\u001b[0m\u001b[1;33m)\u001b[0m\u001b[1;33m\u001b[0m\u001b[1;33m\u001b[0m\u001b[0m\n\u001b[0;32m    436\u001b[0m             \u001b[1;32mtry\u001b[0m\u001b[1;33m:\u001b[0m\u001b[1;33m\u001b[0m\u001b[1;33m\u001b[0m\u001b[0m\n\u001b[1;32m--> 437\u001b[1;33m                 \u001b[0mtrace\u001b[0m \u001b[1;33m=\u001b[0m \u001b[0m_mp_sample\u001b[0m\u001b[1;33m(\u001b[0m\u001b[1;33m**\u001b[0m\u001b[0msample_args\u001b[0m\u001b[1;33m)\u001b[0m\u001b[1;33m\u001b[0m\u001b[1;33m\u001b[0m\u001b[0m\n\u001b[0m\u001b[0;32m    438\u001b[0m             \u001b[1;32mexcept\u001b[0m \u001b[0mpickle\u001b[0m\u001b[1;33m.\u001b[0m\u001b[0mPickleError\u001b[0m\u001b[1;33m:\u001b[0m\u001b[1;33m\u001b[0m\u001b[1;33m\u001b[0m\u001b[0m\n\u001b[0;32m    439\u001b[0m                 \u001b[0m_log\u001b[0m\u001b[1;33m.\u001b[0m\u001b[0mwarning\u001b[0m\u001b[1;33m(\u001b[0m\u001b[1;34m\"Could not pickle model, sampling singlethreaded.\"\u001b[0m\u001b[1;33m)\u001b[0m\u001b[1;33m\u001b[0m\u001b[1;33m\u001b[0m\u001b[0m\n",
      "\u001b[1;32m~\\AppData\\Local\\Continuum\\miniconda3\\envs\\pymc3\\lib\\site-packages\\pymc3\\sampling.py\u001b[0m in \u001b[0;36m_mp_sample\u001b[1;34m(draws, tune, step, chains, cores, chain, random_seed, start, progressbar, trace, model, **kwargs)\u001b[0m\n\u001b[0;32m    990\u001b[0m     \u001b[1;32mexcept\u001b[0m \u001b[0mKeyboardInterrupt\u001b[0m\u001b[1;33m:\u001b[0m\u001b[1;33m\u001b[0m\u001b[1;33m\u001b[0m\u001b[0m\n\u001b[0;32m    991\u001b[0m         \u001b[0mtraces\u001b[0m\u001b[1;33m,\u001b[0m \u001b[0mlength\u001b[0m \u001b[1;33m=\u001b[0m \u001b[0m_choose_chains\u001b[0m\u001b[1;33m(\u001b[0m\u001b[0mtraces\u001b[0m\u001b[1;33m,\u001b[0m \u001b[0mtune\u001b[0m\u001b[1;33m)\u001b[0m\u001b[1;33m\u001b[0m\u001b[1;33m\u001b[0m\u001b[0m\n\u001b[1;32m--> 992\u001b[1;33m         \u001b[1;32mreturn\u001b[0m \u001b[0mMultiTrace\u001b[0m\u001b[1;33m(\u001b[0m\u001b[0mtraces\u001b[0m\u001b[1;33m)\u001b[0m\u001b[1;33m[\u001b[0m\u001b[1;33m:\u001b[0m\u001b[0mlength\u001b[0m\u001b[1;33m]\u001b[0m\u001b[1;33m\u001b[0m\u001b[1;33m\u001b[0m\u001b[0m\n\u001b[0m\u001b[0;32m    993\u001b[0m     \u001b[1;32mfinally\u001b[0m\u001b[1;33m:\u001b[0m\u001b[1;33m\u001b[0m\u001b[1;33m\u001b[0m\u001b[0m\n\u001b[0;32m    994\u001b[0m         \u001b[1;32mfor\u001b[0m \u001b[0mtrace\u001b[0m \u001b[1;32min\u001b[0m \u001b[0mtraces\u001b[0m\u001b[1;33m:\u001b[0m\u001b[1;33m\u001b[0m\u001b[1;33m\u001b[0m\u001b[0m\n",
      "\u001b[1;32m~\\AppData\\Local\\Continuum\\miniconda3\\envs\\pymc3\\lib\\site-packages\\pymc3\\backends\\base.py\u001b[0m in \u001b[0;36m__getitem__\u001b[1;34m(self, idx)\u001b[0m\n\u001b[0;32m    290\u001b[0m     \u001b[1;32mdef\u001b[0m \u001b[0m__getitem__\u001b[0m\u001b[1;33m(\u001b[0m\u001b[0mself\u001b[0m\u001b[1;33m,\u001b[0m \u001b[0midx\u001b[0m\u001b[1;33m)\u001b[0m\u001b[1;33m:\u001b[0m\u001b[1;33m\u001b[0m\u001b[1;33m\u001b[0m\u001b[0m\n\u001b[0;32m    291\u001b[0m         \u001b[1;32mif\u001b[0m \u001b[0misinstance\u001b[0m\u001b[1;33m(\u001b[0m\u001b[0midx\u001b[0m\u001b[1;33m,\u001b[0m \u001b[0mslice\u001b[0m\u001b[1;33m)\u001b[0m\u001b[1;33m:\u001b[0m\u001b[1;33m\u001b[0m\u001b[1;33m\u001b[0m\u001b[0m\n\u001b[1;32m--> 292\u001b[1;33m             \u001b[1;32mreturn\u001b[0m \u001b[0mself\u001b[0m\u001b[1;33m.\u001b[0m\u001b[0m_slice\u001b[0m\u001b[1;33m(\u001b[0m\u001b[0midx\u001b[0m\u001b[1;33m)\u001b[0m\u001b[1;33m\u001b[0m\u001b[1;33m\u001b[0m\u001b[0m\n\u001b[0m\u001b[0;32m    293\u001b[0m \u001b[1;33m\u001b[0m\u001b[0m\n\u001b[0;32m    294\u001b[0m         \u001b[1;32mtry\u001b[0m\u001b[1;33m:\u001b[0m\u001b[1;33m\u001b[0m\u001b[1;33m\u001b[0m\u001b[0m\n",
      "\u001b[1;32m~\\AppData\\Local\\Continuum\\miniconda3\\envs\\pymc3\\lib\\site-packages\\pymc3\\backends\\base.py\u001b[0m in \u001b[0;36m_slice\u001b[1;34m(self, slice)\u001b[0m\n\u001b[0;32m    494\u001b[0m     \u001b[1;32mdef\u001b[0m \u001b[0m_slice\u001b[0m\u001b[1;33m(\u001b[0m\u001b[0mself\u001b[0m\u001b[1;33m,\u001b[0m \u001b[0mslice\u001b[0m\u001b[1;33m)\u001b[0m\u001b[1;33m:\u001b[0m\u001b[1;33m\u001b[0m\u001b[1;33m\u001b[0m\u001b[0m\n\u001b[0;32m    495\u001b[0m         \u001b[1;34m\"\"\"Return a new MultiTrace object sliced according to `slice`.\"\"\"\u001b[0m\u001b[1;33m\u001b[0m\u001b[1;33m\u001b[0m\u001b[0m\n\u001b[1;32m--> 496\u001b[1;33m         \u001b[0mnew_traces\u001b[0m \u001b[1;33m=\u001b[0m \u001b[1;33m[\u001b[0m\u001b[0mtrace\u001b[0m\u001b[1;33m.\u001b[0m\u001b[0m_slice\u001b[0m\u001b[1;33m(\u001b[0m\u001b[0mslice\u001b[0m\u001b[1;33m)\u001b[0m \u001b[1;32mfor\u001b[0m \u001b[0mtrace\u001b[0m \u001b[1;32min\u001b[0m \u001b[0mself\u001b[0m\u001b[1;33m.\u001b[0m\u001b[0m_straces\u001b[0m\u001b[1;33m.\u001b[0m\u001b[0mvalues\u001b[0m\u001b[1;33m(\u001b[0m\u001b[1;33m)\u001b[0m\u001b[1;33m]\u001b[0m\u001b[1;33m\u001b[0m\u001b[1;33m\u001b[0m\u001b[0m\n\u001b[0m\u001b[0;32m    497\u001b[0m         \u001b[0mtrace\u001b[0m \u001b[1;33m=\u001b[0m \u001b[0mMultiTrace\u001b[0m\u001b[1;33m(\u001b[0m\u001b[0mnew_traces\u001b[0m\u001b[1;33m)\u001b[0m\u001b[1;33m\u001b[0m\u001b[1;33m\u001b[0m\u001b[0m\n\u001b[0;32m    498\u001b[0m         \u001b[0midxs\u001b[0m \u001b[1;33m=\u001b[0m \u001b[0mslice\u001b[0m\u001b[1;33m.\u001b[0m\u001b[0mindices\u001b[0m\u001b[1;33m(\u001b[0m\u001b[0mlen\u001b[0m\u001b[1;33m(\u001b[0m\u001b[0mself\u001b[0m\u001b[1;33m)\u001b[0m\u001b[1;33m)\u001b[0m\u001b[1;33m\u001b[0m\u001b[1;33m\u001b[0m\u001b[0m\n",
      "\u001b[1;32m~\\AppData\\Local\\Continuum\\miniconda3\\envs\\pymc3\\lib\\site-packages\\pymc3\\backends\\base.py\u001b[0m in \u001b[0;36m<listcomp>\u001b[1;34m(.0)\u001b[0m\n\u001b[0;32m    494\u001b[0m     \u001b[1;32mdef\u001b[0m \u001b[0m_slice\u001b[0m\u001b[1;33m(\u001b[0m\u001b[0mself\u001b[0m\u001b[1;33m,\u001b[0m \u001b[0mslice\u001b[0m\u001b[1;33m)\u001b[0m\u001b[1;33m:\u001b[0m\u001b[1;33m\u001b[0m\u001b[1;33m\u001b[0m\u001b[0m\n\u001b[0;32m    495\u001b[0m         \u001b[1;34m\"\"\"Return a new MultiTrace object sliced according to `slice`.\"\"\"\u001b[0m\u001b[1;33m\u001b[0m\u001b[1;33m\u001b[0m\u001b[0m\n\u001b[1;32m--> 496\u001b[1;33m         \u001b[0mnew_traces\u001b[0m \u001b[1;33m=\u001b[0m \u001b[1;33m[\u001b[0m\u001b[0mtrace\u001b[0m\u001b[1;33m.\u001b[0m\u001b[0m_slice\u001b[0m\u001b[1;33m(\u001b[0m\u001b[0mslice\u001b[0m\u001b[1;33m)\u001b[0m \u001b[1;32mfor\u001b[0m \u001b[0mtrace\u001b[0m \u001b[1;32min\u001b[0m \u001b[0mself\u001b[0m\u001b[1;33m.\u001b[0m\u001b[0m_straces\u001b[0m\u001b[1;33m.\u001b[0m\u001b[0mvalues\u001b[0m\u001b[1;33m(\u001b[0m\u001b[1;33m)\u001b[0m\u001b[1;33m]\u001b[0m\u001b[1;33m\u001b[0m\u001b[1;33m\u001b[0m\u001b[0m\n\u001b[0m\u001b[0;32m    497\u001b[0m         \u001b[0mtrace\u001b[0m \u001b[1;33m=\u001b[0m \u001b[0mMultiTrace\u001b[0m\u001b[1;33m(\u001b[0m\u001b[0mnew_traces\u001b[0m\u001b[1;33m)\u001b[0m\u001b[1;33m\u001b[0m\u001b[1;33m\u001b[0m\u001b[0m\n\u001b[0;32m    498\u001b[0m         \u001b[0midxs\u001b[0m \u001b[1;33m=\u001b[0m \u001b[0mslice\u001b[0m\u001b[1;33m.\u001b[0m\u001b[0mindices\u001b[0m\u001b[1;33m(\u001b[0m\u001b[0mlen\u001b[0m\u001b[1;33m(\u001b[0m\u001b[0mself\u001b[0m\u001b[1;33m)\u001b[0m\u001b[1;33m)\u001b[0m\u001b[1;33m\u001b[0m\u001b[1;33m\u001b[0m\u001b[0m\n",
      "\u001b[1;32m~\\AppData\\Local\\Continuum\\miniconda3\\envs\\pymc3\\lib\\site-packages\\pymc3\\backends\\text.py\u001b[0m in \u001b[0;36m_slice\u001b[1;34m(self, idx)\u001b[0m\n\u001b[0;32m    141\u001b[0m     \u001b[1;32mdef\u001b[0m \u001b[0m_slice\u001b[0m\u001b[1;33m(\u001b[0m\u001b[0mself\u001b[0m\u001b[1;33m,\u001b[0m \u001b[0midx\u001b[0m\u001b[1;33m)\u001b[0m\u001b[1;33m:\u001b[0m\u001b[1;33m\u001b[0m\u001b[1;33m\u001b[0m\u001b[0m\n\u001b[0;32m    142\u001b[0m         \u001b[1;32mif\u001b[0m \u001b[0midx\u001b[0m\u001b[1;33m.\u001b[0m\u001b[0mstop\u001b[0m \u001b[1;32mis\u001b[0m \u001b[1;32mnot\u001b[0m \u001b[1;32mNone\u001b[0m\u001b[1;33m:\u001b[0m\u001b[1;33m\u001b[0m\u001b[1;33m\u001b[0m\u001b[0m\n\u001b[1;32m--> 143\u001b[1;33m             \u001b[1;32mraise\u001b[0m \u001b[0mValueError\u001b[0m\u001b[1;33m(\u001b[0m\u001b[1;34m'Stop value in slice not supported.'\u001b[0m\u001b[1;33m)\u001b[0m\u001b[1;33m\u001b[0m\u001b[1;33m\u001b[0m\u001b[0m\n\u001b[0m\u001b[0;32m    144\u001b[0m         \u001b[1;32mreturn\u001b[0m \u001b[0mndarray\u001b[0m\u001b[1;33m.\u001b[0m\u001b[0m_slice_as_ndarray\u001b[0m\u001b[1;33m(\u001b[0m\u001b[0mself\u001b[0m\u001b[1;33m,\u001b[0m \u001b[0midx\u001b[0m\u001b[1;33m)\u001b[0m\u001b[1;33m\u001b[0m\u001b[1;33m\u001b[0m\u001b[0m\n\u001b[0;32m    145\u001b[0m \u001b[1;33m\u001b[0m\u001b[0m\n",
      "\u001b[1;31mValueError\u001b[0m: Stop value in slice not supported."
     ]
    }
   ],
   "source": [
    "site_predictors = ['Buildings_5m', 'Buildings_10m', 'Buildings_20m', 'Buildings_40m',\n",
    "        'Buildings_80m', 'Buildings_160m', 'Buildings_320m', 'Buildings_640m',\n",
    "       'Buildings_1280m', 'Buildings_2560m', 'Other_constructed_areas_5m',\n",
    "       'Other_constructed_areas_10m', 'Other_constructed_areas_20m',\n",
    "       'Other_constructed_areas_40m', 'Other_constructed_areas_80m',\n",
    "       'Other_constructed_areas_160m', 'Other_constructed_areas_320m',\n",
    "       'Other_constructed_areas_640m', 'Other_constructed_areas_1280m',\n",
    "       'Other_constructed_areas_2560m', 'Trees_5m', 'Trees_10m', 'Trees_20m',\n",
    "       'Trees_40m', 'Trees_80m', 'Trees_160m', 'Trees_320m', 'Trees_640m',\n",
    "       'Trees_1280m', 'Trees_2560m', 'Herbaceous_vegetation_5m',\n",
    "       'Herbaceous_vegetation_10m', 'Herbaceous_vegetation_20m',\n",
    "       'Herbaceous_vegetation_40m', 'Herbaceous_vegetation_80m',\n",
    "       'Herbaceous_vegetation_160m', 'Herbaceous_vegetation_320m',\n",
    "       'Herbaceous_vegetation_640m', 'Herbaceous_vegetation_1280m',\n",
    "       'Herbaceous_vegetation_2560m', 'd2n_5m', 'd2n_10m', 'd2n_20m',\n",
    "       'd2n_40m', 'd2n_80m', 'd2n_160m', 'd2n_320m', 'd2n_640m', 'd2n_1280m',\n",
    "       'd2n_2560m',\n",
    "]\n",
    "for predictor in site_predictors:\n",
    "    with Model() as model_1:\n",
    "\n",
    "        # intercept\n",
    "        g_a = Normal('g_a', mu=0, tau=0.001)\n",
    "        g_as = Normal('g_as', mu=0, tau=0.001)\n",
    "        sigma_a = Uniform('sigma_a', lower=0, upper=100)\n",
    "        tau_a = sigma_a**-2\n",
    "        mu_a = g_a + (g_as * data_sorted.groupby('site')[predictor].mean())\n",
    "        a = Normal('a', mu=mu_a, tau=tau_a, shape=len(set(sites)))\n",
    "\n",
    "        # slope\n",
    "        g_b = Normal('g_b', mu=0, tau=0.001)\n",
    "        g_bs = Normal('g_bs', mu=0, tau=0.001)\n",
    "        sigma_b = Uniform('sigma_b', lower=0, upper=100)\n",
    "        tau_b = sigma_b**-2\n",
    "        mu_b = g_b + (g_bs * data_sorted.groupby('site')[predictor].mean())\n",
    "        b = Normal('b', mu=mu_b, tau=tau_b, shape=len(set(sites)))\n",
    "\n",
    "        # model error (data-level)\n",
    "        sigma_y = Uniform('sigma_y', lower=0, upper=100)\n",
    "        tau_y = sigma_y**-2\n",
    "\n",
    "        # expected values\n",
    "        y_hat = a[sites] + (b[sites] * data_sorted.week)\n",
    "\n",
    "        # likelihood\n",
    "        y_like = Normal('y_like', mu=y_hat, tau=tau_y, observed=data_sorted.sel)\n",
    "\n",
    "        # simulated\n",
    "        #y_sim = Normal('y_sim', mu=y_hat, tau=tau_y, shape=y_hat.tag.test_value.shape)\n",
    "\n",
    "        # sample model\n",
    "        backend = Text(path.join(trace_output_path, \"model1_{}\".format(predictor)))\n",
    "        model_1_samples = sample(draws=5000, random_seed=1, trace=backend, \n",
    "                                 discard_tuned_samples=True, target_accept=1, tune=20000, \n",
    "                                 compute_convergence_checks=False)"
   ]
  },
  {
   "cell_type": "code",
   "execution_count": null,
   "metadata": {},
   "outputs": [],
   "source": [
    "fig = pyplot.figure()\n",
    "\n",
    "fig.set_figwidth(6.85)\n",
    "fig.set_figheight(6.85/2)\n",
    "\n",
    "ax_a = pyplot.subplot2grid((1, 2), (0, 0), rowspan=1, colspan=1)\n",
    "ax_b = pyplot.subplot2grid((1, 2), (0, 1), rowspan=1, colspan=1, sharex=ax_a)\n",
    "\n",
    "fig.subplots_adjust(left=0, bottom=0, right=1, top=1)\n",
    "\n",
    "# organize results\n",
    "model_1_data = pandas.DataFrame({'site': data_sorted.site.unique(), \n",
    "                                 'site_name': data_sorted.site_name.unique()})\n",
    "model_1_data['d2n_320m'] = data.groupby('site')['d2n_320m'].mean()\n",
    "model_1_data['quantiles_a'] = [stats.quantiles(model_1_samples['a'][:5000][:, i]) for i in range(len(set(sites)))]\n",
    "model_1_data['quantiles_b'] = [stats.quantiles(model_1_samples['b'][:5000][:, i]) for i in range(len(set(sites)))]\n",
    "\n",
    "# plot quantiles\n",
    "for i, row in model_1_data.sort_values(by='d2n_320m').iterrows():\n",
    "    x = row['d2n_320m']\n",
    "    #ax_a.plot([x, x], [row['quantiles_a'][2.5], row['quantiles_a'][97.5]], color='black', linewidth=0.5)\n",
    "    ax_a.plot([x, x], [row['quantiles_a'][25], row['quantiles_a'][75]], color='black', linewidth=1)\n",
    "    ax_a.scatter([x], [row['quantiles_a'][50]], color='black', marker='o')\n",
    "\n",
    "# format plot\n",
    "l1 = ax_a.set_xlim([0, 100])\n",
    "xl = ax_a.set_xlabel(\"forest land cover within 200 meters (percent area)\")\n",
    "yl = ax_a.set_ylabel(\"sel (decibel difference from grand mean)\")\n",
    "\n",
    "# plot quantiles\n",
    "for i, row in model_1_data.sort_values(by='d2n_320m').iterrows():\n",
    "    x = row['d2n_320m']\n",
    "    #ax_b.plot([x, x], [row['quantiles_b'][2.5], row['quantiles_b'][97.5]], color='black', linewidth=0.5)\n",
    "    ax_b.plot([x, x], [row['quantiles_b'][25], row['quantiles_b'][75]], color='black', linewidth=1)\n",
    "    ax_b.scatter([x], [row['quantiles_b'][50]], color='black', marker='o')\n",
    "\n",
    "# format plot\n",
    "l1 = ax_b.set_xlim([0, 1])\n",
    "l2 = ax_b.set_ylim((-2, 2))\n",
    "xl = ax_b.set_xlabel(\"forest land cover within 200 meters (percent area)\")\n",
    "yl = ax_b.set_ylabel(\"rate of change of sel (dB/week)\")"
   ]
  },
  {
   "cell_type": "code",
   "execution_count": null,
   "metadata": {},
   "outputs": [],
   "source": [
    "fig = pyplot.figure()\n",
    "\n",
    "fig.set_figwidth(6.85)\n",
    "fig.set_figheight(6.85/2)\n",
    "\n",
    "ax_a = pyplot.subplot2grid((1, 2), (0, 0), rowspan=1, colspan=1)\n",
    "ax_b = pyplot.subplot2grid((1, 2), (0, 1), rowspan=1, colspan=1, sharex=ax_a)\n",
    "\n",
    "fig.subplots_adjust(left=0, bottom=0, right=1, top=1)\n",
    "\n",
    "# organize results\n",
    "model_1_data = pandas.DataFrame({'site': data_sorted.site.unique(), \n",
    "                                 'site_name': data_sorted.site_name.unique()})\n",
    "model_1_data['d2n_640m'] = data.groupby('site')['d2n_640m'].mean()\n",
    "model_1_data['quantiles_a'] = [stats.quantiles(model_1_samples['a'][:5000][:, i]) for i in range(len(set(sites)))]\n",
    "model_1_data['quantiles_b'] = [stats.quantiles(model_1_samples['b'][:5000][:, i]) for i in range(len(set(sites)))]\n",
    "\n",
    "# plot quantiles\n",
    "for i, row in model_1_data.sort_values(by='d2n_640m').iterrows():\n",
    "    x = row['d2n_640m']\n",
    "    #ax_a.plot([x, x], [row['quantiles_a'][2.5], row['quantiles_a'][97.5]], color='black', linewidth=0.5)\n",
    "    ax_a.plot([x, x], [row['quantiles_a'][25], row['quantiles_a'][75]], color='black', linewidth=1)\n",
    "    ax_a.scatter([x], [row['quantiles_a'][50]], color='black', marker='o')\n",
    "\n",
    "# format plot\n",
    "l1 = ax_a.set_xlim([0, 0.6])\n",
    "xl = ax_a.set_xlabel(\"d2n within 500 meters (percent area)\")\n",
    "yl = ax_a.set_ylabel(\"sel (decibel difference from grand mean)\")\n",
    "\n",
    "# plot quantiles\n",
    "for i, row in model_1_data.sort_values(by='d2n_640m').iterrows():\n",
    "    x = row['d2n_640m']\n",
    "    #ax_b.plot([x, x], [row['quantiles_b'][2.5], row['quantiles_b'][97.5]], color='black', linewidth=0.5)\n",
    "    ax_b.plot([x, x], [row['quantiles_b'][25], row['quantiles_b'][75]], color='black', linewidth=1)\n",
    "    ax_b.scatter([x], [row['quantiles_b'][50]], color='black', marker='o')\n",
    "\n",
    "# format plot\n",
    "l1 = ax_b.set_xlim([0, 0.6])\n",
    "l2 = ax_b.set_ylim((-2, 2))\n",
    "xl = ax_b.set_xlabel(\"d2n within 500 meters (percent area)\")\n",
    "yl = ax_b.set_ylabel(\"rate of change of sel (dB/week)\")"
   ]
  },
  {
   "cell_type": "markdown",
   "metadata": {},
   "source": [
    "## Model 2—environmental predictors"
   ]
  },
  {
   "cell_type": "markdown",
   "metadata": {},
   "source": [
    "$$\n",
    "\\begin{align}\n",
    "\\text{level 1} \\\\\n",
    "y_{ts} \\sim \\mathcal{N}(\\alpha_s + \\beta_s T_t, \\sigma_y^2) \\\\\n",
    "\\text{level 2} \\\\\n",
    "\\alpha_s \\sim \\mathcal{N}(\\gamma_\\alpha + \\gamma_{\\alpha s} L_s, \\sigma_\\alpha^2) \\\\\n",
    "\\beta_s \\sim \\mathcal{N}(\\gamma_\\beta + \\gamma_{\\beta s} L_s, \\sigma_\\beta^2) \\\\\n",
    "\\end{align}\n",
    "$$"
   ]
  },
  {
   "cell_type": "code",
   "execution_count": 23,
   "metadata": {},
   "outputs": [
    {
     "name": "stderr",
     "output_type": "stream",
     "text": [
      "100%|██████████| 10000/10000 [08:59<00:00, 18.53it/s]\n",
      "100%|██████████| 10000/10000 [08:49<00:00, 18.90it/s]\n",
      "100%|██████████| 10000/10000 [11:56<00:00, 44.45it/s]\n",
      "100%|██████████| 10000/10000 [17:43<00:00,  9.41it/s]\n"
     ]
    }
   ],
   "source": [
    "measurement_predictors = [\n",
    "    'temperature', 'wind_speed', 'precipitation', 'pressure',\n",
    "]\n",
    "for predictor in measurement_predictors:\n",
    "    with Model() as model2a:\n",
    "\n",
    "        # intercept\n",
    "        g_a = Normal('g_a', mu=0, tau=0.001)\n",
    "        g_as = Normal('g_as', mu=0, tau=0.001)\n",
    "        sigma_a = Uniform('sigma_a', lower=0, upper=100)\n",
    "        tau_a = sigma_a**-2\n",
    "        mu_a = g_a + (g_as * data_sorted.groupby('site')['forest_200m'].mean())\n",
    "        a = Normal('a', mu=mu_a, tau=tau_a, shape=len(set(sites)))\n",
    "\n",
    "        # time slope\n",
    "        g_b = Normal('g_b', mu=0, tau=0.001)\n",
    "        g_bs = Normal('g_bs', mu=0, tau=0.001)\n",
    "        sigma_b = Uniform('sigma_b', lower=0, upper=100)\n",
    "        tau_b = sigma_b**-2\n",
    "        mu_b = g_b + (g_bs * data_sorted.groupby('site')['forest_200m'].mean())\n",
    "        b = Normal('b', mu=mu_b, tau=tau_b, shape=len(set(sites)))\n",
    "\n",
    "        # temp slope\n",
    "        #g_c = Normal('g_c', mu=0, tau=0.001)\n",
    "        #g_cs = Normal('g_cs', mu=0, tau=0.001)\n",
    "        #sigma_c = Uniform('sigma_c', lower=0, upper=100)\n",
    "        #tau_c = sigma_c**-2\n",
    "        #mu_c = g_c + (g_cs * data_sorted.groupby('site')['forest_200m'].mean())\n",
    "        #c = Normal('c', mu=mu_c, tau=tau_c, shape=len(set(sites)))\n",
    "        c = Uniform('c', lower=-100, upper=100)\n",
    "\n",
    "        # model error (data-level)\n",
    "        sigma_y = Uniform('sigma_y', lower=0, upper=100)\n",
    "        tau_y = sigma_y**-2\n",
    "\n",
    "        # expected values\n",
    "        y_hat = a[sites] + (b[sites] * data_sorted.week) + (c * data_sorted[predictor])\n",
    "\n",
    "        # likelihood\n",
    "        y_like = Normal('y_like', mu=y_hat, tau=tau_y, observed=data_sorted.sel)\n",
    "\n",
    "        # simulated\n",
    "        #y_sim = Normal('y_sim', mu=y_hat, tau=tau_y, shape=y_hat.tag.test_value.shape)\n",
    "\n",
    "        # sample model\n",
    "        backend = SQLite(path.join(trace_output_path, \"model2a_{0}.sqlite\".format(predictor)))\n",
    "        model_2_samples = sample(draws=10000, step=NUTS(), random_seed=1, trace=backend)"
   ]
  },
  {
   "cell_type": "code",
   "execution_count": 24,
   "metadata": {},
   "outputs": [
    {
     "name": "stderr",
     "output_type": "stream",
     "text": [
      "INFO (theano.gof.compilelock): Waiting for existing lock by process '29643' (I am process '29703')\n",
      "INFO (theano.gof.compilelock): To manually release the lock, delete /Users/Jake/.theano/compiledir_Darwin-16.6.0-x86_64-i386-64bit-i386-3.5.2-64/lock_dir\n",
      "100%|██████████| 10000/10000 [18:10<00:00,  9.17it/s]\n",
      "100%|██████████| 10000/10000 [17:21<00:00,  9.60it/s]\n",
      "100%|██████████| 10000/10000 [1:17:41<00:00,  2.60it/s]\n",
      "100%|██████████| 10000/10000 [19:32<00:00,  8.53it/s]\n"
     ]
    }
   ],
   "source": [
    "measurement_predictors = [\n",
    "    'temperature', 'wind_speed', 'precipitation', 'pressure',\n",
    "]\n",
    "for predictor in measurement_predictors:\n",
    "    with Model() as model2b:\n",
    "\n",
    "        # intercept\n",
    "        g_a = Normal('g_a', mu=0, tau=0.001)\n",
    "        g_as = Normal('g_as', mu=0, tau=0.001)\n",
    "        sigma_a = Uniform('sigma_a', lower=0, upper=100)\n",
    "        tau_a = sigma_a**-2\n",
    "        mu_a = g_a + (g_as * data_sorted.groupby('site')['forest_200m'].mean())\n",
    "        a = Normal('a', mu=mu_a, tau=tau_a, shape=len(set(sites)))\n",
    "\n",
    "        # time slope\n",
    "        g_b = Normal('g_b', mu=0, tau=0.001)\n",
    "        g_bs = Normal('g_bs', mu=0, tau=0.001)\n",
    "        sigma_b = Uniform('sigma_b', lower=0, upper=100)\n",
    "        tau_b = sigma_b**-2\n",
    "        mu_b = g_b + (g_bs * data_sorted.groupby('site')['forest_200m'].mean())\n",
    "        b = Normal('b', mu=mu_b, tau=tau_b, shape=len(set(sites)))\n",
    "\n",
    "        # predictor slope\n",
    "        g_c = Normal('g_c', mu=0, tau=0.001)\n",
    "        g_cs = Normal('g_cs', mu=0, tau=0.001)\n",
    "        sigma_c = Uniform('sigma_c', lower=0, upper=100)\n",
    "        tau_c = sigma_c**-2\n",
    "        mu_c = g_c + (g_cs * data_sorted.groupby('site')['forest_200m'].mean())\n",
    "        c = Normal('c', mu=mu_c, tau=tau_c, shape=len(set(sites)))\n",
    "\n",
    "        # model error (data-level)\n",
    "        sigma_y = Uniform('sigma_y', lower=0, upper=100)\n",
    "        tau_y = sigma_y**-2\n",
    "\n",
    "        # expected values\n",
    "        y_hat = a[sites] + (b[sites] * data_sorted.week) + (c[sites] * data_sorted[predictor])\n",
    "\n",
    "        # likelihood\n",
    "        y_like = Normal('y_like', mu=y_hat, tau=tau_y, observed=data_sorted.sel)\n",
    "\n",
    "        # simulated\n",
    "        #y_sim = Normal('y_sim', mu=y_hat, tau=tau_y, shape=y_hat.tag.test_value.shape)\n",
    "\n",
    "        # sample model\n",
    "        backend = SQLite(path.join(trace_output_path, \"model2b_{0}.sqlite\".format(predictor)))\n",
    "        model_2_samples = sample(draws=10000, step=NUTS(), random_seed=1, trace=backend)"
   ]
  },
  {
   "cell_type": "code",
   "execution_count": 26,
   "metadata": {},
   "outputs": [
    {
     "data": {
      "image/png": "[encoded data removed]",
      "text/plain": [
       "<matplotlib.figure.Figure at 0x1dbe09748>"
      ]
     },
     "metadata": {},
     "output_type": "display_data"
    }
   ],
   "source": [
    "fig, ax = pyplot.subplots()\n",
    "\n",
    "# organize results\n",
    "model_2_data = pandas.DataFrame({'site': data_sorted.site.unique(), \n",
    "                                 'site_name': data_sorted.site_name.unique()})\n",
    "model_2_data['forest_200m'] = data_sorted.forest_200m.unique()\n",
    "model_2_data['quantiles'] = [stats.quantiles(model_2_samples['c'][:1000][:, i]) for i in range(len(set(sites)))]\n",
    "\n",
    "# plot quantiles\n",
    "for i, row in model_2_data.sort_values(by='forest_200m').iterrows():\n",
    "    x = row['forest_200m']\n",
    "    ax.plot([x, x], [row['quantiles'][2.5], row['quantiles'][97.5]], color='black', linewidth=0.5)\n",
    "    ax.plot([x, x], [row['quantiles'][25], row['quantiles'][75]], color='black', linewidth=1)\n",
    "    ax.scatter([x], [row['quantiles'][50]], color='black', marker='o')\n",
    "\n",
    "# format plot\n",
    "l1 = ax.set_xlim([0, 100])\n",
    "xl = ax.set_xlabel(\"forest land cover within 200 meters (percent area)\")\n",
    "yl = ax.set_ylabel(\"percent biophony (difference from grand mean)\")"
   ]
  }
 ],
 "metadata": {
  "anaconda-cloud": {},
  "kernelspec": {
   "display_name": "Python 3",
   "language": "python",
   "name": "python3"
  },
  "language_info": {
   "codemirror_mode": {
    "name": "ipython",
    "version": 3
   },
   "file_extension": ".py",
   "mimetype": "text/x-python",
   "name": "python",
   "nbconvert_exporter": "python",
   "pygments_lexer": "ipython3",
   "version": "3.7.3"
  }
 },
 "nbformat": 4,
 "nbformat_minor": 1
}
