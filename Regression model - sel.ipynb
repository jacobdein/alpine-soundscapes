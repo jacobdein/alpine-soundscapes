{
 "cells": [
  {
   "cell_type": "markdown",
   "metadata": {},
   "source": [
    "# Regression model—sound exposure level"
   ]
  },
  {
   "cell_type": "markdown",
   "metadata": {},
   "source": [
    "This notebook explores and models the data collected from recordings of the natural acoustic environment over the urban-rural gradient near Innsbruck, Austria. The models are implemented as Bayesian models with the PyMC3 probabilistic programming library.\n",
    "\n",
    "References:<br />\n",
    "https://github.com/fonnesbeck/multilevel_modeling<br />\n",
    "Gelman, A., & Hill, J. (2006). Data Analysis Using Regression and Multilevel/Hierarchical Models (1st ed.). Cambridge University Press."
   ]
  },
  {
   "cell_type": "markdown",
   "metadata": {},
   "source": [
    "#### Import statements"
   ]
  },
  {
   "cell_type": "code",
   "execution_count": 1,
   "metadata": {},
   "outputs": [],
   "source": [
    "import warnings\n",
    "warnings.filterwarnings('ignore')"
   ]
  },
  {
   "cell_type": "code",
   "execution_count": 2,
   "metadata": {},
   "outputs": [],
   "source": [
    "import pandas\n",
    "import numpy\n",
    "from os import path"
   ]
  },
  {
   "cell_type": "code",
   "execution_count": 3,
   "metadata": {},
   "outputs": [],
   "source": [
    "%matplotlib inline\n",
    "from matplotlib import pyplot\n",
    "from matplotlib.patches import Rectangle\n",
    "import seaborn"
   ]
  },
  {
   "cell_type": "code",
   "execution_count": 4,
   "metadata": {},
   "outputs": [],
   "source": [
    "from pymc3 import glm, Model, NUTS, sample, stats, \\\n",
    "                  forestplot, traceplot, plot_posterior, summary, \\\n",
    "                  Normal, Uniform, Deterministic, StudentT\n",
    "from pymc3.backends import SQLite"
   ]
  },
  {
   "cell_type": "markdown",
   "metadata": {},
   "source": [
    "#### Plot settings"
   ]
  },
  {
   "cell_type": "code",
   "execution_count": 5,
   "metadata": {},
   "outputs": [],
   "source": [
    "from matplotlib import rcParams"
   ]
  },
  {
   "cell_type": "code",
   "execution_count": 6,
   "metadata": {},
   "outputs": [
    {
     "data": {
      "text/plain": [
       "['DejaVu Sans',\n",
       " 'Bitstream Vera Sans',\n",
       " 'Computer Modern Sans Serif',\n",
       " 'Lucida Grande',\n",
       " 'Verdana',\n",
       " 'Geneva',\n",
       " 'Lucid',\n",
       " 'Arial',\n",
       " 'Helvetica',\n",
       " 'Avant Garde',\n",
       " 'sans-serif']"
      ]
     },
     "execution_count": 6,
     "metadata": {},
     "output_type": "execute_result"
    }
   ],
   "source": [
    "rcParams['font.sans-serif']"
   ]
  },
  {
   "cell_type": "code",
   "execution_count": 7,
   "metadata": {},
   "outputs": [],
   "source": [
    "rcParams['font.sans-serif'] = ['Helvetica',\n",
    "                               'Arial',\n",
    "                               'Bitstream Vera Sans',\n",
    "                               'DejaVu Sans',\n",
    "                               'Lucida Grande',\n",
    "                               'Verdana',\n",
    "                               'Geneva',\n",
    "                               'Lucid',\n",
    "                               'Avant Garde',\n",
    "                               'sans-serif']"
   ]
  },
  {
   "cell_type": "markdown",
   "metadata": {},
   "source": [
    "#### Variable definitions"
   ]
  },
  {
   "cell_type": "code",
   "execution_count": 8,
   "metadata": {},
   "outputs": [],
   "source": [
    "data_filepath = \"/Users/Jake/OneDrive/Documents/alpine soundscapes/data/dataset.csv\""
   ]
  },
  {
   "cell_type": "code",
   "execution_count": 9,
   "metadata": {},
   "outputs": [],
   "source": [
    "trace_output_path = \"/Users/Jake/OneDrive/Documents/alpine soundscapes/data/model traces/sel\""
   ]
  },
  {
   "cell_type": "code",
   "execution_count": 10,
   "metadata": {},
   "outputs": [],
   "source": [
    "seaborn_blue = seaborn.color_palette()[0]"
   ]
  },
  {
   "cell_type": "markdown",
   "metadata": {},
   "source": [
    "## Load data"
   ]
  },
  {
   "cell_type": "code",
   "execution_count": 11,
   "metadata": {},
   "outputs": [],
   "source": [
    "data = pandas.read_csv(data_filepath)\n",
    "data = data.loc[data.site<=30]"
   ]
  },
  {
   "cell_type": "markdown",
   "metadata": {},
   "source": [
    "sort data by site and then by visit"
   ]
  },
  {
   "cell_type": "code",
   "execution_count": 12,
   "metadata": {},
   "outputs": [],
   "source": [
    "data_sorted = data.sort_values(by=['site', 'sound']).reset_index(drop=True)"
   ]
  },
  {
   "cell_type": "markdown",
   "metadata": {},
   "source": [
    "transform variables (mean center)"
   ]
  },
  {
   "cell_type": "code",
   "execution_count": 13,
   "metadata": {},
   "outputs": [],
   "source": [
    "column_list = ['sel', 'sel_anthrophony', 'sel_biophony', 'biophony', 'week', \n",
    "    'building_50m', 'pavement_50m', 'forest_50m', 'field_50m',\n",
    "    'building_100m', 'pavement_100m', 'forest_100m', 'field_100m',\n",
    "    'building_200m', 'pavement_200m', 'forest_200m', 'field_200m',\n",
    "    'building_500m', 'pavement_500m', 'forest_500m', 'field_500m',\n",
    "    'd2n_50m', 'd2n_100m', 'd2n_200m', 'd2n_500m',\n",
    "    'temperature', 'wind_speed', 'pressure', 'bus_stop',\n",
    "    'construction', 'crossing', 'cycleway', 'elevator', 'escape', 'footway',\n",
    "    'living_street', 'motorway', 'motorway_link', 'path', 'pedestrian',\n",
    "    'platform', 'primary_road', 'primary_link', 'proposed', 'residential',\n",
    "    'rest_area', 'secondary', 'secondary_link', 'service', 'services',\n",
    "    'steps', 'tertiary', 'tertiary_link', 'track', 'unclassified', 'combo']\n",
    "\n",
    "data_centered = data_sorted.copy()\n",
    "for column in column_list:\n",
    "    data_centered[column] = data_sorted[column] - data_sorted[column].mean()"
   ]
  },
  {
   "cell_type": "markdown",
   "metadata": {},
   "source": [
    "create sites variable for PyMC3 models"
   ]
  },
  {
   "cell_type": "code",
   "execution_count": 14,
   "metadata": {},
   "outputs": [],
   "source": [
    "sites = numpy.copy(data_sorted.site.values) - 1"
   ]
  },
  {
   "cell_type": "markdown",
   "metadata": {},
   "source": [
    "## Model 0 - emtpy model"
   ]
  },
  {
   "cell_type": "markdown",
   "metadata": {},
   "source": [
    "$$\n",
    "\\begin{align}\n",
    "y_{ts} \\sim \\mathcal{N}(\\alpha_s + \\epsilon_t, \\sigma_y^2) \\\\\n",
    "\\alpha_s \\sim \\mathcal{N}(M + \\epsilon_s, \\sigma_\\alpha^2) \\\\\n",
    "\\end{align}\n",
    "$$"
   ]
  },
  {
   "cell_type": "code",
   "execution_count": 15,
   "metadata": {},
   "outputs": [
    {
     "name": "stderr",
     "output_type": "stream",
     "text": [
      "100%|██████████| 10500/10500 [00:20<00:00, 511.43it/s]\n"
     ]
    }
   ],
   "source": [
    "with Model() as model0:\n",
    "    \n",
    "    # Priors\n",
    "    mu_grand = Normal('mu_grand', mu=0., tau=0.0001)\n",
    "    sigma_a = Uniform('sigma_a', lower=0, upper=100)\n",
    "    tau_a = sigma_a**-2\n",
    "    \n",
    "    # Random intercepts\n",
    "    a = Normal('a', mu=mu_grand, tau=tau_a, shape=len(set(sites)))\n",
    "    \n",
    "    # Model error\n",
    "    sigma_y = Uniform('sigma_y', lower=0, upper=100)\n",
    "    tau_y = sigma_y**-2\n",
    "    \n",
    "    # Expected value\n",
    "    y_hat = a[sites]\n",
    "    \n",
    "    # Data likelihood\n",
    "    y_like = Normal('y_like', mu=y_hat, tau=tau_y, observed=data_centered.sel)\n",
    "    \n",
    "    # sample model\n",
    "    backend = SQLite(path.join(trace_output_path, \"model0.sqlite\"))\n",
    "    model0_samples = sample(draws=10000, step=NUTS(), random_seed=1, trace=backend)"
   ]
  },
  {
   "cell_type": "code",
   "execution_count": 16,
   "metadata": {},
   "outputs": [
    {
     "data": {
      "image/png": "[encoded data removed]",
      "text/plain": [
       "<matplotlib.figure.Figure at 0x1c1a835cf8>"
      ]
     },
     "metadata": {},
     "output_type": "display_data"
    }
   ],
   "source": [
    "fig, ax = pyplot.subplots()\n",
    "\n",
    "# organize results\n",
    "model0_data = pandas.DataFrame({'site': data_sorted.site.unique(), \n",
    "                                 'site_name': data_sorted.site_name.unique()}).set_index('site')\n",
    "model0_data['forest_200m'] = data.groupby('site')['forest_200m'].mean()\n",
    "model0_data['quantiles'] = [stats.quantiles(model0_samples.a[:5000, i]) for i in range(len(set(sites)))]\n",
    "\n",
    "# plot quantiles\n",
    "for i, row in model0_data.sort_values(by='forest_200m').iterrows():\n",
    "    x = row['forest_200m']\n",
    "    ax.plot([x, x], [row['quantiles'][2.5], row['quantiles'][97.5]], color='black', linewidth=0.5)\n",
    "    ax.plot([x, x], [row['quantiles'][25], row['quantiles'][75]], color='black', linewidth=1)\n",
    "    ax.scatter([x], [row['quantiles'][50]], color='black', marker='o')\n",
    "\n",
    "# format plot\n",
    "l1 = ax.set_xlim([0, 100])\n",
    "xl = ax.set_xlabel(\"forest land cover within 200 meters (percent area)\")\n",
    "yl = ax.set_ylabel(\"SEL (difference from grand mean)\")"
   ]
  },
  {
   "cell_type": "code",
   "execution_count": 17,
   "metadata": {},
   "outputs": [
    {
     "data": {
      "image/png": "[encoded data removed]",
      "text/plain": [
       "<matplotlib.figure.Figure at 0x1c1b195a20>"
      ]
     },
     "metadata": {},
     "output_type": "display_data"
    }
   ],
   "source": [
    "fig, ax = pyplot.subplots()\n",
    "\n",
    "# organize results\n",
    "model0_data = pandas.DataFrame({'site': data_sorted.site.unique(), \n",
    "                                 'site_name': data_sorted.site_name.unique()}).set_index('site')\n",
    "model0_data['d2n_200m'] = data.groupby('site')['d2n_200m'].mean()\n",
    "model0_data['quantiles'] = [stats.quantiles(model0_samples.a[:5000, i]) for i in range(len(set(sites)))]\n",
    "\n",
    "# plot quantiles\n",
    "for i, row in model0_data.sort_values(by='d2n_200m').iterrows():\n",
    "    x = row['d2n_200m']\n",
    "    ax.plot([x, x], [row['quantiles'][2.5], row['quantiles'][97.5]], color='black', linewidth=0.5)\n",
    "    ax.plot([x, x], [row['quantiles'][25], row['quantiles'][75]], color='black', linewidth=1)\n",
    "    ax.scatter([x], [row['quantiles'][50]], color='black', marker='o')\n",
    "\n",
    "# format plot\n",
    "l1 = ax.set_xlim([0, 100])\n",
    "xl = ax.set_xlabel(\"d2n within 200 meters (percent area)\")\n",
    "yl = ax.set_ylabel(\"SEL (difference from grand mean)\")"
   ]
  },
  {
   "cell_type": "markdown",
   "metadata": {},
   "source": [
    "## Model 1—time and site predictors"
   ]
  },
  {
   "cell_type": "markdown",
   "metadata": {},
   "source": [
    "$$\n",
    "\\begin{align}\n",
    "\\text{level 1} \\\\\n",
    "y_{ts} \\sim \\mathcal{N}(\\alpha_s + \\beta_s T_t, \\sigma_y^2) \\\\\n",
    "\\text{level 2} \\\\\n",
    "\\alpha_s \\sim \\mathcal{N}(\\gamma_\\alpha + \\gamma_{\\alpha s} L_s, \\sigma_\\alpha^2) \\\\\n",
    "\\beta_s \\sim \\mathcal{N}(\\gamma_\\beta + \\gamma_{\\beta s} L_s, \\sigma_\\beta^2) \\\\\n",
    "\\end{align}\n",
    "$$"
   ]
  },
  {
   "cell_type": "code",
   "execution_count": 18,
   "metadata": {},
   "outputs": [
    {
     "name": "stderr",
     "output_type": "stream",
     "text": [
      "100%|██████████| 10500/10500 [02:37<00:00, 66.46it/s]\n",
      "100%|██████████| 10500/10500 [04:49<00:00, 36.27it/s]\n",
      "100%|██████████| 10500/10500 [01:18<00:00, 133.27it/s]\n",
      "100%|██████████| 10500/10500 [01:18<00:00, 134.29it/s]\n"
     ]
    }
   ],
   "source": [
    "site_predictors = [\n",
    "#    'building_50m', 'pavement_50m', 'forest_50m', 'field_50m',\n",
    "#    'building_100m', 'pavement_100m', 'forest_100m', 'field_100m',\n",
    "#    'building_200m', 'pavement_200m', 'forest_200m', 'field_200m',\n",
    "#    'building_500m', 'pavement_500m', 'forest_500m', 'field_500m',\n",
    "    'd2n_50m', 'd2n_100m', 'd2n_200m', 'd2n_500m',\n",
    "]\n",
    "for predictor in site_predictors:\n",
    "    with Model() as model_1:\n",
    "\n",
    "        # intercept\n",
    "        g_a = Normal('g_a', mu=0, tau=0.001)\n",
    "        g_as = Normal('g_as', mu=0, tau=0.001)\n",
    "        sigma_a = Uniform('sigma_a', lower=0, upper=100)\n",
    "        tau_a = sigma_a**-2\n",
    "        mu_a = g_a + (g_as * data_centered.groupby('site')[predictor].mean())\n",
    "        a = Normal('a', mu=mu_a, tau=tau_a, shape=len(set(sites)))\n",
    "\n",
    "        # slope\n",
    "        g_b = Normal('g_b', mu=0, tau=0.001)\n",
    "        g_bs = Normal('g_bs', mu=0, tau=0.001)\n",
    "        sigma_b = Uniform('sigma_b', lower=0, upper=100)\n",
    "        tau_b = sigma_b**-2\n",
    "        mu_b = g_b + (g_bs * data_centered.groupby('site')[predictor].mean())\n",
    "        b = Normal('b', mu=mu_b, tau=tau_b, shape=len(set(sites)))\n",
    "\n",
    "        # model error (data-level)\n",
    "        sigma_y = Uniform('sigma_y', lower=0, upper=100)\n",
    "        tau_y = sigma_y**-2\n",
    "\n",
    "        # expected values\n",
    "        y_hat = a[sites] + (b[sites] * data_centered.week)\n",
    "\n",
    "        # likelihood\n",
    "        y_like = Normal('y_like', mu=y_hat, tau=tau_y, observed=data_centered.sel)\n",
    "\n",
    "        # simulated\n",
    "        #y_sim = Normal('y_sim', mu=y_hat, tau=tau_y, shape=y_hat.tag.test_value.shape)\n",
    "\n",
    "        # sample model\n",
    "        backend = SQLite(path.join(trace_output_path, \"model1_{}.sqlite\".format(predictor)))\n",
    "        model_1_samples = sample(draws=10000, step=NUTS(), random_seed=1, trace=backend)"
   ]
  },
  {
   "cell_type": "code",
   "execution_count": 19,
   "metadata": {},
   "outputs": [
    {
     "data": {
      "image/png": "[encoded data removed]",
      "text/plain": [
       "<matplotlib.figure.Figure at 0x1c1fe38fd0>"
      ]
     },
     "metadata": {},
     "output_type": "display_data"
    }
   ],
   "source": [
    "fig = pyplot.figure()\n",
    "\n",
    "fig.set_figwidth(6.85)\n",
    "fig.set_figheight(6.85/2)\n",
    "\n",
    "ax_a = pyplot.subplot2grid((1, 2), (0, 0), rowspan=1, colspan=1)\n",
    "ax_b = pyplot.subplot2grid((1, 2), (0, 1), rowspan=1, colspan=1, sharex=ax_a)\n",
    "\n",
    "fig.subplots_adjust(left=0, bottom=0, right=1, top=1)\n",
    "\n",
    "# organize results\n",
    "model_1_data = pandas.DataFrame({'site': data_sorted.site.unique(), \n",
    "                                 'site_name': data_sorted.site_name.unique()})\n",
    "model_1_data['forest_200m'] = data_sorted.forest_200m.unique()\n",
    "model_1_data['quantiles_a'] = [stats.quantiles(model_1_samples['a'][:5000][:, i]) for i in range(len(set(sites)))]\n",
    "model_1_data['quantiles_b'] = [stats.quantiles(model_1_samples['b'][:5000][:, i]) for i in range(len(set(sites)))]\n",
    "\n",
    "# plot quantiles\n",
    "for i, row in model_1_data.sort_values(by='forest_200m').iterrows():\n",
    "    x = row['forest_200m']\n",
    "    #ax_a.plot([x, x], [row['quantiles_a'][2.5], row['quantiles_a'][97.5]], color='black', linewidth=0.5)\n",
    "    ax_a.plot([x, x], [row['quantiles_a'][25], row['quantiles_a'][75]], color='black', linewidth=1)\n",
    "    ax_a.scatter([x], [row['quantiles_a'][50]], color='black', marker='o')\n",
    "\n",
    "# format plot\n",
    "l1 = ax_a.set_xlim([0, 100])\n",
    "xl = ax_a.set_xlabel(\"forest land cover within 200 meters (percent area)\")\n",
    "yl = ax_a.set_ylabel(\"sel (decibel difference from grand mean)\")\n",
    "\n",
    "# plot quantiles\n",
    "for i, row in model_1_data.sort_values(by='forest_200m').iterrows():\n",
    "    x = row['forest_200m']\n",
    "    #ax_b.plot([x, x], [row['quantiles_b'][2.5], row['quantiles_b'][97.5]], color='black', linewidth=0.5)\n",
    "    ax_b.plot([x, x], [row['quantiles_b'][25], row['quantiles_b'][75]], color='black', linewidth=1)\n",
    "    ax_b.scatter([x], [row['quantiles_b'][50]], color='black', marker='o')\n",
    "\n",
    "# format plot\n",
    "l1 = ax_b.set_xlim([0, 100])\n",
    "l2 = ax_b.set_ylim((-2, 2))\n",
    "xl = ax_b.set_xlabel(\"forest land cover within 200 meters (percent area)\")\n",
    "yl = ax_b.set_ylabel(\"rate of change of sel (dB/week)\")"
   ]
  },
  {
   "cell_type": "code",
   "execution_count": 23,
   "metadata": {},
   "outputs": [
    {
     "data": {
      "image/png": "[encoded data removed]",
      "text/plain": [
       "<matplotlib.figure.Figure at 0x1c1e5ed550>"
      ]
     },
     "metadata": {},
     "output_type": "display_data"
    }
   ],
   "source": [
    "fig = pyplot.figure()\n",
    "\n",
    "fig.set_figwidth(6.85)\n",
    "fig.set_figheight(6.85/2)\n",
    "\n",
    "ax_a = pyplot.subplot2grid((1, 2), (0, 0), rowspan=1, colspan=1)\n",
    "ax_b = pyplot.subplot2grid((1, 2), (0, 1), rowspan=1, colspan=1, sharex=ax_a)\n",
    "\n",
    "fig.subplots_adjust(left=0, bottom=0, right=1, top=1)\n",
    "\n",
    "# organize results\n",
    "model_1_data = pandas.DataFrame({'site': data_sorted.site.unique(), \n",
    "                                 'site_name': data_sorted.site_name.unique()})\n",
    "model_1_data['d2n_500m'] = data_sorted.d2n_500m.unique()\n",
    "model_1_data['quantiles_a'] = [stats.quantiles(model_1_samples['a'][:5000][:, i]) for i in range(len(set(sites)))]\n",
    "model_1_data['quantiles_b'] = [stats.quantiles(model_1_samples['b'][:5000][:, i]) for i in range(len(set(sites)))]\n",
    "\n",
    "# plot quantiles\n",
    "for i, row in model_1_data.sort_values(by='d2n_500m').iterrows():\n",
    "    x = row['d2n_500m']\n",
    "    #ax_a.plot([x, x], [row['quantiles_a'][2.5], row['quantiles_a'][97.5]], color='black', linewidth=0.5)\n",
    "    ax_a.plot([x, x], [row['quantiles_a'][25], row['quantiles_a'][75]], color='black', linewidth=1)\n",
    "    ax_a.scatter([x], [row['quantiles_a'][50]], color='black', marker='o')\n",
    "\n",
    "# format plot\n",
    "l1 = ax_a.set_xlim([0, 0.6])\n",
    "xl = ax_a.set_xlabel(\"d2n within 500 meters (percent area)\")\n",
    "yl = ax_a.set_ylabel(\"sel (decibel difference from grand mean)\")\n",
    "\n",
    "# plot quantiles\n",
    "for i, row in model_1_data.sort_values(by='d2n_500m').iterrows():\n",
    "    x = row['d2n_500m']\n",
    "    #ax_b.plot([x, x], [row['quantiles_b'][2.5], row['quantiles_b'][97.5]], color='black', linewidth=0.5)\n",
    "    ax_b.plot([x, x], [row['quantiles_b'][25], row['quantiles_b'][75]], color='black', linewidth=1)\n",
    "    ax_b.scatter([x], [row['quantiles_b'][50]], color='black', marker='o')\n",
    "\n",
    "# format plot\n",
    "l1 = ax_b.set_xlim([0, 0.6])\n",
    "l2 = ax_b.set_ylim((-2, 2))\n",
    "xl = ax_b.set_xlabel(\"d2n within 500 meters (percent area)\")\n",
    "yl = ax_b.set_ylabel(\"rate of change of sel (dB/week)\")"
   ]
  },
  {
   "cell_type": "markdown",
   "metadata": {},
   "source": [
    "## Model 2—environmental predictors"
   ]
  },
  {
   "cell_type": "markdown",
   "metadata": {},
   "source": [
    "$$\n",
    "\\begin{align}\n",
    "\\text{level 1} \\\\\n",
    "y_{ts} \\sim \\mathcal{N}(\\alpha_s + \\beta_s T_t, \\sigma_y^2) \\\\\n",
    "\\text{level 2} \\\\\n",
    "\\alpha_s \\sim \\mathcal{N}(\\gamma_\\alpha + \\gamma_{\\alpha s} L_s, \\sigma_\\alpha^2) \\\\\n",
    "\\beta_s \\sim \\mathcal{N}(\\gamma_\\beta + \\gamma_{\\beta s} L_s, \\sigma_\\beta^2) \\\\\n",
    "\\end{align}\n",
    "$$"
   ]
  },
  {
   "cell_type": "code",
   "execution_count": 23,
   "metadata": {},
   "outputs": [
    {
     "name": "stderr",
     "output_type": "stream",
     "text": [
      "100%|██████████| 10000/10000 [08:59<00:00, 18.53it/s]\n",
      "100%|██████████| 10000/10000 [08:49<00:00, 18.90it/s]\n",
      "100%|██████████| 10000/10000 [11:56<00:00, 44.45it/s]\n",
      "100%|██████████| 10000/10000 [17:43<00:00,  9.41it/s]\n"
     ]
    }
   ],
   "source": [
    "measurement_predictors = [\n",
    "    'temperature', 'wind_speed', 'precipitation', 'pressure',\n",
    "]\n",
    "for predictor in measurement_predictors:\n",
    "    with Model() as model2a:\n",
    "\n",
    "        # intercept\n",
    "        g_a = Normal('g_a', mu=0, tau=0.001)\n",
    "        g_as = Normal('g_as', mu=0, tau=0.001)\n",
    "        sigma_a = Uniform('sigma_a', lower=0, upper=100)\n",
    "        tau_a = sigma_a**-2\n",
    "        mu_a = g_a + (g_as * data_centered.groupby('site')['forest_200m'].mean())\n",
    "        a = Normal('a', mu=mu_a, tau=tau_a, shape=len(set(sites)))\n",
    "\n",
    "        # time slope\n",
    "        g_b = Normal('g_b', mu=0, tau=0.001)\n",
    "        g_bs = Normal('g_bs', mu=0, tau=0.001)\n",
    "        sigma_b = Uniform('sigma_b', lower=0, upper=100)\n",
    "        tau_b = sigma_b**-2\n",
    "        mu_b = g_b + (g_bs * data_centered.groupby('site')['forest_200m'].mean())\n",
    "        b = Normal('b', mu=mu_b, tau=tau_b, shape=len(set(sites)))\n",
    "\n",
    "        # temp slope\n",
    "        #g_c = Normal('g_c', mu=0, tau=0.001)\n",
    "        #g_cs = Normal('g_cs', mu=0, tau=0.001)\n",
    "        #sigma_c = Uniform('sigma_c', lower=0, upper=100)\n",
    "        #tau_c = sigma_c**-2\n",
    "        #mu_c = g_c + (g_cs * data_centered.groupby('site')['forest_200m'].mean())\n",
    "        #c = Normal('c', mu=mu_c, tau=tau_c, shape=len(set(sites)))\n",
    "        c = Uniform('c', lower=-100, upper=100)\n",
    "\n",
    "        # model error (data-level)\n",
    "        sigma_y = Uniform('sigma_y', lower=0, upper=100)\n",
    "        tau_y = sigma_y**-2\n",
    "\n",
    "        # expected values\n",
    "        y_hat = a[sites] + (b[sites] * data_centered.week) + (c * data_centered[predictor])\n",
    "\n",
    "        # likelihood\n",
    "        y_like = Normal('y_like', mu=y_hat, tau=tau_y, observed=data_centered.sel)\n",
    "\n",
    "        # simulated\n",
    "        #y_sim = Normal('y_sim', mu=y_hat, tau=tau_y, shape=y_hat.tag.test_value.shape)\n",
    "\n",
    "        # sample model\n",
    "        backend = SQLite(path.join(trace_output_path, \"model2a_{0}.sqlite\".format(predictor)))\n",
    "        model_2_samples = sample(draws=10000, step=NUTS(), random_seed=1, trace=backend)"
   ]
  },
  {
   "cell_type": "code",
   "execution_count": 24,
   "metadata": {},
   "outputs": [
    {
     "name": "stderr",
     "output_type": "stream",
     "text": [
      "INFO (theano.gof.compilelock): Waiting for existing lock by process '29643' (I am process '29703')\n",
      "INFO (theano.gof.compilelock): To manually release the lock, delete /Users/Jake/.theano/compiledir_Darwin-16.6.0-x86_64-i386-64bit-i386-3.5.2-64/lock_dir\n",
      "100%|██████████| 10000/10000 [18:10<00:00,  9.17it/s]\n",
      "100%|██████████| 10000/10000 [17:21<00:00,  9.60it/s]\n",
      "100%|██████████| 10000/10000 [1:17:41<00:00,  2.60it/s]\n",
      "100%|██████████| 10000/10000 [19:32<00:00,  8.53it/s]\n"
     ]
    }
   ],
   "source": [
    "measurement_predictors = [\n",
    "    'temperature', 'wind_speed', 'precipitation', 'pressure',\n",
    "]\n",
    "for predictor in measurement_predictors:\n",
    "    with Model() as model2b:\n",
    "\n",
    "        # intercept\n",
    "        g_a = Normal('g_a', mu=0, tau=0.001)\n",
    "        g_as = Normal('g_as', mu=0, tau=0.001)\n",
    "        sigma_a = Uniform('sigma_a', lower=0, upper=100)\n",
    "        tau_a = sigma_a**-2\n",
    "        mu_a = g_a + (g_as * data_centered.groupby('site')['forest_200m'].mean())\n",
    "        a = Normal('a', mu=mu_a, tau=tau_a, shape=len(set(sites)))\n",
    "\n",
    "        # time slope\n",
    "        g_b = Normal('g_b', mu=0, tau=0.001)\n",
    "        g_bs = Normal('g_bs', mu=0, tau=0.001)\n",
    "        sigma_b = Uniform('sigma_b', lower=0, upper=100)\n",
    "        tau_b = sigma_b**-2\n",
    "        mu_b = g_b + (g_bs * data_centered.groupby('site')['forest_200m'].mean())\n",
    "        b = Normal('b', mu=mu_b, tau=tau_b, shape=len(set(sites)))\n",
    "\n",
    "        # predictor slope\n",
    "        g_c = Normal('g_c', mu=0, tau=0.001)\n",
    "        g_cs = Normal('g_cs', mu=0, tau=0.001)\n",
    "        sigma_c = Uniform('sigma_c', lower=0, upper=100)\n",
    "        tau_c = sigma_c**-2\n",
    "        mu_c = g_c + (g_cs * data_centered.groupby('site')['forest_200m'].mean())\n",
    "        c = Normal('c', mu=mu_c, tau=tau_c, shape=len(set(sites)))\n",
    "\n",
    "        # model error (data-level)\n",
    "        sigma_y = Uniform('sigma_y', lower=0, upper=100)\n",
    "        tau_y = sigma_y**-2\n",
    "\n",
    "        # expected values\n",
    "        y_hat = a[sites] + (b[sites] * data_centered.week) + (c[sites] * data_centered[predictor])\n",
    "\n",
    "        # likelihood\n",
    "        y_like = Normal('y_like', mu=y_hat, tau=tau_y, observed=data_centered.sel)\n",
    "\n",
    "        # simulated\n",
    "        #y_sim = Normal('y_sim', mu=y_hat, tau=tau_y, shape=y_hat.tag.test_value.shape)\n",
    "\n",
    "        # sample model\n",
    "        backend = SQLite(path.join(trace_output_path, \"model2b_{0}.sqlite\".format(predictor)))\n",
    "        model_2_samples = sample(draws=10000, step=NUTS(), random_seed=1, trace=backend)"
   ]
  },
  {
   "cell_type": "code",
   "execution_count": 26,
   "metadata": {},
   "outputs": [
    {
     "data": {
      "image/png": "[encoded data removed]",
      "text/plain": [
       "<matplotlib.figure.Figure at 0x1dbe09748>"
      ]
     },
     "metadata": {},
     "output_type": "display_data"
    }
   ],
   "source": [
    "fig, ax = pyplot.subplots()\n",
    "\n",
    "# organize results\n",
    "model_2_data = pandas.DataFrame({'site': data_sorted.site.unique(), \n",
    "                                 'site_name': data_sorted.site_name.unique()})\n",
    "model_2_data['forest_200m'] = data_sorted.forest_200m.unique()\n",
    "model_2_data['quantiles'] = [stats.quantiles(model_2_samples['c'][:1000][:, i]) for i in range(len(set(sites)))]\n",
    "\n",
    "# plot quantiles\n",
    "for i, row in model_2_data.sort_values(by='forest_200m').iterrows():\n",
    "    x = row['forest_200m']\n",
    "    ax.plot([x, x], [row['quantiles'][2.5], row['quantiles'][97.5]], color='black', linewidth=0.5)\n",
    "    ax.plot([x, x], [row['quantiles'][25], row['quantiles'][75]], color='black', linewidth=1)\n",
    "    ax.scatter([x], [row['quantiles'][50]], color='black', marker='o')\n",
    "\n",
    "# format plot\n",
    "l1 = ax.set_xlim([0, 100])\n",
    "xl = ax.set_xlabel(\"forest land cover within 200 meters (percent area)\")\n",
    "yl = ax.set_ylabel(\"percent biophony (difference from grand mean)\")"
   ]
  }
 ],
 "metadata": {
  "anaconda-cloud": {},
  "kernelspec": {
   "display_name": "Django Shell-Plus",
   "language": "python",
   "name": "django_extensions"
  },
  "language_info": {
   "codemirror_mode": {
    "name": "ipython",
    "version": 3
   },
   "file_extension": ".py",
   "mimetype": "text/x-python",
   "name": "python",
   "nbconvert_exporter": "python",
   "pygments_lexer": "ipython3",
   "version": "3.6.4"
  }
 },
 "nbformat": 4,
 "nbformat_minor": 1
}
