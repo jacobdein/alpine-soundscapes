{
 "cells": [
  {
   "cell_type": "markdown",
   "metadata": {},
   "source": [
    "# Analyzing WAV files using the soundecology R package"
   ]
  },
  {
   "cell_type": "markdown",
   "metadata": {},
   "source": [
    "Load required R packages"
   ]
  },
  {
   "cell_type": "code",
   "execution_count": 1,
   "metadata": {
    "collapsed": false
   },
   "outputs": [
    {
     "name": "stderr",
     "output_type": "stream",
     "text": [
      "tuneR >= 1.0 has changed its Wave class definition.\n",
      "Use updateWave(object) to convert Wave objects saved with previous versions of tuneR.\n"
     ]
    }
   ],
   "source": [
    "library('tuneR')\n",
    "library('seewave')\n",
    "library('soundecology')"
   ]
  },
  {
   "cell_type": "markdown",
   "metadata": {},
   "source": [
    "Read WAV file into R as an object"
   ]
  },
  {
   "cell_type": "code",
   "execution_count": 2,
   "metadata": {
    "collapsed": false
   },
   "outputs": [],
   "source": [
    "sound1 <- readWave(\"~/Desktop/test/160224150000.wav\")"
   ]
  },
  {
   "cell_type": "code",
   "execution_count": 3,
   "metadata": {
    "collapsed": true
   },
   "outputs": [],
   "source": [
    "sound2 <- readWave(\"~/Desktop/test/160309150500.wav\")"
   ]
  },
  {
   "cell_type": "markdown",
   "metadata": {},
   "source": [
    "Draw a spectrogram of the WAV file"
   ]
  },
  {
   "cell_type": "markdown",
   "metadata": {},
   "source": [
    "-- spectrogram --"
   ]
  },
  {
   "cell_type": "markdown",
   "metadata": {},
   "source": [
    "Compute acoustic diversity"
   ]
  },
  {
   "cell_type": "code",
   "execution_count": 6,
   "metadata": {
    "collapsed": false
   },
   "outputs": [
    {
     "name": "stdout",
     "output_type": "stream",
     "text": [
      "\n",
      " This is a stereo file. Results will be given for each channel.\n",
      "\n",
      " Calculating index. Please wait... \n",
      "\n",
      "  Acoustic Diversity Index: \n",
      "   Left channel: 1.246873\n",
      "   Right channel: 1.106268\n"
     ]
    }
   ],
   "source": [
    "acoustic_diversity(sound1)"
   ]
  },
  {
   "cell_type": "code",
   "execution_count": 10,
   "metadata": {
    "collapsed": false
   },
   "outputs": [
    {
     "name": "stdout",
     "output_type": "stream",
     "text": [
      "\n",
      " This is a stereo file. Results will be given for each channel.\n",
      "\n",
      " Calculating index. Please wait... \n",
      "\n",
      "  Acoustic Diversity Index: \n",
      "   Left channel: 1.247621\n",
      "   Right channel: 1.107211\n"
     ]
    }
   ],
   "source": [
    "acoustic_diversity(sound2)"
   ]
  },
  {
   "cell_type": "markdown",
   "metadata": {},
   "source": [
    "Compute acoustic evenness"
   ]
  },
  {
   "cell_type": "code",
   "execution_count": 7,
   "metadata": {
    "collapsed": false
   },
   "outputs": [
    {
     "name": "stdout",
     "output_type": "stream",
     "text": [
      "\n",
      " This is a stereo file. Results will be given for each channel.\n",
      "\n",
      " Calculating index. Please wait... \n",
      "\n",
      "  Acoustic Evenness Index: \n",
      "   Left channel: 0.726491\n",
      "   Right channel: 0.760851\n",
      "\n"
     ]
    }
   ],
   "source": [
    "acoustic_evenness(sound1)"
   ]
  },
  {
   "cell_type": "code",
   "execution_count": 11,
   "metadata": {
    "collapsed": false
   },
   "outputs": [
    {
     "name": "stdout",
     "output_type": "stream",
     "text": [
      "\n",
      " This is a stereo file. Results will be given for each channel.\n",
      "\n",
      " Calculating index. Please wait... \n",
      "\n",
      "  Acoustic Evenness Index: \n",
      "   Left channel: 0.726379\n",
      "   Right channel: 0.760694\n",
      "\n"
     ]
    }
   ],
   "source": [
    "acoustic_evenness(sound2)"
   ]
  },
  {
   "cell_type": "markdown",
   "metadata": {},
   "source": [
    "Compute acoustic complexity"
   ]
  },
  {
   "cell_type": "code",
   "execution_count": 8,
   "metadata": {
    "collapsed": false
   },
   "outputs": [
    {
     "name": "stdout",
     "output_type": "stream",
     "text": [
      "\n",
      " This is a stereo file. Results will be given for each channel.\n",
      "\n",
      " Calculating index. Please wait... \n",
      "\n",
      "  Acoustic Complexity Index (total):\n",
      "   Left channel: 911.6882\n",
      "   Right channel: 913.0544\n",
      "\n"
     ]
    }
   ],
   "source": [
    "acoustic_complexity(sound1)"
   ]
  },
  {
   "cell_type": "code",
   "execution_count": 12,
   "metadata": {
    "collapsed": false
   },
   "outputs": [
    {
     "name": "stdout",
     "output_type": "stream",
     "text": [
      "\n",
      " This is a stereo file. Results will be given for each channel.\n",
      "\n",
      " Calculating index. Please wait... \n",
      "\n",
      "  Acoustic Complexity Index (total):\n",
      "   Left channel: 907.043\n",
      "   Right channel: 908.6633\n",
      "\n"
     ]
    }
   ],
   "source": [
    "acoustic_complexity(sound2)"
   ]
  },
  {
   "cell_type": "markdown",
   "metadata": {},
   "source": [
    "Compute the normalized difference soundscape index"
   ]
  },
  {
   "cell_type": "code",
   "execution_count": 4,
   "metadata": {
    "collapsed": false
   },
   "outputs": [
    {
     "name": "stdout",
     "output_type": "stream",
     "text": [
      "\n",
      " This is a stereo file. Results will be given for each channel.\n",
      "\n",
      " Calculating index. Please wait... \n",
      "  Normalized Difference Soundscape Index:\n",
      "\n",
      "   Left channel: 0.1517927\n",
      "   Right channel: 0.02293733\n",
      "\n"
     ]
    }
   ],
   "source": [
    "ndsi(sound1, fft_w = 1024, anthro_min = 1000, anthro_max = 2000, bio_min = 2000, bio_max = 11000)"
   ]
  },
  {
   "cell_type": "code",
   "execution_count": 5,
   "metadata": {
    "collapsed": false
   },
   "outputs": [
    {
     "name": "stdout",
     "output_type": "stream",
     "text": [
      "\n",
      " This is a stereo file. Results will be given for each channel.\n",
      "\n",
      " Calculating index. Please wait... \n",
      "  Normalized Difference Soundscape Index:\n",
      "\n",
      "   Left channel: -0.4693702\n",
      "   Right channel: -0.5330735\n",
      "\n"
     ]
    }
   ],
   "source": [
    "ndsi(sound2, fft_w = 1024, anthro_min = 1000, anthro_max = 2000, bio_min = 2000, bio_max = 11000)"
   ]
  }
 ],
 "metadata": {
  "kernelspec": {
   "display_name": "R",
   "language": "R",
   "name": "ir"
  },
  "language_info": {
   "codemirror_mode": "r",
   "file_extension": ".r",
   "mimetype": "text/x-r-source",
   "name": "R",
   "pygments_lexer": "r",
   "version": "3.2.4"
  }
 },
 "nbformat": 4,
 "nbformat_minor": 0
}
