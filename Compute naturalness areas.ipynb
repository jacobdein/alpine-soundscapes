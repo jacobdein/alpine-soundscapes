{
 "cells": [
  {
   "cell_type": "markdown",
   "metadata": {},
   "source": [
    "# Compute naturalness areas"
   ]
  },
  {
   "cell_type": "markdown",
   "metadata": {},
   "source": [
    "This notebook computes the naturalness areas for each point in a 'sample_points' vector map based on a 'naturalness' vector map. The computed areas are exported to a csv file.\n",
    "\n",
    "This notebook uses [GRASS GIS](https://grass.osgeo.org) (7.0.4), and must be run inside of a GRASS environment (start the jupyter notebook server from the GRASS command line).\n",
    "\n",
    "The code in this notebook was modified from examples in \"How to write a Python GRASS GIS 7 addon\" developed for a FOSS4G Europe 2015 workshop. The code is contained in the [python-grass-addon](https://github.com/wenzeslaus/python-grass-addon) repository on GitHub.com."
   ]
  },
  {
   "cell_type": "markdown",
   "metadata": {},
   "source": [
    "#### Required packages"
   ]
  },
  {
   "cell_type": "markdown",
   "metadata": {},
   "source": [
    "[numpy](https://github.com/numpy/numpy) <br />\n",
    "[pandas](https://github.com/pydata/pandas) <br />\n",
    "[pyprind](https://github.com/rasbt/pyprind)"
   ]
  },
  {
   "cell_type": "markdown",
   "metadata": {},
   "source": [
    "#### Variable definitions"
   ]
  },
  {
   "cell_type": "markdown",
   "metadata": {},
   "source": [
    "naturalness – vector map representing naturalness <br />\n",
    "naturalness_value_field – name of the field containing the naturalness values <br />\n",
    "sample_points – vector map containing observer points <br />\n",
    "radius – radius in map units around each sample point to calculate land cover areas within <br />\n",
    "use_viewshed – consider only 'visible' land cover, based on a viewshed from each sample point <br />"
   ]
  },
  {
   "cell_type": "code",
   "execution_count": null,
   "metadata": {
    "collapsed": true
   },
   "outputs": [],
   "source": [
    "naturalness = 'naturalness'"
   ]
  },
  {
   "cell_type": "code",
   "execution_count": null,
   "metadata": {
    "collapsed": true
   },
   "outputs": [],
   "source": [
    "naturalness_value_field = 'value'"
   ]
  },
  {
   "cell_type": "code",
   "execution_count": null,
   "metadata": {
    "collapsed": true
   },
   "outputs": [],
   "source": [
    "n_types = 7"
   ]
  },
  {
   "cell_type": "code",
   "execution_count": null,
   "metadata": {
    "collapsed": true
   },
   "outputs": [],
   "source": [
    "sample_points = 'sample_points_field'"
   ]
  },
  {
   "cell_type": "code",
   "execution_count": null,
   "metadata": {
    "collapsed": true
   },
   "outputs": [],
   "source": [
    "radius = 500"
   ]
  },
  {
   "cell_type": "code",
   "execution_count": null,
   "metadata": {
    "collapsed": true
   },
   "outputs": [],
   "source": [
    "use_viewshed = False"
   ]
  },
  {
   "cell_type": "markdown",
   "metadata": {},
   "source": [
    "get viewshed suffix (for filenames)"
   ]
  },
  {
   "cell_type": "code",
   "execution_count": null,
   "metadata": {
    "collapsed": true
   },
   "outputs": [],
   "source": [
    "def getViewshedSuffix():\n",
    "    if use_viewshed:\n",
    "        viewshed_suffix = '_viewshed'\n",
    "    else:\n",
    "        viewshed_suffix = ''\n",
    "    return viewshed_suffix"
   ]
  },
  {
   "cell_type": "code",
   "execution_count": null,
   "metadata": {
    "collapsed": false
   },
   "outputs": [],
   "source": [
    "naturalness_area_table_filename = \"/home/ubuntu/naturalness_areas_{0}m{1}.csv\".format(radius, getViewshedSuffix())"
   ]
  },
  {
   "cell_type": "markdown",
   "metadata": {},
   "source": [
    "#### Import statements"
   ]
  },
  {
   "cell_type": "code",
   "execution_count": null,
   "metadata": {
    "collapsed": true
   },
   "outputs": [],
   "source": [
    "import numpy as np\n",
    "import pandas\n",
    "import pyprind"
   ]
  },
  {
   "cell_type": "markdown",
   "metadata": {},
   "source": [
    "GRASS import statements"
   ]
  },
  {
   "cell_type": "code",
   "execution_count": null,
   "metadata": {
    "collapsed": true
   },
   "outputs": [],
   "source": [
    "import grass.script as gscript"
   ]
  },
  {
   "cell_type": "code",
   "execution_count": null,
   "metadata": {
    "collapsed": true
   },
   "outputs": [],
   "source": [
    "from grass.pygrass.vector.geometry import Point\n",
    "from grass.pygrass.vector import Vector\n",
    "\n",
    "from grass.pygrass.vector import VectorTopo\n",
    "from grass.pygrass.vector.table import DBlinks"
   ]
  },
  {
   "cell_type": "markdown",
   "metadata": {},
   "source": [
    "#### Function declarations"
   ]
  },
  {
   "cell_type": "markdown",
   "metadata": {},
   "source": [
    "connect to attribute table"
   ]
  },
  {
   "cell_type": "code",
   "execution_count": null,
   "metadata": {
    "collapsed": false
   },
   "outputs": [],
   "source": [
    "def connectToAttributeTable(map):\n",
    "    vector = VectorTopo(map)\n",
    "    vector.open(mode='r')\n",
    "    dblinks = DBlinks(vector.c_mapinfo)\n",
    "    link = dblinks[0]\n",
    "    return link.table()"
   ]
  },
  {
   "cell_type": "markdown",
   "metadata": {},
   "source": [
    "extract point from vector map"
   ]
  },
  {
   "cell_type": "code",
   "execution_count": null,
   "metadata": {
    "collapsed": false
   },
   "outputs": [],
   "source": [
    "def extractPoint(input, ID, output):\n",
    "\n",
    "    where = 'ID = {0}'.format(ID)\n",
    "    type = 'point'\n",
    "\n",
    "    gscript.read_command('v.extract',\n",
    "                         input=input,\n",
    "                         where=where,\n",
    "                         output=output,\n",
    "                         type=type, \n",
    "                         overwrite=True)"
   ]
  },
  {
   "cell_type": "markdown",
   "metadata": {},
   "source": [
    "create buffer around point"
   ]
  },
  {
   "cell_type": "code",
   "execution_count": null,
   "metadata": {
    "collapsed": true
   },
   "outputs": [],
   "source": [
    "def bufferPoint(input, output, radius):\n",
    "    gscript.read_command('v.buffer',\n",
    "                         input=input,\n",
    "                         output=output,\n",
    "                         type='point',\n",
    "                         distance=radius,\n",
    "                        overwrite=True)"
   ]
  },
  {
   "cell_type": "markdown",
   "metadata": {},
   "source": [
    "convert viewshed from raster to vector map"
   ]
  },
  {
   "cell_type": "code",
   "execution_count": null,
   "metadata": {
    "collapsed": false
   },
   "outputs": [],
   "source": [
    "def vectorizeViewshed(input, ID, output):\n",
    "    type = 'area'\n",
    "    column = 'visible'\n",
    "\n",
    "    gscript.read_command('r.to.vect', \n",
    "                         input=input, \n",
    "                         output=output,\n",
    "                         type=type,\n",
    "                         column=column,\n",
    "                         overwrite=True)"
   ]
  },
  {
   "cell_type": "markdown",
   "metadata": {},
   "source": [
    "overlay a vector map on an underlying vector map using 'and' selection operator"
   ]
  },
  {
   "cell_type": "code",
   "execution_count": null,
   "metadata": {
    "collapsed": false
   },
   "outputs": [],
   "source": [
    "def overlay(overlay, underlay, output):\n",
    "    operator='and'\n",
    "    gscript.read_command('v.overlay',\n",
    "                         ainput=overlay,\n",
    "                         binput=underlay,\n",
    "                         operator=operator,\n",
    "                         output=output,\n",
    "                         overwrite=True)"
   ]
  },
  {
   "cell_type": "markdown",
   "metadata": {},
   "source": [
    "add area column to vector map"
   ]
  },
  {
   "cell_type": "code",
   "execution_count": null,
   "metadata": {
    "collapsed": true
   },
   "outputs": [],
   "source": [
    "def calculateAreas(map):\n",
    "    \n",
    "    #add new area column\n",
    "    gscript.read_command('v.db.addcolumn',\n",
    "                         map=map,\n",
    "                         columns=\"area_square_meters DOUBLE PRECISION\")\n",
    "    \n",
    "    #compute area and insert into area column\n",
    "    gscript.read_command('v.to.db',\n",
    "                         map=map,\n",
    "                         type='centroid',\n",
    "                         option='area',\n",
    "                         columns='area_square_meters',\n",
    "                         unit='meters')"
   ]
  },
  {
   "cell_type": "markdown",
   "metadata": {},
   "source": [
    "create table showing total area by landcover type"
   ]
  },
  {
   "cell_type": "code",
   "execution_count": null,
   "metadata": {
    "collapsed": true
   },
   "outputs": [],
   "source": [
    "def getNaturalnessAreaByValue(map):\n",
    "    #get area data\n",
    "    table = connectToAttributeTable(map=map)\n",
    "    table.filters.select()\n",
    "    columns = table.columns.names()\n",
    "    cursor = table.execute()\n",
    "    result = np.array(cursor.fetchall())\n",
    "    cursor.close()\n",
    "    data = pandas.DataFrame(result, columns=columns).set_index('cat')\n",
    "    \n",
    "    #make sure naturalness_value_field is a numeric data type\n",
    "    data['b_' + naturalness_value_field] = pandas.to_numeric(data['b_' + naturalness_value_field])\n",
    "    \n",
    "    #create naturalness column\n",
    "    data['naturalness'] = np.nan\n",
    "    \n",
    "    #define naturalness value categories (round values)\n",
    "    for index, row in data.iterrows():\n",
    "        naturalness = np.round(row['b_' + naturalness_value_field])\n",
    "        data.set_value(index, 'naturalness', int(naturalness))\n",
    "    \n",
    "    #sum areas by naturalness value\n",
    "    data['area_square_meters'] = pandas.to_numeric(data['area_square_meters'])\n",
    "    areas = data[['naturalness', 'area_square_meters']].groupby(by='naturalness').sum()\n",
    "    \n",
    "    #calculate mean\n",
    "    total_area = data['area_square_meters'].sum()\n",
    "    percent_area = data['area_square_meters'] / total_area\n",
    "    weighted_area = percent_area * data['b_' + naturalness_value_field]\n",
    "    mean = weighted_area.sum()\n",
    "    \n",
    "    #add to areas dataframe\n",
    "    areas = areas.set_value('mean', 'area_square_meters', mean)\n",
    "    \n",
    "    return areas"
   ]
  },
  {
   "cell_type": "markdown",
   "metadata": {},
   "source": [
    "#### Utility functions"
   ]
  },
  {
   "cell_type": "markdown",
   "metadata": {},
   "source": [
    "export vector map to a shapefile"
   ]
  },
  {
   "cell_type": "code",
   "execution_count": null,
   "metadata": {
    "collapsed": false
   },
   "outputs": [],
   "source": [
    "def exportVectorToShapefile(map, output):\n",
    "    gscript.read_command('v.out.ogr',\n",
    "                         input=map,\n",
    "                         format='ESRI_Shapefile',\n",
    "                         output=output,\n",
    "                         flags='e',\n",
    "                         overwrite=True)"
   ]
  },
  {
   "cell_type": "markdown",
   "metadata": {},
   "source": [
    "get info about a vector map"
   ]
  },
  {
   "cell_type": "code",
   "execution_count": null,
   "metadata": {
    "collapsed": false
   },
   "outputs": [],
   "source": [
    "def getVectorMapInfo(map):\n",
    "    return gscript.read_command('v.info', map=map)"
   ]
  },
  {
   "cell_type": "markdown",
   "metadata": {},
   "source": [
    "#### Compute landcover areas"
   ]
  },
  {
   "cell_type": "markdown",
   "metadata": {},
   "source": [
    "connect to 'sample_points' attribute table"
   ]
  },
  {
   "cell_type": "code",
   "execution_count": null,
   "metadata": {
    "collapsed": false
   },
   "outputs": [],
   "source": [
    "point_table = connectToAttributeTable(map=sample_points)\n",
    "point_table.filters.select()\n",
    "columns = point_table.columns.names()\n",
    "cursor = point_table.execute()\n",
    "result = np.array(cursor.fetchall())\n",
    "cursor.close()\n",
    "point_data = pandas.DataFrame(result, columns=columns).set_index('cat')"
   ]
  },
  {
   "cell_type": "markdown",
   "metadata": {},
   "source": [
    "loop through sample points"
   ]
  },
  {
   "cell_type": "code",
   "execution_count": null,
   "metadata": {
    "collapsed": false
   },
   "outputs": [],
   "source": [
    "with Vector(sample_points, mode='r') as points:\n",
    "    \n",
    "    #setup progress bar\n",
    "    progress_bar = pyprind.ProgBar(points.n_lines, bar_char='█', title='Naturalness analysis progress', monitor=True, stream=1, width=50)\n",
    "    \n",
    "    #iterate through points\n",
    "    for point in points:\n",
    "        \n",
    "        #get point ID (SiteID)\n",
    "        ID = point_data['ID'][point.cat-1]\n",
    "        \n",
    "        #update progress bar\n",
    "        progress_bar.update(item_id=ID)\n",
    "        \n",
    "        #buffer current point\n",
    "        extractPoint(input='sample_points_field', ID=ID, output='tmp_buffer_point')\n",
    "        bufferPoint(input='tmp_buffer_point', output='tmp_point_buffer', radius=500)\n",
    "        \n",
    "        #set buffer as overlay\n",
    "        overlay_input = 'tmp_point_buffer'\n",
    "        #consider only visible naturalness if 'use_viewshed' = True\n",
    "        if use_viewshed:\n",
    "            viewshed = 'vect_{0}_viewshed'.format(ID)\n",
    "            visible_viewshed = 'vect_{0}_viewshed_{1}m'.format(ID, radius)\n",
    "            #vectorize viewshed\n",
    "            vectorizeViewshed(input='{0}_viewshed'.format(ID), ID=ID, output=viewshed)\n",
    "            #overlay buffer on viewshed\n",
    "            overlay(overlay=overlay_input,\n",
    "                    underlay=viewshed,\n",
    "                    output=visible_viewshed)\n",
    "            #set overlay to the visible viewshed\n",
    "            overlay_input = visible_viewshed\n",
    "        overlay_output = 'vect_{0}_naturalness_{1}m{2}'.format(ID, radius, getViewshedSuffix())\n",
    "        #overlay naturalness\n",
    "        overlay(overlay=overlay_input,\n",
    "                         underlay=naturalness,\n",
    "                         output=overlay_output)\n",
    "        \n",
    "        #calculate naturalness area\n",
    "        calculateAreas(map=overlay_output)"
   ]
  },
  {
   "cell_type": "markdown",
   "metadata": {},
   "source": [
    "#### Export naturalness area table"
   ]
  },
  {
   "cell_type": "markdown",
   "metadata": {},
   "source": [
    "create table with naturalness areas by type for each point"
   ]
  },
  {
   "cell_type": "code",
   "execution_count": null,
   "metadata": {
    "collapsed": false
   },
   "outputs": [],
   "source": [
    "#create table\n",
    "index_start = 0\n",
    "''' set the first index number,\n",
    "    allowing easier insertion into a database table that already contains \n",
    "    area calculations with other parameters\n",
    "    (i.e radius and use_viewshed)'''\n",
    "columns = ['ID', 'SiteID', 'IncludedArea']\n",
    "columns = columns + [ str(n) for n in range(1,n_types+1) ] + ['mean']\n",
    "area_table = pandas.DataFrame(columns=columns)\n",
    "\n",
    "#set naming variables\n",
    "included_area = '{0}m{1}'.format(radius, getViewshedSuffix())  #0=radius, 1=viewshed_suffix\n",
    "map_pattern = 'vect_{0}_naturalness_{1}m{2}'  #0=ID, 1=radius, 2=viewshed_suffix\n",
    "\n",
    "#iterate through points\n",
    "for index, point in point_data.iterrows():\n",
    "    ID = point['ID']\n",
    "    map = map_pattern.format(ID, radius, getViewshedSuffix())\n",
    "    #initiate row\n",
    "    row = {'ID':\"{0:.3g}\".format(int(index) + index_start),\n",
    "           'SiteID': str(ID),\n",
    "           'IncludedArea': included_area}\n",
    "    #get naturalness areas\n",
    "    areas = getNaturalnessAreaByValue(map)\n",
    "    \n",
    "    #iterate through area types\n",
    "    for index, area in areas.iterrows():\n",
    "        #add area to row\n",
    "        try:\n",
    "            row[\"{0:.3g}\".format(int(index))] = area['area_square_meters']\n",
    "        except ValueError:\n",
    "            row[index] = area['area_square_meters']\n",
    "    #append row to table\n",
    "    area_table = area_table.append(row, ignore_index=True)\n",
    "\n",
    "area_table.set_index('ID', inplace=True)\n",
    "\n",
    "#export table to file\n",
    "area_table.to_csv(naturalness_area_table_filename, header=False)"
   ]
  }
 ],
 "metadata": {
  "kernelspec": {
   "display_name": "Python 2",
   "language": "python",
   "name": "python2"
  },
  "language_info": {
   "codemirror_mode": {
    "name": "ipython",
    "version": 2
   },
   "file_extension": ".py",
   "mimetype": "text/x-python",
   "name": "python",
   "nbconvert_exporter": "python",
   "pygments_lexer": "ipython2",
   "version": "2.7.6"
  }
 },
 "nbformat": 4,
 "nbformat_minor": 0
}
