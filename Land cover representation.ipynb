{
 "cells": [
  {
   "cell_type": "markdown",
   "metadata": {},
   "source": [
    "# Land cover representation"
   ]
  },
  {
   "cell_type": "markdown",
   "metadata": {},
   "source": [
    "This notebook compares the land cover within the entire study area to the land cover within a certain radius around sample locations."
   ]
  },
  {
   "cell_type": "markdown",
   "metadata": {},
   "source": [
    "#### Import statements"
   ]
  },
  {
   "cell_type": "code",
   "execution_count": 24,
   "metadata": {
    "collapsed": false
   },
   "outputs": [],
   "source": [
    "from database.models import Site\n",
    "from landscape.models import LandCover\n",
    "from geo.models import LandCoverType\n",
    "from geo.models import Boundary\n",
    "from django.db import connection\n",
    "from django.contrib.gis.geos import GEOSGeometry\n",
    "\n",
    "from os import path\n",
    "import numpy\n",
    "import pandas\n",
    "import geopandas\n",
    "import fiona\n",
    "import pyproj\n",
    "from matplotlib import pyplot\n",
    "%matplotlib inline"
   ]
  },
  {
   "cell_type": "markdown",
   "metadata": {},
   "source": [
    "define the project coordinate system"
   ]
  },
  {
   "cell_type": "code",
   "execution_count": 2,
   "metadata": {
    "collapsed": true
   },
   "outputs": [],
   "source": [
    "austria_mgd = \"+init=epsg:31254\""
   ]
  },
  {
   "cell_type": "markdown",
   "metadata": {},
   "source": [
    "define the output filepath"
   ]
  },
  {
   "cell_type": "code",
   "execution_count": 3,
   "metadata": {
    "collapsed": true
   },
   "outputs": [],
   "source": [
    "output_filepath = \"/Users/Jake/OneDrive/Documents/alpine soundscapes/data/landcover\""
   ]
  },
  {
   "cell_type": "markdown",
   "metadata": {},
   "source": [
    "define schema for GeoJSON output"
   ]
  },
  {
   "cell_type": "code",
   "execution_count": 15,
   "metadata": {
    "collapsed": true
   },
   "outputs": [],
   "source": [
    "schema = {'geometry': \"MultiPolygon\", \n",
    "          'properties': {'id': 'int', \n",
    "                         'cover_type': 'int'}}"
   ]
  },
  {
   "cell_type": "markdown",
   "metadata": {},
   "source": [
    "#### Function declarations"
   ]
  },
  {
   "cell_type": "code",
   "execution_count": 5,
   "metadata": {
    "collapsed": false
   },
   "outputs": [],
   "source": [
    "# returns a geopandas dataframe from a given PostGIS query\n",
    "def get_geodataframe(queryset, modification=None, index_col=None, crs=austria_mgd):\n",
    "    query = queryset.query.sql_with_params()\n",
    "    if modification:\n",
    "        query = (modification, query[1])\n",
    "    return geopandas.read_postgis(query[0], connection, \n",
    "                                   geom_col='geometry', \n",
    "                                   params=query[1], \n",
    "                                   index_col=index_col,\n",
    "                                   crs=crs)"
   ]
  },
  {
   "cell_type": "code",
   "execution_count": 6,
   "metadata": {
    "collapsed": false
   },
   "outputs": [],
   "source": [
    "# returns a geopandas dataframe containing the land cover intersected with a given geometry\n",
    "def get_landcover(geometry, make_valid=False, index_col=None, crs=austria_mgd):\n",
    "    \n",
    "    if make_valid:\n",
    "        intersection = \"\"\"ST_Intersection(ST_MakeValid(\"landscape_landcover\".\"geometry\"), %s)\"\"\"\n",
    "    else:\n",
    "        intersection = \"\"\"ST_Intersection(\"landscape_landcover\".\"geometry\", %s)\"\"\"\n",
    "    \n",
    "    query = \"\"\"\n",
    "        SELECT \"landscape_landcover\".\"id\", \"landscape_landcover\".\"cover_type\", \n",
    "        {0} AS \"geometry\" FROM \"landscape_landcover\" \n",
    "        WHERE ST_Intersects(\"landscape_landcover\".\"geometry\", %s)\n",
    "    \"\"\".replace('\\n', '').format(intersection)\n",
    "\n",
    "    return geopandas.read_postgis(query, connection, \n",
    "                                   geom_col='geometry', \n",
    "                                   params=[\"SRID={0};{1}\".format(geometry.srid, geometry.wkt), \n",
    "                                           \"SRID={0};{1}\".format(geometry.srid, geometry.wkt)], \n",
    "                                   index_col=index_col,\n",
    "                                   crs=crs)"
   ]
  },
  {
   "cell_type": "code",
   "execution_count": 31,
   "metadata": {
    "collapsed": true
   },
   "outputs": [],
   "source": [
    "# returns a numpy array with the percentage of each land cover type in respect to the total geometry area\n",
    "def get_percentages(source):\n",
    "    y = range(1, 16)\n",
    "    x = numpy.empty(15)\n",
    "    total_area = source.area.sum()\n",
    "    for i, y_i in enumerate(y):\n",
    "        x[i] = (source[source.cover_type == y_i].area.sum() / total_area) * 100\n",
    "    return x"
   ]
  },
  {
   "cell_type": "markdown",
   "metadata": {},
   "source": [
    "## Get location land cover"
   ]
  },
  {
   "cell_type": "markdown",
   "metadata": {},
   "source": [
    "define a list of radii defining the surrounding land cover"
   ]
  },
  {
   "cell_type": "code",
   "execution_count": 7,
   "metadata": {
    "collapsed": true
   },
   "outputs": [],
   "source": [
    "radii = [50, 100, 200, 500]"
   ]
  },
  {
   "cell_type": "markdown",
   "metadata": {},
   "source": [
    "compute a geometry (unioned buffer around locations) for each radius"
   ]
  },
  {
   "cell_type": "code",
   "execution_count": 8,
   "metadata": {
    "collapsed": true
   },
   "outputs": [],
   "source": [
    "location_area_list = []\n",
    "for radius in radii:\n",
    "    location_areas = get_geodataframe(Site.objects.filter(id__lte=30)).buffer(radius)\n",
    "    location_area = location_areas.iloc[0]\n",
    "    for area in location_areas:\n",
    "        location_area = location_area.union(area)\n",
    "    # convert to geos multipolygon with srid\n",
    "    location_area = GEOSGeometry(location_area.wkt)\n",
    "    location_area.srid = 31254\n",
    "    location_area_list.append(location_area)"
   ]
  },
  {
   "cell_type": "markdown",
   "metadata": {},
   "source": [
    "query database"
   ]
  },
  {
   "cell_type": "code",
   "execution_count": 34,
   "metadata": {
    "collapsed": false
   },
   "outputs": [],
   "source": [
    "location_landcover_list = []\n",
    "for location_area, radius in zip(location_area_list, radii):\n",
    "    location_landcover = get_landcover(location_area)\n",
    "    location_landcover_list.append(location_landcover)\n",
    "    \n",
    "    # export result to a GeoJSON file\n",
    "    #location_landcover.to_file(filename=path.join(output_filepath, \"location_landcover_{0}m.geojson\".format(radius)), \n",
    "    #                           driver='GeoJSON', schema=schema)"
   ]
  },
  {
   "cell_type": "markdown",
   "metadata": {},
   "source": [
    "## Get study area land cover"
   ]
  },
  {
   "cell_type": "markdown",
   "metadata": {},
   "source": [
    "get the study area boundary geometry from the database"
   ]
  },
  {
   "cell_type": "code",
   "execution_count": 10,
   "metadata": {
    "collapsed": true
   },
   "outputs": [],
   "source": [
    "boundary = Boundary.objects.get(name=\"study area\")"
   ]
  },
  {
   "cell_type": "markdown",
   "metadata": {},
   "source": [
    "query database"
   ]
  },
  {
   "cell_type": "code",
   "execution_count": 16,
   "metadata": {
    "collapsed": false,
    "scrolled": false
   },
   "outputs": [],
   "source": [
    "study_landcover = get_landcover(boundary.geometry, make_valid=True)\n",
    "\n",
    "# export result to a GeoJSON file\n",
    "#study_landcover.to_file(filename=path.join(output_filepath, \"study_area_landcover.geojson\".format(radius)), \n",
    "#                        driver='GeoJSON', schema=schema)"
   ]
  },
  {
   "cell_type": "markdown",
   "metadata": {},
   "source": [
    "## Calculate area percentages"
   ]
  },
  {
   "cell_type": "code",
   "execution_count": 32,
   "metadata": {
    "collapsed": true
   },
   "outputs": [],
   "source": [
    "area_percentages = pandas.DataFrame({'name': [r['name'].lower() for r in LandCoverType.objects.filter(id__lte=15).values()],\n",
    "                                     'study_area': get_percentages(study_landcover)}, index=range(1, 16))"
   ]
  },
  {
   "cell_type": "code",
   "execution_count": 35,
   "metadata": {
    "collapsed": false
   },
   "outputs": [],
   "source": [
    "for i, radius in enumerate(radii):\n",
    "    area_percentages[\"{0}m\".format(radius)] = get_percentages(location_landcover_list[i])"
   ]
  },
  {
   "cell_type": "code",
   "execution_count": 36,
   "metadata": {
    "collapsed": false
   },
   "outputs": [
    {
     "data": {
      "text/html": [
       "<div>\n",
       "<table border=\"1\" class=\"dataframe\">\n",
       "  <thead>\n",
       "    <tr style=\"text-align: right;\">\n",
       "      <th></th>\n",
       "      <th>name</th>\n",
       "      <th>study_area</th>\n",
       "      <th>50m</th>\n",
       "      <th>100m</th>\n",
       "      <th>200m</th>\n",
       "      <th>500m</th>\n",
       "    </tr>\n",
       "  </thead>\n",
       "  <tbody>\n",
       "    <tr>\n",
       "      <th>1</th>\n",
       "      <td>buildings</td>\n",
       "      <td>12.900180</td>\n",
       "      <td>7.006697</td>\n",
       "      <td>9.173541</td>\n",
       "      <td>10.264798</td>\n",
       "      <td>10.492057</td>\n",
       "    </tr>\n",
       "    <tr>\n",
       "      <th>2</th>\n",
       "      <td>other constructed areas</td>\n",
       "      <td>19.739398</td>\n",
       "      <td>15.627768</td>\n",
       "      <td>14.439828</td>\n",
       "      <td>13.908947</td>\n",
       "      <td>15.054386</td>\n",
       "    </tr>\n",
       "    <tr>\n",
       "      <th>3</th>\n",
       "      <td>bare soil</td>\n",
       "      <td>0.636715</td>\n",
       "      <td>0.000000</td>\n",
       "      <td>0.000000</td>\n",
       "      <td>0.011078</td>\n",
       "      <td>0.336818</td>\n",
       "    </tr>\n",
       "    <tr>\n",
       "      <th>4</th>\n",
       "      <td>scree</td>\n",
       "      <td>0.300930</td>\n",
       "      <td>0.785141</td>\n",
       "      <td>0.469736</td>\n",
       "      <td>0.284912</td>\n",
       "      <td>0.256267</td>\n",
       "    </tr>\n",
       "    <tr>\n",
       "      <th>5</th>\n",
       "      <td>bare rock</td>\n",
       "      <td>0.004231</td>\n",
       "      <td>0.000000</td>\n",
       "      <td>0.000000</td>\n",
       "      <td>0.000000</td>\n",
       "      <td>0.074060</td>\n",
       "    </tr>\n",
       "    <tr>\n",
       "      <th>6</th>\n",
       "      <td>surface water</td>\n",
       "      <td>2.388247</td>\n",
       "      <td>0.792017</td>\n",
       "      <td>0.422304</td>\n",
       "      <td>0.566182</td>\n",
       "      <td>1.392796</td>\n",
       "    </tr>\n",
       "    <tr>\n",
       "      <th>7</th>\n",
       "      <td>snow</td>\n",
       "      <td>0.000000</td>\n",
       "      <td>0.000000</td>\n",
       "      <td>0.000000</td>\n",
       "      <td>0.000000</td>\n",
       "      <td>0.000000</td>\n",
       "    </tr>\n",
       "    <tr>\n",
       "      <th>8</th>\n",
       "      <td>ice</td>\n",
       "      <td>0.000000</td>\n",
       "      <td>0.000000</td>\n",
       "      <td>0.000000</td>\n",
       "      <td>0.000000</td>\n",
       "      <td>0.000000</td>\n",
       "    </tr>\n",
       "    <tr>\n",
       "      <th>9</th>\n",
       "      <td>trees</td>\n",
       "      <td>36.072175</td>\n",
       "      <td>51.327460</td>\n",
       "      <td>51.851683</td>\n",
       "      <td>52.015256</td>\n",
       "      <td>47.773887</td>\n",
       "    </tr>\n",
       "    <tr>\n",
       "      <th>10</th>\n",
       "      <td>bushes</td>\n",
       "      <td>2.863078</td>\n",
       "      <td>4.573623</td>\n",
       "      <td>3.837753</td>\n",
       "      <td>3.073558</td>\n",
       "      <td>2.848703</td>\n",
       "    </tr>\n",
       "    <tr>\n",
       "      <th>11</th>\n",
       "      <td>dwarf shrubs</td>\n",
       "      <td>0.000000</td>\n",
       "      <td>0.000000</td>\n",
       "      <td>0.000000</td>\n",
       "      <td>0.000000</td>\n",
       "      <td>0.000000</td>\n",
       "    </tr>\n",
       "    <tr>\n",
       "      <th>12</th>\n",
       "      <td>herbaceous vegetation</td>\n",
       "      <td>25.095047</td>\n",
       "      <td>19.887294</td>\n",
       "      <td>19.805154</td>\n",
       "      <td>19.875269</td>\n",
       "      <td>21.771026</td>\n",
       "    </tr>\n",
       "    <tr>\n",
       "      <th>13</th>\n",
       "      <td>reeds</td>\n",
       "      <td>0.000000</td>\n",
       "      <td>0.000000</td>\n",
       "      <td>0.000000</td>\n",
       "      <td>0.000000</td>\n",
       "      <td>0.000000</td>\n",
       "    </tr>\n",
       "    <tr>\n",
       "      <th>14</th>\n",
       "      <td>shadows</td>\n",
       "      <td>0.000000</td>\n",
       "      <td>0.000000</td>\n",
       "      <td>0.000000</td>\n",
       "      <td>0.000000</td>\n",
       "      <td>0.000000</td>\n",
       "    </tr>\n",
       "    <tr>\n",
       "      <th>15</th>\n",
       "      <td>clouds</td>\n",
       "      <td>0.000000</td>\n",
       "      <td>0.000000</td>\n",
       "      <td>0.000000</td>\n",
       "      <td>0.000000</td>\n",
       "      <td>0.000000</td>\n",
       "    </tr>\n",
       "  </tbody>\n",
       "</table>\n",
       "</div>"
      ],
      "text/plain": [
       "                       name  study_area        50m       100m       200m  \\\n",
       "1                 buildings   12.900180   7.006697   9.173541  10.264798   \n",
       "2   other constructed areas   19.739398  15.627768  14.439828  13.908947   \n",
       "3                 bare soil    0.636715   0.000000   0.000000   0.011078   \n",
       "4                     scree    0.300930   0.785141   0.469736   0.284912   \n",
       "5                 bare rock    0.004231   0.000000   0.000000   0.000000   \n",
       "6             surface water    2.388247   0.792017   0.422304   0.566182   \n",
       "7                      snow    0.000000   0.000000   0.000000   0.000000   \n",
       "8                       ice    0.000000   0.000000   0.000000   0.000000   \n",
       "9                     trees   36.072175  51.327460  51.851683  52.015256   \n",
       "10                   bushes    2.863078   4.573623   3.837753   3.073558   \n",
       "11             dwarf shrubs    0.000000   0.000000   0.000000   0.000000   \n",
       "12    herbaceous vegetation   25.095047  19.887294  19.805154  19.875269   \n",
       "13                    reeds    0.000000   0.000000   0.000000   0.000000   \n",
       "14                  shadows    0.000000   0.000000   0.000000   0.000000   \n",
       "15                   clouds    0.000000   0.000000   0.000000   0.000000   \n",
       "\n",
       "         500m  \n",
       "1   10.492057  \n",
       "2   15.054386  \n",
       "3    0.336818  \n",
       "4    0.256267  \n",
       "5    0.074060  \n",
       "6    1.392796  \n",
       "7    0.000000  \n",
       "8    0.000000  \n",
       "9   47.773887  \n",
       "10   2.848703  \n",
       "11   0.000000  \n",
       "12  21.771026  \n",
       "13   0.000000  \n",
       "14   0.000000  \n",
       "15   0.000000  "
      ]
     },
     "execution_count": 36,
     "metadata": {},
     "output_type": "execute_result"
    }
   ],
   "source": [
    "area_percentages"
   ]
  },
  {
   "cell_type": "code",
   "execution_count": 37,
   "metadata": {
    "collapsed": true
   },
   "outputs": [],
   "source": [
    "area_percentages.to_csv(path.join(output_filepath, \"area_percentages.csv\"))"
   ]
  }
 ],
 "metadata": {
  "kernelspec": {
   "display_name": "Django Shell-Plus",
   "language": "python",
   "name": "django_extensions"
  },
  "language_info": {
   "codemirror_mode": {
    "name": "ipython",
    "version": 3
   },
   "file_extension": ".py",
   "mimetype": "text/x-python",
   "name": "python",
   "nbconvert_exporter": "python",
   "pygments_lexer": "ipython3",
   "version": "3.5.2"
  }
 },
 "nbformat": 4,
 "nbformat_minor": 1
}
