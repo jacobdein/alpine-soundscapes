{
 "cells": [
  {
   "cell_type": "markdown",
   "metadata": {},
   "source": [
    "# Land cover representation"
   ]
  },
  {
   "cell_type": "markdown",
   "metadata": {},
   "source": [
    "This notebook compares the land cover within the entire study area to the land cover within a certain radius around sample locations."
   ]
  },
  {
   "cell_type": "markdown",
   "metadata": {},
   "source": [
    "#### Import statements"
   ]
  },
  {
   "cell_type": "code",
   "execution_count": 1,
   "metadata": {
    "collapsed": true
   },
   "outputs": [],
   "source": [
    "from database.models import Site\n",
    "from landscape.models import LandCover\n",
    "from geo.models import Boundary\n",
    "from django.contrib.gis.db.models.functions import Intersection\n",
    "from django.contrib.gis.db.models import Collect\n",
    "from django.db import connection\n",
    "from django.contrib.gis.geos import GEOSGeometry\n",
    "\n",
    "from os import path\n",
    "import numpy\n",
    "import geopandas\n",
    "import pyproj\n",
    "from shapely.ops import unary_union, cascaded_union\n",
    "from matplotlib import pyplot\n",
    "%matplotlib inline"
   ]
  },
  {
   "cell_type": "markdown",
   "metadata": {},
   "source": [
    "define the project coordinate system"
   ]
  },
  {
   "cell_type": "code",
   "execution_count": 2,
   "metadata": {
    "collapsed": true
   },
   "outputs": [],
   "source": [
    "austria_mgd = pyproj.Proj(\"+init=epsg:31254\")"
   ]
  },
  {
   "cell_type": "markdown",
   "metadata": {},
   "source": [
    "define the output filepath"
   ]
  },
  {
   "cell_type": "code",
   "execution_count": 3,
   "metadata": {
    "collapsed": true
   },
   "outputs": [],
   "source": [
    "output_filepath = \"\""
   ]
  },
  {
   "cell_type": "markdown",
   "metadata": {},
   "source": [
    "#### Function declarations"
   ]
  },
  {
   "cell_type": "code",
   "execution_count": 4,
   "metadata": {
    "collapsed": false
   },
   "outputs": [],
   "source": [
    "# returns a geopandas dataframe from a given PostGIS query\n",
    "def get_geodataframe(queryset, modification=None, crs=austria_mgd):\n",
    "    query = queryset.query.sql_with_params()\n",
    "    if modification:\n",
    "        query = (modification, query[1])\n",
    "    return geopandas.read_postgis(query[0], connection, \n",
    "                                   geom_col='geometry', \n",
    "                                   params=query[1], \n",
    "                                   index_col='id',\n",
    "                                   crs=crs)"
   ]
  },
  {
   "cell_type": "code",
   "execution_count": 5,
   "metadata": {
    "collapsed": false
   },
   "outputs": [],
   "source": [
    "# returns a geopandas dataframe containing the land cover intersected with a given geometry\n",
    "def get_landcover(geometry, make_valid=False, crs=austria_mgd):\n",
    "    \n",
    "    if make_valid:\n",
    "        intersection = \"\"\"ST_Intersection(ST_MakeValid(\"landscape_landcover\".\"geometry\"), %s)\"\"\"\n",
    "    else:\n",
    "        intersection = \"\"\"ST_Intersection(\"landscape_landcover\".\"geometry\", %s)\"\"\"\n",
    "    \n",
    "    query = \"\"\"\n",
    "        SELECT \"landscape_landcover\".\"id\", \"landscape_landcover\".\"cover_type\", \n",
    "        {0} AS \"geometry\" FROM \"landscape_landcover\" \n",
    "        WHERE ST_Intersects(\"landscape_landcover\".\"geometry\", %s)\n",
    "    \"\"\".replace('\\n', '').format(intersection)\n",
    "\n",
    "    return geopandas.read_postgis(query, connection, \n",
    "                                   geom_col='geometry', \n",
    "                                   params=[\"SRID={0};{1}\".format(geometry.srid, geometry.wkt), \n",
    "                                           \"SRID={0};{1}\".format(geometry.srid, geometry.wkt)], \n",
    "                                   index_col='id',\n",
    "                                   crs=crs)"
   ]
  },
  {
   "cell_type": "markdown",
   "metadata": {},
   "source": [
    "## Get location land cover"
   ]
  },
  {
   "cell_type": "markdown",
   "metadata": {},
   "source": [
    "define a list of radii defining the surrounding land cover"
   ]
  },
  {
   "cell_type": "code",
   "execution_count": 6,
   "metadata": {
    "collapsed": true
   },
   "outputs": [],
   "source": [
    "radii = [50, 100, 200, 500]"
   ]
  },
  {
   "cell_type": "markdown",
   "metadata": {},
   "source": [
    "compute a geometry (unioned buffer around locations) for each radius"
   ]
  },
  {
   "cell_type": "code",
   "execution_count": 7,
   "metadata": {
    "collapsed": true
   },
   "outputs": [],
   "source": [
    "location_area_list = []\n",
    "for radius in radii:\n",
    "    location_areas = get_geodataframe(Site.objects.filter(id__lte=30)).buffer(radius)\n",
    "    location_area = location_areas.iloc[0]\n",
    "    for area in location_areas:\n",
    "        location_area = location_area.union(area)\n",
    "    # convert to geos multipolygon with srid\n",
    "    location_area = GEOSGeometry(location_area.wkt)\n",
    "    location_area.srid = 31254\n",
    "    location_area_list.append(location_area)"
   ]
  },
  {
   "cell_type": "markdown",
   "metadata": {},
   "source": [
    "query database"
   ]
  },
  {
   "cell_type": "code",
   "execution_count": 8,
   "metadata": {
    "collapsed": false
   },
   "outputs": [],
   "source": [
    "for location_area, radius in zip(location_area_list, radii):\n",
    "    location_landcover = get_landcover(location_area)\n",
    "    \n",
    "    # export result as a csv file\n",
    "    location_landcover.to_csv(path.join(output_filepath, \"location_landcover_{0}m.csv\".format(radius)))"
   ]
  },
  {
   "cell_type": "markdown",
   "metadata": {},
   "source": [
    "## Get study area land cover"
   ]
  },
  {
   "cell_type": "markdown",
   "metadata": {},
   "source": [
    "get the study area boundary geometry from the database"
   ]
  },
  {
   "cell_type": "code",
   "execution_count": 10,
   "metadata": {
    "collapsed": true
   },
   "outputs": [],
   "source": [
    "boundary = Boundary.objects.get(name=\"study area\")"
   ]
  },
  {
   "cell_type": "markdown",
   "metadata": {},
   "source": [
    "query database"
   ]
  },
  {
   "cell_type": "code",
   "execution_count": 11,
   "metadata": {
    "collapsed": false,
    "scrolled": false
   },
   "outputs": [],
   "source": [
    "study_landcover = get_landcover(boundary.geometry, make_valid=True)\n",
    "\n",
    "# export result as a csv file\n",
    "study_landcover.to_csv(path.join(output_filepath, \"study_area_landcover.csv\"))"
   ]
  }
 ],
 "metadata": {
  "kernelspec": {
   "display_name": "Django Shell-Plus",
   "language": "python",
   "name": "django_extensions"
  },
  "language_info": {
   "codemirror_mode": {
    "name": "ipython",
    "version": 3
   },
   "file_extension": ".py",
   "mimetype": "text/x-python",
   "name": "python",
   "nbconvert_exporter": "python",
   "pygments_lexer": "ipython3",
   "version": "3.5.2"
  }
 },
 "nbformat": 4,
 "nbformat_minor": 1
}
