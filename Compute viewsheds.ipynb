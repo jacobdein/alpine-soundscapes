{
 "cells": [
  {
   "cell_type": "markdown",
   "metadata": {},
   "source": [
    "# Compute viewsheds"
   ]
  },
  {
   "cell_type": "markdown",
   "metadata": {},
   "source": [
    "This notebook computes the viewshed for each point in 'observer_points' based on an 'elevation' raster.\n",
    "\n",
    "This notebook uses GRASS GIS (7.0.4), and must be run inside of a GRASS environment (start the jupyter notebook server from the GRASS command line).\n",
    "<a href=\"https://grass.osgeo.org\">GRASS GIS</a>\n",
    "\n",
    "The code in this notebook was modified from examples in \"How to write a Python GRASS GIS 7 addon\" developed for a FOSS4G Europe 2015 workshop. The code is contained in the <a href=\"https://github.com/wenzeslaus/python-grass-addon\">\"python-grass-addon\"</a> repository on GitHub.com."
   ]
  },
  {
   "cell_type": "markdown",
   "metadata": {},
   "source": [
    "#### Required packages"
   ]
  },
  {
   "cell_type": "markdown",
   "metadata": {},
   "source": [
    "<a href=\"https://github.com/numpy/numpy\">numpy</a> <br />\n",
    "<a href=\"https://github.com/pydata/pandas\">pandas</a> <br />\n",
    "<a href=\"https://github.com/rasbt/pyprind\">pyprind</a>"
   ]
  },
  {
   "cell_type": "markdown",
   "metadata": {},
   "source": [
    "#### Variable definitions"
   ]
  },
  {
   "cell_type": "markdown",
   "metadata": {},
   "source": [
    "elevation – raster digital elevation model <br />\n",
    "observer_points – vector map contain observer points <br />\n",
    "observer_height – height in map units of observer above the elevation raster"
   ]
  },
  {
   "cell_type": "code",
   "execution_count": null,
   "metadata": {
    "collapsed": true
   },
   "outputs": [],
   "source": [
    "elevation = 'DEM'\n",
    "observer_points = 'sample_points_field'\n",
    "observer_elevation = 1.5"
   ]
  },
  {
   "cell_type": "markdown",
   "metadata": {},
   "source": [
    "#### Import packages"
   ]
  },
  {
   "cell_type": "code",
   "execution_count": 1,
   "metadata": {
    "collapsed": false
   },
   "outputs": [],
   "source": [
    "import numpy as np\n",
    "import pandas\n",
    "import pyprind"
   ]
  },
  {
   "cell_type": "markdown",
   "metadata": {},
   "source": [
    "GRASS import statements"
   ]
  },
  {
   "cell_type": "code",
   "execution_count": 2,
   "metadata": {
    "collapsed": false
   },
   "outputs": [],
   "source": [
    "import grass.script as gscript\n",
    "\n",
    "from grass.pygrass.vector.geometry import Point\n",
    "from grass.pygrass.vector import Vector\n",
    "\n",
    "from grass.pygrass.vector import VectorTopo\n",
    "from grass.pygrass.vector.table import DBlinks"
   ]
  },
  {
   "cell_type": "markdown",
   "metadata": {},
   "source": [
    "#### Compute Viewshed"
   ]
  },
  {
   "cell_type": "code",
   "execution_count": 4,
   "metadata": {
    "collapsed": false
   },
   "outputs": [
    {
     "name": "stdout",
     "output_type": "stream",
     "text": [
      "Viewshed progress\n",
      "0%                                     100%\n",
      "[█████████████████████████████████████████] | ETA: 00:00:00 | Item ID: 41\n",
      "Total time elapsed: 07:04:56\n"
     ]
    }
   ],
   "source": [
    "radius = -1  #default = -1 (infinity)\n",
    "\n",
    "tmp_viewshed_name = 'tmp_viewshed'\n",
    "tmp_point = 'tmp_current_point'\n",
    "\n",
    "# connect to attributes table\n",
    "sample_points = VectorTopo(observer_points)\n",
    "sample_points.open(mode='r')\n",
    "dblinks = DBlinks(sample_points.c_mapinfo)\n",
    "link = dblinks[0]\n",
    "sample_points_table = link.table()\n",
    "sample_points_table.filters.select('cat', 'ID')\n",
    "\n",
    "with Vector(observer_points, mode='r') as points:\n",
    "    \n",
    "    progress_bar = pyprind.ProgBar(points.n_lines, bar_char='█', title='Viewshed progress', monitor=True, stream=1, width=50)\n",
    "    \n",
    "    for point in points:\n",
    "        progress_bar.update(item_id = str(point.cat))\n",
    "        \n",
    "        # get ID of point\n",
    "        sample_points_table.filters.where('cat = {0}'.format(point.cat))\n",
    "        cursor = sample_points_table.execute()\n",
    "        result = np.array(cursor.fetchall())\n",
    "        cursor.close()\n",
    "        data = pandas.DataFrame(result, columns=['cat', 'ID']).set_index('cat')\n",
    "        ID = data['ID'].get_value(point.cat)\n",
    "        \n",
    "        # compute viewshed\n",
    "        viewshed_id = str(ID)\n",
    "        viewshed_name = viewshed_id + '_viewshed'\n",
    "        gscript.read_command('r.viewshed',\n",
    "                             input=elevation,\n",
    "                             observer_elevation=1.5,\n",
    "                             output=tmp_viewshed_name,\n",
    "                             coordinates=point.coords(),\n",
    "                             overwrite=True)\n",
    "        gscript.mapcalc(exp=\"{viewshed} = if({tmp}, {vid}, null())\".format(viewshed=viewshed_name,\n",
    "                                                                                  tmp=tmp_viewshed_name,\n",
    "                                                                                  vid=viewshed_id),\n",
    "                        overwrite=True)"
   ]
  },
  {
   "cell_type": "markdown",
   "metadata": {},
   "source": [
    "#### Utility functions"
   ]
  },
  {
   "cell_type": "markdown",
   "metadata": {},
   "source": [
    "delete viewshed"
   ]
  },
  {
   "cell_type": "code",
   "execution_count": null,
   "metadata": {
    "collapsed": true
   },
   "outputs": [],
   "source": [
    "def delete_viewshed(name):\n",
    "    gscript.read_command('g.remove',\n",
    "                         type='raster',\n",
    "                         name=name,\n",
    "                         flags='f')"
   ]
  },
  {
   "cell_type": "markdown",
   "metadata": {},
   "source": [
    "view result"
   ]
  },
  {
   "cell_type": "code",
   "execution_count": null,
   "metadata": {
    "collapsed": false
   },
   "outputs": [],
   "source": [
    "# import a function to render the results\n",
    "from render import view\n",
    "\n",
    "from grass.pygrass.modules.shortcuts import raster as r\n",
    "\n",
    "# set the colors of the input and output maps to a predefined elevation color table\n",
    "#r.colors(map='DEM', color='elevation')"
   ]
  },
  {
   "cell_type": "code",
   "execution_count": 12,
   "metadata": {
    "collapsed": false
   },
   "outputs": [
    {
     "data": {
      "image/png": "[encoded data removed]",
      "text/plain": [
       "<IPython.core.display.Image object>"
      ]
     },
     "execution_count": 12,
     "metadata": {},
     "output_type": "execute_result"
    }
   ],
   "source": [
    "view(['8_viewshed'])"
   ]
  }
 ],
 "metadata": {
  "kernelspec": {
   "display_name": "Python 2",
   "language": "python",
   "name": "python2"
  },
  "language_info": {
   "codemirror_mode": {
    "name": "ipython",
    "version": 2
   },
   "file_extension": ".py",
   "mimetype": "text/x-python",
   "name": "python",
   "nbconvert_exporter": "python",
   "pygments_lexer": "ipython2",
   "version": "2.7.6"
  }
 },
 "nbformat": 4,
 "nbformat_minor": 0
}
