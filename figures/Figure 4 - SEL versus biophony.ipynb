{
 "cells": [
  {
   "cell_type": "markdown",
   "metadata": {},
   "source": [
    "# Figure 4 - SEL versus biophony"
   ]
  },
  {
   "cell_type": "markdown",
   "metadata": {},
   "source": [
    "#### import statements"
   ]
  },
  {
   "cell_type": "code",
   "execution_count": 44,
   "metadata": {
    "collapsed": true
   },
   "outputs": [],
   "source": [
    "import pandas\n",
    "import numpy\n",
    "%matplotlib inline\n",
    "from matplotlib import pyplot\n",
    "from matplotlib.lines import Line2D\n",
    "import seaborn\n",
    "from scipy import stats"
   ]
  },
  {
   "cell_type": "code",
   "execution_count": 15,
   "metadata": {
    "collapsed": true
   },
   "outputs": [],
   "source": [
    "from matplotlib import rcParams"
   ]
  },
  {
   "cell_type": "markdown",
   "metadata": {},
   "source": [
    "#### variable definitions"
   ]
  },
  {
   "cell_type": "code",
   "execution_count": 18,
   "metadata": {
    "collapsed": true
   },
   "outputs": [],
   "source": [
    "data_filepath = \"\""
   ]
  },
  {
   "cell_type": "markdown",
   "metadata": {},
   "source": [
    "#### formating"
   ]
  },
  {
   "cell_type": "code",
   "execution_count": 19,
   "metadata": {
    "collapsed": true
   },
   "outputs": [],
   "source": [
    "seaborn_blue = seaborn.color_palette()[0]\n",
    "seaborn.set()"
   ]
  },
  {
   "cell_type": "code",
   "execution_count": 16,
   "metadata": {
    "collapsed": false
   },
   "outputs": [
    {
     "data": {
      "text/plain": [
       "['Helvetica Neue',\n",
       " 'Arial',\n",
       " 'Bitstream Vera Sans',\n",
       " 'DejaVu Sans',\n",
       " 'Lucida Grande',\n",
       " 'Verdana',\n",
       " 'Geneva',\n",
       " 'Lucid',\n",
       " 'Avant Garde',\n",
       " 'sans-serif']"
      ]
     },
     "execution_count": 16,
     "metadata": {},
     "output_type": "execute_result"
    }
   ],
   "source": [
    "rcParams['font.sans-serif']"
   ]
  },
  {
   "cell_type": "code",
   "execution_count": 17,
   "metadata": {
    "collapsed": true
   },
   "outputs": [],
   "source": [
    "rcParams['font.sans-serif'] = ['Helvetica Neue',\n",
    "                               'Arial',\n",
    "                               'Bitstream Vera Sans',\n",
    "                               'DejaVu Sans',\n",
    "                               'Lucida Grande',\n",
    "                               'Verdana',\n",
    "                               'Geneva',\n",
    "                               'Lucid',\n",
    "                               'Avant Garde',\n",
    "                               'sans-serif']"
   ]
  },
  {
   "cell_type": "markdown",
   "metadata": {},
   "source": [
    "#### sort data"
   ]
  },
  {
   "cell_type": "code",
   "execution_count": 20,
   "metadata": {
    "collapsed": true
   },
   "outputs": [],
   "source": [
    "data = pandas.read_csv(data_filepath)\n",
    "data = data.loc[data.site<=30]"
   ]
  },
  {
   "cell_type": "code",
   "execution_count": 21,
   "metadata": {
    "collapsed": true
   },
   "outputs": [],
   "source": [
    "data = data.sort_values(by=['site', 'sound']).reset_index(drop=True)"
   ]
  },
  {
   "cell_type": "markdown",
   "metadata": {},
   "source": [
    "#### compute means"
   ]
  },
  {
   "cell_type": "code",
   "execution_count": 24,
   "metadata": {
    "collapsed": false
   },
   "outputs": [],
   "source": [
    "means = data[['site', 'sel', 'biophony']].groupby('site').mean()\n",
    "mins = data[['site', 'sel', 'biophony']].groupby('site').min()\n",
    "maxs = data[['site', 'sel', 'biophony']].groupby('site').max()"
   ]
  },
  {
   "cell_type": "markdown",
   "metadata": {},
   "source": [
    "#### plot"
   ]
  },
  {
   "cell_type": "code",
   "execution_count": 114,
   "metadata": {
    "collapsed": false
   },
   "outputs": [
    {
     "data": {
      "image/png": "[encoded data removed]",
      "text/plain": [
       "<matplotlib.figure.Figure at 0x1a1f0bbf60>"
      ]
     },
     "metadata": {},
     "output_type": "display_data"
    }
   ],
   "source": [
    "figure4, ax = pyplot.subplots()\n",
    "figure4.subplots_adjust(left=0.15, bottom=0.15, right=0.95, top=0.95, wspace=0, hspace=0)\n",
    "figure4.set_figheight(3.30)\n",
    "figure4.set_figwidth(3.30)\n",
    "\n",
    "p1 = ax.scatter('sel', 'biophony', data=means, color='black')\n",
    "xl = ax.set_xlabel('SEL (decibels)')\n",
    "yl = ax.set_ylabel('percent biophony')\n",
    "lx = ax.set_xlim(-60, -30)\n",
    "ly = ax.set_ylim(0, 15)\n",
    "\n",
    "yt = ax.set_yticks(numpy.arange(1, 17, 2))\n",
    "\n",
    "for s in means.index:\n",
    "    x = means.loc[s].sel\n",
    "    y1 = mins.loc[s].biophony\n",
    "    y2 = maxs.loc[s].biophony\n",
    "    ax.add_line(Line2D([x, x], [y1, y2], color='black', linewidth=1, alpha=0.5))\n",
    "\n",
    "# legend\n",
    "ap = dict(arrowstyle='-',\n",
    "          connectionstyle='arc3,rad=0.3', linestyle=':', linewidth=0.5, color='gray')\n",
    "a1 = ax.annotate('site mean', (means.loc[29].sel, means.loc[29].biophony), xytext=(-38, 5), arrowprops=ap)\n",
    "a2 = ax.annotate('site max', (means.loc[29].sel, maxs.loc[29].biophony), xytext=(-38, 6), arrowprops=ap)\n",
    "a3 = ax.annotate('site min', (means.loc[29].sel, mins.loc[29].biophony), xytext=(-38, 4), arrowprops=ap)\n",
    "\n",
    "# pearsonr\n",
    "r = stats.pearsonr(x=means.sel, y=means.biophony)\n",
    "a4 = ax.text(x=-31, y=14, s='pearsonr = {0:.2f}, p = {1:.1e}'.format(r[0], r[1]), ha='right', va='center')"
   ]
  },
  {
   "cell_type": "markdown",
   "metadata": {},
   "source": [
    "#### save figure"
   ]
  },
  {
   "cell_type": "code",
   "execution_count": 116,
   "metadata": {
    "collapsed": false
   },
   "outputs": [],
   "source": [
    "#figure4.savefig(\"\", dpi=600)"
   ]
  }
 ],
 "metadata": {
  "kernelspec": {
   "display_name": "Python 3",
   "language": "python",
   "name": "python3"
  },
  "language_info": {
   "codemirror_mode": {
    "name": "ipython",
    "version": 3
   },
   "file_extension": ".py",
   "mimetype": "text/x-python",
   "name": "python",
   "nbconvert_exporter": "python",
   "pygments_lexer": "ipython3",
   "version": "3.6.4"
  }
 },
 "nbformat": 4,
 "nbformat_minor": 2
}
