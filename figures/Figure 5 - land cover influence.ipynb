{
 "cells": [
  {
   "cell_type": "markdown",
   "metadata": {},
   "source": [
    "# Figure 5 - land cover influence"
   ]
  },
  {
   "cell_type": "markdown",
   "metadata": {},
   "source": [
    "This notebook explores the relationship between land cover, biophony, and the sound exposure level (SEL)."
   ]
  },
  {
   "cell_type": "markdown",
   "metadata": {},
   "source": [
    "#### import statements"
   ]
  },
  {
   "cell_type": "code",
   "execution_count": 1,
   "metadata": {
    "collapsed": true
   },
   "outputs": [],
   "source": [
    "import pandas\n",
    "import numpy\n",
    "from matplotlib import pyplot\n",
    "from matplotlib.lines import Line2D\n",
    "%matplotlib inline\n",
    "\n",
    "from figutils import style"
   ]
  },
  {
   "cell_type": "markdown",
   "metadata": {},
   "source": [
    "#### formatting"
   ]
  },
  {
   "cell_type": "code",
   "execution_count": 2,
   "metadata": {},
   "outputs": [],
   "source": [
    "style.set_font()"
   ]
  },
  {
   "cell_type": "markdown",
   "metadata": {},
   "source": [
    "#### data sources"
   ]
  },
  {
   "cell_type": "markdown",
   "metadata": {},
   "source": [
    "acoustic and land cover values"
   ]
  },
  {
   "cell_type": "code",
   "execution_count": 3,
   "metadata": {
    "collapsed": true
   },
   "outputs": [],
   "source": [
    "data = pandas.read_csv(\"\")\n",
    "data = data[data.site <= 30]\n",
    "values = data[['site', 'building_500m', 'pavement_500m', 'forest_500m', 'd2n_500m', 'sel', 'biophony']].groupby('site').mean()\n",
    "values.sort_values(by=['d2n_500m'], inplace=True)"
   ]
  },
  {
   "cell_type": "markdown",
   "metadata": {},
   "source": [
    "land cover percent areas"
   ]
  },
  {
   "cell_type": "code",
   "execution_count": 4,
   "metadata": {
    "collapsed": false
   },
   "outputs": [],
   "source": [
    "landcover = pandas.read_csv(\"\")\n",
    "landcover = landcover[landcover.IncludedArea == '500m']\n",
    "landcover = landcover[landcover.SiteID <= 30]\n",
    "landcover.set_index('SiteID', drop='False', inplace=True)\n",
    "landcover.sort_index(inplace=True)"
   ]
  },
  {
   "cell_type": "markdown",
   "metadata": {},
   "source": [
    "land cover colors and site names"
   ]
  },
  {
   "cell_type": "code",
   "execution_count": 5,
   "metadata": {},
   "outputs": [],
   "source": [
    "colors = pandas.read_csv(\"\").set_index('ID')\n",
    "site_names = data.sort_values(by='site').site_name.unique()\n",
    "# buffer area (r = 500m)\n",
    "full_area = 775665.717"
   ]
  },
  {
   "cell_type": "markdown",
   "metadata": {},
   "source": [
    "join land cover areas with the data"
   ]
  },
  {
   "cell_type": "code",
   "execution_count": 6,
   "metadata": {
    "collapsed": true
   },
   "outputs": [],
   "source": [
    "landcover = values.join(landcover)"
   ]
  },
  {
   "cell_type": "markdown",
   "metadata": {},
   "source": [
    "#### plot"
   ]
  },
  {
   "cell_type": "code",
   "execution_count": 7,
   "metadata": {},
   "outputs": [
    {
     "data": {
      "image/png": "[encoded data removed]",
      "text/plain": [
       "<matplotlib.figure.Figure at 0x11898d080>"
      ]
     },
     "metadata": {},
     "output_type": "display_data"
    }
   ],
   "source": [
    "figure = pyplot.figure()\n",
    "figure.subplots_adjust(left=0.08, bottom=0.08, right=0.98, top=0.98, wspace=0, hspace=0)\n",
    "\n",
    "figure.set_figheight(6.85)\n",
    "figure.set_figwidth(6.85)\n",
    "\n",
    "ax_a = pyplot.subplot2grid((52, 1), (0, 0), rowspan=8, colspan=1)\n",
    "ax_b = pyplot.subplot2grid((52, 1), (10, 0), rowspan=20, colspan=1, sharex=ax_a)\n",
    "ax_c = pyplot.subplot2grid((52, 1), (32, 0), rowspan=20, colspan=1, sharex=ax_a)\n",
    "\n",
    "ID = numpy.array([ n for n in range(len(landcover)) ])\n",
    "xticks = ID + 0.5\n",
    "\n",
    "\n",
    "#-------------D2N-------------\n",
    "ax_a.scatter(xticks, values.d2n_500m, c='black', s=10)\n",
    "for n, i in enumerate(landcover.index):\n",
    "    ax_a.add_line(Line2D([xticks[n], xticks[n]], [values.d2n_500m[i], 0], color='black', linewidth=0.75))\n",
    "ax_a.set_frame_on(False)\n",
    "\n",
    "ax_a.tick_params(axis='both', \n",
    "                 bottom=False, right=False, top=False, left=True,\n",
    "                 labelbottom=False, labelleft=True, direction='out')\n",
    "\n",
    "ax_a.add_line(Line2D([0, len(landcover)], [0, 0], color='black', linewidth=0.75))\n",
    "\n",
    "ax_a.set_yticks([0, 1])\n",
    "ax_a.set_yticklabels(['  0', '  1'])\n",
    "ax_a.set_ylabel('D' + u'\\u00B2' + 'N')\n",
    "\n",
    "\n",
    "#-------------biophony-------------\n",
    "bar_width = 0.9\n",
    "SiteIDs = values.index\n",
    "left = ID + 0.5\n",
    "height = numpy.zeros(len(landcover))\n",
    "bottom = numpy.zeros(len(landcover))\n",
    "for index, column in landcover.loc[:,'1':'15'].iteritems():\n",
    "    height = (column.as_matrix() / full_area) * 100\n",
    "    ax_b.bar(x=left, \n",
    "            height=height, \n",
    "            bottom=bottom,\n",
    "            width=bar_width,\n",
    "            color=colors['Color'][int(index)],\n",
    "            edgecolor=None,\n",
    "            linewidth=0,\n",
    "            alpha=0.5)\n",
    "    bottom = bottom + height\n",
    "\n",
    "# format\n",
    "ax_b.set_xlim(0, 30)\n",
    "ax_b.set_ylim(0, 100)\n",
    "ax_b.set_ylabel('mean percent biophony')\n",
    "ax_b.set_frame_on(False)\n",
    "\n",
    "# title formatting\n",
    "title_font = {\n",
    "    'size': 12.0,\n",
    "    'weight': 'bold'\n",
    "}\n",
    "\n",
    "# formatting\n",
    "ax_b.tick_params(axis='both', \n",
    "                 bottom=False, right=False, top=False, left=True,\n",
    "                 labelbottom=False, labelleft=True, direction='out')\n",
    "\n",
    "y = values['biophony']\n",
    "ymin = numpy.around(y.min() - 1)\n",
    "y_zeroed = y - ymin\n",
    "ymax = numpy.around(y_zeroed.max() + 1)\n",
    "y_trans = (y_zeroed / ymax) * 100\n",
    "\n",
    "yticks = numpy.arange(ymin, numpy.around(y.max() + 5, decimals=-1) + 5, 5)\n",
    "yticks_trans = [((n - yticks.min()) /  (yticks.max() - yticks.min())) * 100 for n in yticks]\n",
    "yticklabels = [\"{0:.0f}\".format(n) for n in yticks]\n",
    "t = ax_b.set_yticks(yticks_trans)\n",
    "tl = ax_b.set_yticklabels(yticklabels)\n",
    "\n",
    "ax_b.scatter(numpy.arange(0, 30, 1) + 0.5, y_trans, c='black', zorder=2, s=10)\n",
    "for n, i in enumerate(landcover.index):\n",
    "    ax_b.add_line(Line2D([xticks[n], xticks[n]], [min(yticks_trans), y_trans[i]], color='black', linewidth=0.75))\n",
    "    \n",
    "yticks = numpy.arange(ymin, numpy.around(y.max()) + 1, 1)\n",
    "yticks_trans = [((n - yticks.min()) /  (yticks.max() - yticks.min())) * 100 for n in yticks]\n",
    "yticklabels = [\"  {0:.0f}\".format(abs(n)) for n in yticks]\n",
    "t = ax_b.set_yticks(yticks_trans)\n",
    "tl = ax_b.set_yticklabels(yticklabels)\n",
    "\n",
    "\n",
    "#-------------SEL-------------\n",
    "bar_width = 0.9\n",
    "SiteIDs = values.index\n",
    "left = ID + 0.5\n",
    "height = numpy.zeros(len(landcover))\n",
    "bottom = numpy.zeros(len(landcover))\n",
    "for index, column in landcover.loc[:,'1':'15'].iteritems():\n",
    "    height = (column.as_matrix() / full_area) * 100\n",
    "    ax_c.bar(x=left, \n",
    "            height=height, \n",
    "            bottom=bottom,\n",
    "            width=bar_width,\n",
    "            color=colors['Color'][int(index)],\n",
    "            edgecolor=None,\n",
    "            linewidth=0,\n",
    "            alpha=0.5)\n",
    "    bottom = bottom + height\n",
    "\n",
    "# format\n",
    "ax_c.set_xlim(0, 30)\n",
    "ax_c.set_ylim(0, 100)\n",
    "ax_c.set_xlabel('site number')\n",
    "ax_c.set_ylabel('mean SEL (decibels)')\n",
    "xticklabels = [site_names[n - 1] for n in SiteIDs]\n",
    "xticklabels = [ \"{0}\".format(SiteIDs[i]) for i in ID ]\n",
    "t = ax_c.set_xticks(xticks)\n",
    "tl = ax_c.set_xticklabels(xticklabels, rotation='vertical')\n",
    "ax_c.set_frame_on(False)\n",
    "\n",
    "# formatting\n",
    "ax_c.tick_params(axis='both', \n",
    "                 bottom=False, right=False, top=False, left=True,\n",
    "                 labelbottom=True, labelleft=True, direction='out')\n",
    "\n",
    "y = values['sel']\n",
    "ymin = numpy.around(y.min() - 5, decimals=-1)\n",
    "y_zeroed = y - ymin\n",
    "ymax = numpy.around(y_zeroed.max() + 5, decimals=-1)\n",
    "y_trans = (y_zeroed / ymax) * 100\n",
    "\n",
    "yticks = numpy.arange(ymin, numpy.around(y.max() + 5, decimals=-1) + 5, 5)\n",
    "yticks_trans = [((n - yticks.min()) /  (yticks.max() - yticks.min())) * 100 for n in yticks]\n",
    "yticklabels = [\"{0:.0f}\".format(n) for n in yticks]\n",
    "t = ax_c.set_yticks(yticks_trans)\n",
    "tl = ax_c.set_yticklabels(yticklabels)\n",
    "\n",
    "ax_c.scatter(numpy.arange(0, 30, 1) + 0.5, y_trans, c='black', zorder=2, s=10)\n",
    "for n, i in enumerate(landcover.index):\n",
    "    ax_c.add_line(Line2D([xticks[n], xticks[n]], [min(yticks_trans), y_trans[i]], color='black', linewidth=0.75))\n",
    "\n",
    "# title formatting\n",
    "title_font = {\n",
    "    'size': 12.0,\n",
    "    'weight': 'bold'\n",
    "}\n",
    "ax_a2 = pyplot.axes([0, 0.87, 1, 0.125], facecolor=(1, 1, 1, 0), frameon=False)\n",
    "ax_a2.tick_params(bottom=False, labelbottom=False,\n",
    "                 top=False, labeltop=False,\n",
    "                 left=False, labelleft=False,\n",
    "                 right=False, labelright=False)\n",
    "ax_b2 = pyplot.axes([0, 0.43, 1, 0.3846], facecolor=(1, 1, 1, 0), frameon=False)\n",
    "ax_b2.tick_params(bottom=False, labelbottom=False,\n",
    "                 top=False, labeltop=False,\n",
    "                 left=False, labelleft=False,\n",
    "                 right=False, labelright=False)\n",
    "ax_c2 = pyplot.axes([0, 0.05, 1, 0.3846], facecolor=(1, 1, 1, 0), frameon=False)\n",
    "ax_c2.tick_params(bottom=False, labelbottom=False,\n",
    "                 top=False, labeltop=False,\n",
    "                 left=False, labelleft=False,\n",
    "                 right=False, labelright=False)\n",
    "\n",
    "t1 = ax_a2.text(0, 1, 'a', horizontalalignment='left', verticalalignment='top', \n",
    "          fontdict=title_font)\n",
    "t2 = ax_b2.text(0, 1, 'b', horizontalalignment='left', verticalalignment='top', \n",
    "          fontdict=title_font)\n",
    "t2 = ax_c2.text(0, 1, 'c', horizontalalignment='left', verticalalignment='top', \n",
    "          fontdict=title_font)"
   ]
  },
  {
   "cell_type": "markdown",
   "metadata": {},
   "source": [
    "#### save figure"
   ]
  },
  {
   "cell_type": "code",
   "execution_count": 8,
   "metadata": {
    "collapsed": true
   },
   "outputs": [],
   "source": [
    "figure.savefig(\"\", dpi=150)"
   ]
  }
 ],
 "metadata": {
  "kernelspec": {
   "display_name": "Django Shell-Plus",
   "language": "python",
   "name": "django_extensions"
  },
  "language_info": {
   "codemirror_mode": {
    "name": "ipython",
    "version": 3
   },
   "file_extension": ".py",
   "mimetype": "text/x-python",
   "name": "python",
   "nbconvert_exporter": "python",
   "pygments_lexer": "ipython3",
   "version": "3.6.4"
  }
 },
 "nbformat": 4,
 "nbformat_minor": 2
}
