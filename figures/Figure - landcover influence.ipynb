{
 "cells": [
  {
   "cell_type": "markdown",
   "metadata": {},
   "source": [
    "# Figure - landcover influence"
   ]
  },
  {
   "cell_type": "markdown",
   "metadata": {},
   "source": [
    "This notebook explores the relationship between landcover and the sound exposure level (SEL)."
   ]
  },
  {
   "cell_type": "markdown",
   "metadata": {},
   "source": [
    "#### Import Statements"
   ]
  },
  {
   "cell_type": "code",
   "execution_count": 1,
   "metadata": {
    "collapsed": true
   },
   "outputs": [],
   "source": [
    "import pandas\n",
    "import numpy\n",
    "from matplotlib import pyplot\n",
    "from matplotlib.lines import Line2D\n",
    "%matplotlib inline"
   ]
  },
  {
   "cell_type": "code",
   "execution_count": 2,
   "metadata": {
    "collapsed": false
   },
   "outputs": [
    {
     "data": {
      "text/plain": [
       "['Bitstream Vera Sans',\n",
       " 'DejaVu Sans',\n",
       " 'Lucida Grande',\n",
       " 'Verdana',\n",
       " 'Geneva',\n",
       " 'Lucid',\n",
       " 'Arial',\n",
       " 'Helvetica',\n",
       " 'Avant Garde',\n",
       " 'sans-serif']"
      ]
     },
     "execution_count": 2,
     "metadata": {},
     "output_type": "execute_result"
    }
   ],
   "source": [
    "from matplotlib import rcParams\n",
    "rcParams['font.sans-serif']"
   ]
  },
  {
   "cell_type": "code",
   "execution_count": 3,
   "metadata": {
    "collapsed": true
   },
   "outputs": [],
   "source": [
    "rcParams['font.sans-serif'] = ['Helvetica',\n",
    "                               'Arial',\n",
    "                               'Bitstream Vera Sans',\n",
    "                               'DejaVu Sans',\n",
    "                               'Lucida Grande',\n",
    "                               'Verdana',\n",
    "                               'Geneva',\n",
    "                               'Lucid',\n",
    "                               'Avant Garde',\n",
    "                               'sans-serif']"
   ]
  },
  {
   "cell_type": "markdown",
   "metadata": {},
   "source": [
    "#### Data sources"
   ]
  },
  {
   "cell_type": "code",
   "execution_count": 4,
   "metadata": {
    "collapsed": true
   },
   "outputs": [],
   "source": [
    "data = pandas.read_csv(\"/home/ubuntu/data/dataset.csv\")\n",
    "data = data[data.site <= 30]"
   ]
  },
  {
   "cell_type": "code",
   "execution_count": 5,
   "metadata": {
    "collapsed": false
   },
   "outputs": [],
   "source": [
    "#sel = data[['site', 'building_100m', 'pavement_100m', 'field_100m', 'land_composite_500m', 'sel']].groupby('site').mean()\n",
    "#sel.sort_values(by=['pavement_100m', 'building_100m', 'field_100m'], ascending=False, inplace=True)\n",
    "\n",
    "sel = data[['site', 'building_500m', 'pavement_500m', 'forest_500m', 'sel']].groupby('site').mean()\n",
    "sel['land_composite_500m'] = (sel.forest_500m - (sel.building_500m + sel.pavement_500m)) / (sel.forest_500m + sel.building_500m + sel.pavement_500m)\n",
    "sel.sort_values(by=['land_composite_500m'], inplace=True)"
   ]
  },
  {
   "cell_type": "code",
   "execution_count": 6,
   "metadata": {
    "collapsed": false
   },
   "outputs": [],
   "source": [
    "landcover = pandas.read_csv(\"/home/ubuntu/data/landcover/landcover_areas.csv\")\n",
    "#landcover = landcover[landcover.IncludedArea == '100m']\n",
    "landcover = landcover[landcover.IncludedArea == '500m']\n",
    "landcover = landcover[landcover.SiteID <= 30]\n",
    "landcover.set_index('SiteID', drop='False', inplace=True)\n",
    "landcover.sort_index(inplace=True)"
   ]
  },
  {
   "cell_type": "code",
   "execution_count": 7,
   "metadata": {
    "collapsed": true
   },
   "outputs": [],
   "source": [
    "landcover = sel.join(landcover)"
   ]
  },
  {
   "cell_type": "code",
   "execution_count": 8,
   "metadata": {
    "collapsed": true
   },
   "outputs": [],
   "source": [
    "colors = pandas.read_csv(\"/home/ubuntu/data/landcover/landcover_types.csv\").set_index('ID')\n",
    "site_names = data.sort_values(by='site').site_name.unique()\n",
    "#full_area = 31026.628684\n",
    "full_area = 775665.717"
   ]
  },
  {
   "cell_type": "code",
   "execution_count": 9,
   "metadata": {
    "collapsed": false
   },
   "outputs": [
    {
     "data": {
      "image/png": "[encoded data removed]",
      "text/plain": [
       "<matplotlib.figure.Figure at 0x7f8ed0c835c0>"
      ]
     },
     "metadata": {},
     "output_type": "display_data"
    }
   ],
   "source": [
    "figure, ax = pyplot.subplots()\n",
    "figure.subplots_adjust(left=0.1, bottom=0.15, right=1, top=0.95, wspace=0, hspace=0)\n",
    "\n",
    "figure.set_figheight(6.85 / 2)\n",
    "figure.set_figwidth(6.85)\n",
    "\n",
    "#ax = pyplot.subplot2grid((1, 1), (0, 0), rowspan=1, colspan=1)\n",
    "\n",
    "\n",
    "bar_width = 0.9\n",
    "ID = numpy.array([ n for n in range(len(landcover)) ])\n",
    "SiteIDs = sel.index\n",
    "left = ID + 0.05\n",
    "height = numpy.zeros(len(landcover))\n",
    "bottom = numpy.zeros(len(landcover))\n",
    "for index, column in landcover.ix[:,'1':'15'].iteritems():\n",
    "    height = (column.as_matrix() / full_area) * 100\n",
    "    ax.bar(left=left, \n",
    "            height=height, \n",
    "            bottom=bottom,\n",
    "            width=bar_width,\n",
    "            color=colors['Color'][int(index)],\n",
    "            edgecolor=None,\n",
    "            linewidth=0,\n",
    "            alpha=0.5)\n",
    "    bottom = bottom + height\n",
    "\n",
    "# format\n",
    "ax.set_xlim(0, 30)\n",
    "ax.set_ylim(0, 100)\n",
    "ax.set_xlabel('location number')\n",
    "ax.set_ylabel('SEL (decibels)')\n",
    "xticks = ID + 0.5\n",
    "xticklabels = [site_names[n - 1] for n in SiteIDs]\n",
    "#xticklabels = [ \"{0} - {1}\".format(xticklabels[i], SiteIDs[i]) for i in ID ]\n",
    "xticklabels = [ \"{0}\".format(SiteIDs[i]) for i in ID ]\n",
    "t = ax.set_xticks(xticks)\n",
    "tl = ax.set_xticklabels(xticklabels, rotation='vertical')\n",
    "ax.set_frame_on(False)\n",
    "\n",
    "# title formatting\n",
    "title_font = {\n",
    "    'size': 12.0,\n",
    "    'weight': 'bold'\n",
    "}\n",
    "\n",
    "# formatting\n",
    "ax.tick_params(axis='both', \n",
    "                 bottom=False, right=False, top=False, left=True,\n",
    "                 labelbottom=True, labelleft=True, direction='out')\n",
    "\n",
    "y = sel['sel']\n",
    "ymin = numpy.around(y.min() - 5, decimals=-1)\n",
    "y_zeroed = y - ymin\n",
    "ymax = numpy.around(y_zeroed.max() + 5, decimals=-1)\n",
    "y_trans = (y_zeroed / ymax) * 100\n",
    "\n",
    "yticks = numpy.arange(ymin, numpy.around(y.max() + 5, decimals=-1) + 5, 5)\n",
    "yticks_trans = [((n - yticks.min()) /  (yticks.max() - yticks.min())) * 100 for n in yticks]\n",
    "yticklabels = [\"{0:.0f}\".format(n) for n in yticks]\n",
    "t = ax.set_yticks(yticks_trans)\n",
    "tl = ax.set_yticklabels(yticklabels)\n",
    "\n",
    "ax.scatter(numpy.arange(0, 30, 1) + 0.5, y_trans, c='black', zorder=2)\n",
    "for n, i in enumerate(landcover.index):\n",
    "    ax.add_line(Line2D([xticks[n], xticks[n]], [min(yticks_trans), y_trans[i]], color='black'))"
   ]
  },
  {
   "cell_type": "code",
   "execution_count": 10,
   "metadata": {
    "collapsed": true
   },
   "outputs": [],
   "source": [
    "figure.savefig(\"/home/ubuntu/download/figure7a.tiff\", dpi=150)"
   ]
  },
  {
   "cell_type": "code",
   "execution_count": 11,
   "metadata": {
    "collapsed": true
   },
   "outputs": [],
   "source": [
    "biophony = data[['site', 'building_500m', 'pavement_500m', 'forest_500m', 'biophony']].groupby('site').mean()\n",
    "biophony['land_composite_500m'] = (biophony.forest_500m - (biophony.building_500m + biophony.pavement_500m)) / (biophony.forest_500m + biophony.building_500m + biophony.pavement_500m)\n",
    "biophony.sort_values(by=['land_composite_500m'], inplace=True)"
   ]
  },
  {
   "cell_type": "code",
   "execution_count": 12,
   "metadata": {
    "collapsed": true
   },
   "outputs": [],
   "source": [
    "landcover = pandas.read_csv(\"/home/ubuntu/data/landcover/landcover_areas.csv\")\n",
    "landcover = landcover[landcover.IncludedArea == '500m']\n",
    "landcover = landcover[landcover.SiteID <= 30]\n",
    "landcover.set_index('SiteID', drop='False', inplace=True)\n",
    "landcover.sort_index(inplace=True)"
   ]
  },
  {
   "cell_type": "code",
   "execution_count": 13,
   "metadata": {
    "collapsed": true
   },
   "outputs": [],
   "source": [
    "landcover = biophony.join(landcover)"
   ]
  },
  {
   "cell_type": "code",
   "execution_count": 14,
   "metadata": {
    "collapsed": true
   },
   "outputs": [],
   "source": [
    "full_area = 775665.717"
   ]
  },
  {
   "cell_type": "code",
   "execution_count": 15,
   "metadata": {
    "collapsed": false
   },
   "outputs": [
    {
     "data": {
      "image/png": "[encoded data removed]",
      "text/plain": [
       "<matplotlib.figure.Figure at 0x7f8ece49bf98>"
      ]
     },
     "metadata": {},
     "output_type": "display_data"
    }
   ],
   "source": [
    "figure = pyplot.figure()\n",
    "figure.subplots_adjust(left=0.1, bottom=0.15, right=1, top=0.95, wspace=0, hspace=0)\n",
    "\n",
    "figure.set_figheight(6.85 / 1.5)\n",
    "figure.set_figwidth(6.85)\n",
    "\n",
    "ax_a = pyplot.subplot2grid((30, 1), (0, 0), rowspan=8, colspan=1)\n",
    "ax_b = pyplot.subplot2grid((30, 1), (10, 0), rowspan=20, colspan=1, sharex=ax_a)\n",
    "\n",
    "ID = numpy.array([ n for n in range(len(landcover)) ])\n",
    "xticks = ID + 0.5\n",
    "\n",
    "# naturalness\n",
    "ax_a.scatter(xticks, biophony.land_composite_500m, c='black')\n",
    "for n, i in enumerate(landcover.index):\n",
    "    ax_a.add_line(Line2D([xticks[n], xticks[n]], [biophony.land_composite_500m[i], 0], color='black'))\n",
    "#ax_a.bar(left=range(0, len(landcover), 1), height=biophony.land_composite_500m, color='black')\n",
    "ax_a.set_frame_on(False)\n",
    "\n",
    "ax_a.tick_params(axis='both', \n",
    "                 bottom=False, right=False, top=False, left=True,\n",
    "                 labelbottom=False, labelleft=True, direction='out')\n",
    "\n",
    "ax_a.add_line(Line2D([0, len(landcover)], [0, 0], color='black'))\n",
    "\n",
    "ax_a.set_yticks([-1, 0, 1])\n",
    "ax_a.set_yticklabels([' -1', '  0', '  1'])\n",
    "ax_a.set_ylabel('naturalness')\n",
    "\n",
    "# naturalness vs. percent biophony\n",
    "bar_width = 0.9\n",
    "SiteIDs = biophony.index\n",
    "left = ID + 0.05\n",
    "height = numpy.zeros(len(landcover))\n",
    "bottom = numpy.zeros(len(landcover))\n",
    "for index, column in landcover.ix[:,'1':'15'].iteritems():\n",
    "    height = (column.as_matrix() / full_area) * 100\n",
    "    ax_b.bar(left=left, \n",
    "            height=height, \n",
    "            bottom=bottom,\n",
    "            width=bar_width,\n",
    "            color=colors['Color'][int(index)],\n",
    "            edgecolor=None,\n",
    "            linewidth=0,\n",
    "            alpha=0.5)\n",
    "    bottom = bottom + height\n",
    "\n",
    "# format\n",
    "ax_b.set_xlim(0, 30)\n",
    "ax_b.set_ylim(0, 100)\n",
    "ax_b.set_xlabel('location number')\n",
    "ax_b.set_ylabel('percent biophony')\n",
    "xticklabels = [site_names[n - 1] for n in SiteIDs]\n",
    "#xticklabels = [ \"{0} - {1}\".format(xticklabels[i], SiteIDs[i]) for i in ID ]\n",
    "xticklabels = [ \"{0}\".format(SiteIDs[i]) for i in ID ]\n",
    "t = ax_b.set_xticks(xticks)\n",
    "tl = ax_b.set_xticklabels(xticklabels, rotation='vertical')\n",
    "ax_b.set_frame_on(False)\n",
    "\n",
    "# title formatting\n",
    "title_font = {\n",
    "    'size': 12.0,\n",
    "    'weight': 'bold'\n",
    "}\n",
    "\n",
    "# formatting\n",
    "ax_b.tick_params(axis='both', \n",
    "                 bottom=False, right=False, top=False, left=True,\n",
    "                 labelbottom=True, labelleft=True, direction='out')\n",
    "\n",
    "y = biophony['biophony']\n",
    "ymin = numpy.around(y.min() - 1)\n",
    "y_zeroed = y - ymin\n",
    "ymax = numpy.around(y_zeroed.max() + 1)\n",
    "y_trans = (y_zeroed / ymax) * 100\n",
    "\n",
    "ax_b.scatter(numpy.arange(0, 30, 1) + 0.5, y_trans, c='black', zorder=2)\n",
    "for n, i in enumerate(landcover.index):\n",
    "    ax_b.add_line(Line2D([xticks[n], xticks[n]], [min(yticks_trans), y_trans[i]], color='black'))\n",
    "    \n",
    "yticks = numpy.arange(ymin, numpy.around(y.max()) + 1, 1)\n",
    "yticks_trans = [((n - yticks.min()) /  (yticks.max() - yticks.min())) * 100 for n in yticks]\n",
    "yticklabels = [\"  {0:.0f}\".format(abs(n)) for n in yticks]\n",
    "#yticklabels[len(yticklabels)- 1] = ' '\n",
    "t = ax_b.set_yticks(yticks_trans)\n",
    "tl = ax_b.set_yticklabels(yticklabels)"
   ]
  },
  {
   "cell_type": "code",
   "execution_count": 16,
   "metadata": {
    "collapsed": true
   },
   "outputs": [],
   "source": [
    "figure.savefig(\"/home/ubuntu/download/figure7b.tiff\", dpi=150)"
   ]
  }
 ],
 "metadata": {
  "kernelspec": {
   "display_name": "Django Shell-Plus",
   "language": "python",
   "name": "django_extensions"
  },
  "language_info": {
   "codemirror_mode": {
    "name": "ipython",
    "version": 3
   },
   "file_extension": ".py",
   "mimetype": "text/x-python",
   "name": "python",
   "nbconvert_exporter": "python",
   "pygments_lexer": "ipython3",
   "version": "3.5.2"
  }
 },
 "nbformat": 4,
 "nbformat_minor": 1
}
