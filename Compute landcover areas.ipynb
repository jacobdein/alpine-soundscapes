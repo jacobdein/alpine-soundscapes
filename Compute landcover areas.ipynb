{
 "cells": [
  {
   "cell_type": "markdown",
   "metadata": {},
   "source": [
    "# Compute landcover areas"
   ]
  },
  {
   "cell_type": "markdown",
   "metadata": {},
   "source": [
    "#### Import statements"
   ]
  },
  {
   "cell_type": "code",
   "execution_count": 1,
   "metadata": {
    "collapsed": true
   },
   "outputs": [],
   "source": [
    "import grass.script as gscript"
   ]
  },
  {
   "cell_type": "code",
   "execution_count": 2,
   "metadata": {
    "collapsed": true
   },
   "outputs": [],
   "source": [
    "from grass.pygrass.vector.geometry import Point\n",
    "from grass.pygrass.vector import Vector\n",
    "\n",
    "from grass.pygrass.vector import VectorTopo\n",
    "from grass.pygrass.vector.table import DBlinks"
   ]
  },
  {
   "cell_type": "code",
   "execution_count": 3,
   "metadata": {
    "collapsed": true
   },
   "outputs": [],
   "source": [
    "import numpy as np\n",
    "import pandas\n",
    "import pyprind"
   ]
  },
  {
   "cell_type": "markdown",
   "metadata": {},
   "source": [
    "#### Variable definitions"
   ]
  },
  {
   "cell_type": "markdown",
   "metadata": {},
   "source": [
    "define buffer radius"
   ]
  },
  {
   "cell_type": "code",
   "execution_count": 4,
   "metadata": {
    "collapsed": true
   },
   "outputs": [],
   "source": [
    "radius = 500"
   ]
  },
  {
   "cell_type": "markdown",
   "metadata": {},
   "source": [
    "#### Function declarations"
   ]
  },
  {
   "cell_type": "markdown",
   "metadata": {},
   "source": [
    "connect to attribute table"
   ]
  },
  {
   "cell_type": "code",
   "execution_count": 5,
   "metadata": {
    "collapsed": false
   },
   "outputs": [],
   "source": [
    "def connectToAttributeTable(map):\n",
    "    vector = VectorTopo(map)\n",
    "    vector.open(mode='r')\n",
    "    dblinks = DBlinks(vector.c_mapinfo)\n",
    "    link = dblinks[0]\n",
    "    return link.table()"
   ]
  },
  {
   "cell_type": "markdown",
   "metadata": {},
   "source": [
    "extract point from vector map"
   ]
  },
  {
   "cell_type": "code",
   "execution_count": 6,
   "metadata": {
    "collapsed": false
   },
   "outputs": [],
   "source": [
    "def extractPoint(input, ID, output):\n",
    "\n",
    "    where = 'ID = {0}'.format(ID)\n",
    "    type = 'point'\n",
    "\n",
    "    gscript.read_command('v.extract',\n",
    "                         input=input,\n",
    "                         where=where,\n",
    "                         output=output,\n",
    "                         type=type, \n",
    "                         overwrite=True)"
   ]
  },
  {
   "cell_type": "markdown",
   "metadata": {},
   "source": [
    "create buffer around point"
   ]
  },
  {
   "cell_type": "code",
   "execution_count": 7,
   "metadata": {
    "collapsed": true
   },
   "outputs": [],
   "source": [
    "def bufferPoint(input, output, radius):\n",
    "    gscript.read_command('v.buffer',\n",
    "                         input=input,\n",
    "                         output=output,\n",
    "                         type='point',\n",
    "                         distance=radius,\n",
    "                        overwrite=True)"
   ]
  },
  {
   "cell_type": "markdown",
   "metadata": {},
   "source": [
    "convert viewshed from raster to vector map"
   ]
  },
  {
   "cell_type": "code",
   "execution_count": 8,
   "metadata": {
    "collapsed": false
   },
   "outputs": [],
   "source": [
    "def vectorizeViewshed(input, ID, output):\n",
    "    type = 'area'\n",
    "    column = 'visible'\n",
    "\n",
    "    gscript.read_command('r.to.vect', \n",
    "                         input=input, \n",
    "                         output=output,\n",
    "                         type=type,\n",
    "                         column=column,\n",
    "                         overwrite=True)"
   ]
  },
  {
   "cell_type": "markdown",
   "metadata": {},
   "source": [
    "overlay a vector map on an underlying vector map using 'and' selection operator"
   ]
  },
  {
   "cell_type": "code",
   "execution_count": 9,
   "metadata": {
    "collapsed": false
   },
   "outputs": [],
   "source": [
    "def overlay(overlay, underlay, output):\n",
    "    operator='and'\n",
    "    gscript.read_command('v.overlay',\n",
    "                         ainput=overlay,\n",
    "                         binput=underlay,\n",
    "                         operator=operator,\n",
    "                         output=output,\n",
    "                         overwrite=True)"
   ]
  },
  {
   "cell_type": "markdown",
   "metadata": {},
   "source": [
    "add area column to vector map"
   ]
  },
  {
   "cell_type": "code",
   "execution_count": 10,
   "metadata": {
    "collapsed": true
   },
   "outputs": [],
   "source": [
    "def calculateAreas(map):\n",
    "    \n",
    "    #add new area column\n",
    "    gscript.read_command('v.db.addcolumn',\n",
    "                         map=map,\n",
    "                         columns=\"area_square_meters DOUBLE PRECISION\")\n",
    "    \n",
    "    #compute area and insert into area column\n",
    "    gscript.read_command('v.to.db',\n",
    "                         map=map,\n",
    "                         type='centroid',\n",
    "                         option='area',\n",
    "                         columns='area_square_meters',\n",
    "                         unit='meters')"
   ]
  },
  {
   "cell_type": "markdown",
   "metadata": {},
   "source": [
    "create table showing total area by landcover type"
   ]
  },
  {
   "cell_type": "code",
   "execution_count": 11,
   "metadata": {
    "collapsed": true
   },
   "outputs": [],
   "source": [
    "def getLandcoverAreaByType(map):\n",
    "    #get area data\n",
    "    table = connectToAttributeTable(map=map)\n",
    "    table.filters.select()\n",
    "    columns = table.columns.names()\n",
    "    cursor = table.execute()\n",
    "    result = np.array(cursor.fetchall())\n",
    "    cursor.close()\n",
    "    data = pandas.DataFrame(result, columns=columns).set_index('cat')\n",
    "\n",
    "    #sum areas by landcover type ('b_lbtyp')\n",
    "    data['area_square_meters'] = pandas.to_numeric(data['area_square_meters'])\n",
    "    areas = data[['b_lbtyp', 'area_square_meters']].groupby(by='b_lbtyp').sum()\n",
    "    return areas"
   ]
  },
  {
   "cell_type": "markdown",
   "metadata": {},
   "source": [
    "utility functions"
   ]
  },
  {
   "cell_type": "code",
   "execution_count": 12,
   "metadata": {
    "collapsed": false
   },
   "outputs": [],
   "source": [
    "def exportVectorToShapefile(map, output):\n",
    "    gscript.read_command('v.out.ogr',\n",
    "                         input=map,\n",
    "                         format='ESRI_Shapefile',\n",
    "                         output=output,\n",
    "                         flags='e',\n",
    "                         overwrite=True)"
   ]
  },
  {
   "cell_type": "code",
   "execution_count": 13,
   "metadata": {
    "collapsed": false
   },
   "outputs": [],
   "source": [
    "def getVectorMapInfo(map):\n",
    "    return gscript.read_command('v.info', map=map)"
   ]
  },
  {
   "cell_type": "code",
   "execution_count": 14,
   "metadata": {
    "collapsed": false
   },
   "outputs": [],
   "source": [
    "#view(['1_viewshed'])\n",
    "# TODO determine how to display vector map"
   ]
  },
  {
   "cell_type": "markdown",
   "metadata": {},
   "source": [
    "#### Compute landcover areas"
   ]
  },
  {
   "cell_type": "markdown",
   "metadata": {},
   "source": [
    "connect to 'sample_points_field' attribute table"
   ]
  },
  {
   "cell_type": "code",
   "execution_count": 15,
   "metadata": {
    "collapsed": false
   },
   "outputs": [],
   "source": [
    "point_table = connectToAttributeTable(map='sample_points_field')\n",
    "point_table.filters.select()\n",
    "columns = point_table.columns.names()\n",
    "cursor = point_table.execute()\n",
    "result = np.array(cursor.fetchall())\n",
    "cursor.close()\n",
    "point_data = pandas.DataFrame(result, columns=columns).set_index('cat')"
   ]
  },
  {
   "cell_type": "markdown",
   "metadata": {},
   "source": [
    "loop through sample points"
   ]
  },
  {
   "cell_type": "code",
   "execution_count": 16,
   "metadata": {
    "collapsed": false
   },
   "outputs": [
    {
     "name": "stdout",
     "output_type": "stream",
     "text": [
      "Landcover analysis progress\n",
      "0%                                     100%\n",
      "[█████████████████████████████████████████] | ETA: 00:00:00 | Item ID: 111\n",
      "Total time elapsed: 00:24:02\n"
     ]
    }
   ],
   "source": [
    "use_viewshed = False\n",
    "viewshed_suffix = ''\n",
    "with Vector('sample_points_field', mode='r') as points:\n",
    "    \n",
    "    #setup progress bar\n",
    "    progress_bar = pyprind.ProgBar(points.n_lines, bar_char='█', title='Landcover analysis progress', monitor=True, stream=1, width=50)\n",
    "    \n",
    "    #iterate through points\n",
    "    for point in points:\n",
    "        \n",
    "        #get point ID (SiteID)\n",
    "        ID = point_data['ID'][point.cat-1]\n",
    "        \n",
    "        #update progress bar\n",
    "        progress_bar.update(item_id=ID)\n",
    "        \n",
    "        #buffer current point\n",
    "        extractPoint(input='sample_points_field', ID=ID, output='tmp_buffer_point')\n",
    "        bufferPoint(input='tmp_buffer_point', output='tmp_point_buffer', radius=500)\n",
    "        \n",
    "        #set buffer as overlay\n",
    "        overlay_input = 'tmp_point_buffer'\n",
    "        #consider only visible landcover if 'use_viewshed' = True\n",
    "        if use_viewshed:\n",
    "            viewshed = 'vect_{0}_viewshed'.format(ID)\n",
    "            visible_viewshed = 'vect_{0}_viewshed_{1}m'.format(ID, radius)\n",
    "            #vectorize viewshed\n",
    "            vectorizeViewshed(input='{0}_viewshed'.format(ID), ID=ID, output=viewshed)\n",
    "            #overlay buffer on viewshed\n",
    "            overlay(overlay=overlay_input,\n",
    "                    underlay=viewshed,\n",
    "                    output=visible_viewshed)\n",
    "            #set overlay to the visible viewshed\n",
    "            overlay_input = visible_viewshed\n",
    "            #set suffix to be appended to filenames and descriptions\n",
    "            viewshed_suffix = '_viewshed'\n",
    "        overlay_output = 'vect_{0}_landcover_{1}m{2}'.format(ID, radius, viewshed_suffix)\n",
    "        #overlay landcover\n",
    "        overlay(overlay=overlay_input,\n",
    "                         underlay='landcover',\n",
    "                         output=overlay_output)\n",
    "        \n",
    "        #calculate landcover area\n",
    "        calculateAreas(map=overlay_output)"
   ]
  },
  {
   "cell_type": "markdown",
   "metadata": {},
   "source": [
    "#### Export landcover area table"
   ]
  },
  {
   "cell_type": "markdown",
   "metadata": {},
   "source": [
    "create table with landcover areas by type for each point"
   ]
  },
  {
   "cell_type": "code",
   "execution_count": 28,
   "metadata": {
    "collapsed": false
   },
   "outputs": [],
   "source": [
    "#create table\n",
    "index_start = 41\n",
    "n_types = 15  #number of landcover types\n",
    "columns = ['ID', 'SiteID', 'IncludedArea']\n",
    "columns = columns + [ str(n) for n in range(1,n_types+1) ]\n",
    "area_table = pandas.DataFrame(columns=columns)\n",
    "\n",
    "#set naming variables\n",
    "viewshed_suffix = '_viewshed'\n",
    "included_area = '{0}m{1}'.format(radius, viewshed_suffix)  #0=radius, 1=viewshed_suffix\n",
    "map_pattern = 'vect_{0}_landcover_{1}m{2}'  #0=ID, 1=radius, 2=viewshed_suffix\n",
    "\n",
    "#iterate through points\n",
    "for index, point in point_data.iterrows():\n",
    "    ID = point['ID']\n",
    "    map = map_pattern.format(ID, radius, viewshed_suffix)\n",
    "    #initiate row\n",
    "    row = {'ID':\"{0:.3g}\".format(int(index) + index_start),\n",
    "           'SiteID': str(ID),\n",
    "           'IncludedArea': included_area}\n",
    "    #get landcover areas\n",
    "    areas = getLandcoverAreaByType(map)\n",
    "    \n",
    "    #iterate through area types\n",
    "    for index, area in areas.iterrows():\n",
    "        #add area to row\n",
    "        row[index] = area['area_square_meters']\n",
    "    #append row to table\n",
    "    area_table = area_table.append(row, ignore_index=True)\n",
    "\n",
    "area_table.set_index('ID', inplace=True)\n",
    "\n",
    "#export table to file\n",
    "area_table.to_csv('landcover_areas_{0}m{1}.csv'.format(radius, viewshed_suffix), header=False)"
   ]
  }
 ],
 "metadata": {
  "kernelspec": {
   "display_name": "Python 2",
   "language": "python",
   "name": "python2"
  },
  "language_info": {
   "codemirror_mode": {
    "name": "ipython",
    "version": 2
   },
   "file_extension": ".py",
   "mimetype": "text/x-python",
   "name": "python",
   "nbconvert_exporter": "python",
   "pygments_lexer": "ipython2",
   "version": "2.7.6"
  }
 },
 "nbformat": 4,
 "nbformat_minor": 0
}
