{
 "cells": [
  {
   "cell_type": "markdown",
   "metadata": {},
   "source": [
    "# Compute recording indicies in database"
   ]
  },
  {
   "cell_type": "markdown",
   "metadata": {},
   "source": [
    "This notebook computes indicies for sounds (or soundscape recordings) in a <a href=\"https://github.com/ljvillanueva/pumilio\">pumilio</a> database."
   ]
  },
  {
   "cell_type": "markdown",
   "metadata": {},
   "source": [
    "#### Required packages"
   ]
  },
  {
   "cell_type": "markdown",
   "metadata": {},
   "source": [
    "<a href=\"https://github.com/pydata/pandas\">pandas</a> <br />\n",
    "<a href=\"https://github.com/randy3k/rpy2\">rpy2</a> <br />\n",
    "<a href=\"https://github.com/jacobdein/pymilio\">pymilio</a> <br />\n",
    "<a href=\"https://github.com/rasbt/pyprind\">pyprind</a>"
   ]
  },
  {
   "cell_type": "markdown",
   "metadata": {},
   "source": [
    "#### Variable declarations"
   ]
  },
  {
   "cell_type": "markdown",
   "metadata": {},
   "source": [
    "working_directory – temporary directory for processing recordings"
   ]
  },
  {
   "cell_type": "code",
   "execution_count": 7,
   "metadata": {
    "collapsed": true
   },
   "outputs": [],
   "source": [
    "working_directory = os.path.join(os.environ['HOME'], \"pymilio_temp/\")"
   ]
  },
  {
   "cell_type": "markdown",
   "metadata": {},
   "source": [
    "#### Import statements"
   ]
  },
  {
   "cell_type": "code",
   "execution_count": 1,
   "metadata": {
    "collapsed": false
   },
   "outputs": [],
   "source": [
    "%load_ext rpy2.ipython"
   ]
  },
  {
   "cell_type": "code",
   "execution_count": 2,
   "metadata": {
    "collapsed": true
   },
   "outputs": [],
   "source": [
    "import rpy2.robjects as ro"
   ]
  },
  {
   "cell_type": "code",
   "execution_count": 3,
   "metadata": {
    "collapsed": false
   },
   "outputs": [
    {
     "name": "stderr",
     "output_type": "stream",
     "text": [
      "/Users/Jake/code_sandbox/venv/lib/python3.5/site-packages/rpy2/robjects/functions.py:106: UserWarning: tuneR >= 1.0 has changed its Wave class definition.\n",
      "Use updateWave(object) to convert Wave objects saved with previous versions of tuneR.\n",
      "\n",
      "  res = super(Function, self).__call__(*new_args, **new_kwargs)\n"
     ]
    }
   ],
   "source": [
    "%%R\n",
    "\n",
    "library('tuneR')\n",
    "library('seewave')\n",
    "library('soundecology')"
   ]
  },
  {
   "cell_type": "code",
   "execution_count": 4,
   "metadata": {
    "collapsed": false
   },
   "outputs": [
    {
     "name": "stderr",
     "output_type": "stream",
     "text": [
      "/Users/Jake/code_sandbox/venv/lib/python3.5/site-packages/ipykernel/__main__.py:2: FutureWarning: The pandas.rpy module is deprecated and will be removed in a future version. We refer to external packages like rpy2. \n",
      "See here for a guide on how to port your code to rpy2: http://pandas.pydata.org/pandas-docs/stable/r_interface.html\n",
      "  from ipykernel import kernelapp as app\n"
     ]
    }
   ],
   "source": [
    "import pandas\n",
    "import pandas.rpy.common as com\n",
    "\n",
    "# new version not working...\n",
    "#from rpy2.robjects import pandas2ri\n",
    "#pandas2ri.activate()\n",
    "#from rpy2.robjects import r"
   ]
  },
  {
   "cell_type": "code",
   "execution_count": 5,
   "metadata": {
    "collapsed": false
   },
   "outputs": [],
   "source": [
    "import os.path\n",
    "from shutil import rmtree\n",
    "import subprocess"
   ]
  },
  {
   "cell_type": "code",
   "execution_count": 6,
   "metadata": {
    "collapsed": true
   },
   "outputs": [],
   "source": [
    "import pyprind"
   ]
  },
  {
   "cell_type": "code",
   "execution_count": 9,
   "metadata": {
    "collapsed": false
   },
   "outputs": [],
   "source": [
    "from Pymilio import database"
   ]
  },
  {
   "cell_type": "markdown",
   "metadata": {},
   "source": [
    "#### Connect to database"
   ]
  },
  {
   "cell_type": "code",
   "execution_count": 10,
   "metadata": {
    "collapsed": true
   },
   "outputs": [],
   "source": [
    "pumilio_db = database.Pymilio_db_connection(user='pumilio',\n",
    "                                            database='pumilio',\n",
    "                                            read_default_file='~/.my.cnf.pumilio')"
   ]
  },
  {
   "cell_type": "markdown",
   "metadata": {},
   "source": [
    "get all sounds"
   ]
  },
  {
   "cell_type": "code",
   "execution_count": 11,
   "metadata": {
    "collapsed": false
   },
   "outputs": [],
   "source": [
    "sounds = pumilio_db.get_sound_paths(prepath=source_directory)"
   ]
  },
  {
   "cell_type": "markdown",
   "metadata": {},
   "source": [
    "#### Function definitions"
   ]
  },
  {
   "cell_type": "markdown",
   "metadata": {},
   "source": [
    "database functions"
   ]
  },
  {
   "cell_type": "code",
   "execution_count": 12,
   "metadata": {
    "collapsed": false
   },
   "outputs": [],
   "source": [
    "def insert_row(table, columns, values):\n",
    "    pumilio_db.insert(table, values=(columns, values))"
   ]
  },
  {
   "cell_type": "code",
   "execution_count": 13,
   "metadata": {
    "collapsed": false
   },
   "outputs": [],
   "source": [
    "def update_row(table, values, where):\n",
    "    pumilio_db.update(table=table, values=values, where=where)"
   ]
  },
  {
   "cell_type": "markdown",
   "metadata": {},
   "source": [
    "index calculation functions"
   ]
  },
  {
   "cell_type": "code",
   "execution_count": 14,
   "metadata": {
    "collapsed": true
   },
   "outputs": [],
   "source": [
    "# acoustic complexity index\n",
    "def calculateACI(sound):\n",
    "    # specify command with all arguments and language used for computation\n",
    "    language = 'R'\n",
    "    command = \"acoustic_complexity(sound, min_freq = NA, max_freq = NA, j = 5, fft_w = 512)\"\n",
    "    # load wav file in R environment\n",
    "    r_command = \"\"\"capture.output(if (!(exists(\"sound\"))) {{ sound <- readWave(\"{0}\") }}, file=NULL)\"\"\".format(sound)\n",
    "    ro.r(r_command);\n",
    "    # run calculation in R environment\n",
    "    r_command = \"\"\"capture.output(ACI <- {0}, file=NULL)\"\"\".format(command)\n",
    "    ro.r(r_command);\n",
    "    # load results into python environment\n",
    "    ACI = com.load_data('ACI')\n",
    "    \n",
    "    results = {\n",
    "        'AciTotAll_left':ACI['AciTotAll_left'][0],\n",
    "        'AciTotAll_right':ACI['AciTotAll_right'][0],\n",
    "        'AciTotAll_left_bymin':ACI['AciTotAll_left_bymin'][0],\n",
    "        'AciTotAll_right_bymin':ACI['AciTotAll_right_bymin'][0]\n",
    "    }\n",
    "    return results, language, command"
   ]
  },
  {
   "cell_type": "code",
   "execution_count": 15,
   "metadata": {
    "collapsed": true
   },
   "outputs": [],
   "source": [
    "# acoustic diversity index\n",
    "def calculateADI(sound):\n",
    "    # specify command with all arguments and language used for computation\n",
    "    language = 'R'\n",
    "    command = \"acoustic_diversity(sound, max_freq = 12000, db_threshold = -50, freq_step = 1000, shannon = TRUE)\"\n",
    "    # load wav file in R environment\n",
    "    r_command = \"\"\"capture.output(if (!(exists(\"sound\"))) {{ sound <- readWave(\"{0}\") }}, file=NULL)\"\"\".format(sound)\n",
    "    ro.r(r_command);\n",
    "    # run calculation in R environment\n",
    "    r_command = \"\"\"capture.output(ADI <- {0}, file=NULL)\"\"\".format(command)\n",
    "    ro.r(r_command);\n",
    "    # load results into python environment\n",
    "    ADI = com.load_data('ADI')\n",
    "    #com.convert_robj(ADI)\n",
    "    # new version not working ...\n",
    "    #r.data('ADI')\n",
    "    #ADI = pandas2ri.ri2py(r['ADI'])\n",
    "    \n",
    "    results = {\n",
    "        'adi_left':ADI['adi_left'][0],\n",
    "        'adi_right':ADI['adi_right'][0],\n",
    "        'left_band_values':str(ADI['left_band_values']),\n",
    "        'left_bandrange_values':\"['\" + \"', '\".join(ADI['left_bandrange_values']) + \"']\",\n",
    "        'right_band_values':str(ADI['right_band_values']),\n",
    "        'right_bandrange_values':\"['\" + \"', '\".join(ADI['right_bandrange_values']) + \"']\"\n",
    "    }\n",
    "    return results, language, command"
   ]
  },
  {
   "cell_type": "code",
   "execution_count": 16,
   "metadata": {
    "collapsed": true
   },
   "outputs": [],
   "source": [
    "# acoustic evenness index\n",
    "def calculateAEI(sound):\n",
    "    # specify command with all arguments and language used for computation\n",
    "    language = 'R'\n",
    "    command = \"acoustic_evenness(sound, max_freq = 12000, db_threshold = -50, freq_step = 1000\"\n",
    "    # load wav file in R environment\n",
    "    r_command = \"\"\"capture.output(if (!(exists(\"sound\"))) {{ sound <- readWave(\"{0}\") }}, file=NULL)\"\"\".format(sound)\n",
    "    ro.r(r_command);\n",
    "    # run calculation in R environment\n",
    "    r_command = \"\"\"capture.output(AEI <- {0}), file=NULL)\"\"\".format(command)\n",
    "    ro.r(r_command);\n",
    "    # load results into python environment\n",
    "    AEI = com.load_data('AEI')    \n",
    "    \n",
    "    results = {\n",
    "        'aei_left':AEI['aei_left'][0],\n",
    "        'aei_right':AEI['aei_right'][0]\n",
    "    }\n",
    "    return results, language, command"
   ]
  },
  {
   "cell_type": "code",
   "execution_count": 17,
   "metadata": {
    "collapsed": true
   },
   "outputs": [],
   "source": [
    "# bioacoustic index\n",
    "def calculateBAI(sound):\n",
    "    # specify command with all arguments and language used for computation\n",
    "    language = 'R'\n",
    "    command = \"bioacoustic_index(sound, min_freq = 2000, max_freq = 8000, fft_w = 512)\"\n",
    "    # load wav file in R environment\n",
    "    r_command = \"\"\"capture.output(if (!(exists(\"sound\"))) {{ sound <- readWave(\"{0}\") }}, file=NULL)\"\"\".format(sound)\n",
    "    ro.r(r_command);\n",
    "    # run calculation in R environment\n",
    "    r_command = \"\"\"capture.output(BAI <- {0}, file=NULL)\"\"\".format(command)\n",
    "    ro.r(r_command);\n",
    "    # load results into python environment\n",
    "    BAI = com.load_data('BAI')\n",
    "    \n",
    "    results = {\n",
    "        'left_area':BAI['left_area'][0],\n",
    "        'right_area':BAI['right_area'][0]\n",
    "    }\n",
    "    return results, language, command"
   ]
  },
  {
   "cell_type": "code",
   "execution_count": 18,
   "metadata": {
    "collapsed": false
   },
   "outputs": [],
   "source": [
    "# nsdi index (normalized difference soundscape index)\n",
    "def calculateNDSI(sound):\n",
    "    # specify command with all arguments and language used for computation\n",
    "    language = 'R'\n",
    "    command = \"ndsi(sound, fft_w = 1024, anthro_min = 1000, anthro_max = 2000, bio_min = 2000, bio_max = 12000)\"\n",
    "    # load wav file in R environment\n",
    "    r_command = \"\"\"capture.output(if (!(exists(\"sound\"))) {{ sound <- readWave(\"{0}\") }}, file=NULL)\"\"\".format(sound)\n",
    "    ro.r(r_command);\n",
    "    # run calculation in R environment\n",
    "    r_command = \"\"\"capture.output(NDSI <- {0}, file=NULL)\"\"\".format(command)\n",
    "    ro.r(r_command);\n",
    "    # load results into python environment\n",
    "    NDSI = com.load_data('NDSI')\n",
    "    \n",
    "    results = {    \n",
    "        'ndsi_left':NDSI['ndsi_left'][0],\n",
    "        'ndsi_right':NDSI['ndsi_right'][0],\n",
    "        'biophony_left':NDSI['biophony_left'][0],\n",
    "        'anthrophony_left':NDSI['anthrophony_left'][0],\n",
    "        'biophony_right':NDSI['biophony_right'][0],\n",
    "        'anthrophony_right':NDSI['anthrophony_right'][0]\n",
    "    }\n",
    "    return results, language, command"
   ]
  },
  {
   "cell_type": "code",
   "execution_count": 19,
   "metadata": {
    "collapsed": true
   },
   "outputs": [],
   "source": [
    "# soundscapespec\n",
    "def calculateSSS(sound):\n",
    "    # specify command with all arguments and language used for computation\n",
    "    language = 'R'\n",
    "    command = \"\"\"soundscapespec(sound, wl = 1024, wn = \"hamming\", ovlp = 50, plot = FALSE)\"\"\"\n",
    "    # load wav file in R environment\n",
    "    r_command = \"\"\"capture.output(if (!(exists(\"sound\"))) {{ sound <- readWave(\"{0}\") }}, file=NULL)\"\"\".format(sound)\n",
    "    ro.r(r_command);\n",
    "    # run calculation in R environment\n",
    "    r_command = \"\"\"capture.output(SSS <- {0}, file=NULL)\"\"\".format(command)\n",
    "    ro.r(r_command);\n",
    "    # load results into python environment\n",
    "    SSS = com.load_data('SSS')\n",
    "    \n",
    "    results = {\n",
    "        'frequency_power':str([ '{0:.4f}'.format(n) for n in SSS['amplitude'].as_matrix() ]),\n",
    "    }\n",
    "    return results, language, command"
   ]
  },
  {
   "cell_type": "markdown",
   "metadata": {},
   "source": [
    "testing..."
   ]
  },
  {
   "cell_type": "code",
   "execution_count": 20,
   "metadata": {
    "collapsed": true
   },
   "outputs": [],
   "source": [
    "def log_process(string):\n",
    "    log_directory = os.path.join(os.environ['HOME'], \"Desktop/process_log/\")\n",
    "    if not os.path.exists(log_directory):\n",
    "        os.mkdir(log_directory)\n",
    "    log_name = \"process_log.txt\"\n",
    "    if os.path.exists(log_directory + log_name):\n",
    "        log_file = open(log_directory + log_name, 'a')\n",
    "    else:\n",
    "        log_file = open(log_directory + log_name, 'w')\n",
    "    log_file.write(string+'\\n')\n",
    "    log_file.close()"
   ]
  },
  {
   "cell_type": "code",
   "execution_count": 21,
   "metadata": {
    "collapsed": false
   },
   "outputs": [],
   "source": [
    "#results = calculateBAI(\"/Users/Jake/Desktop/test/160224-160000.wav\")"
   ]
  },
  {
   "cell_type": "code",
   "execution_count": 22,
   "metadata": {
    "collapsed": false
   },
   "outputs": [],
   "source": [
    "#sounds = {'129': '/Users/Jake/Desktop/test/160224-160000.wav'}"
   ]
  },
  {
   "cell_type": "markdown",
   "metadata": {},
   "source": [
    "conversion functions"
   ]
  },
  {
   "cell_type": "code",
   "execution_count": 23,
   "metadata": {
    "collapsed": true
   },
   "outputs": [],
   "source": [
    "def convertFLACtoWAV(flacfile, wavfile):\n",
    "    if os.path.exists(working_directory):\n",
    "        rmtree(working_directory)\n",
    "    os.mkdir(working_directory)\n",
    "    \n",
    "    subprocess.check_output([\"flac\", \"-d\", flacfile, \"-o\", wavfile])"
   ]
  },
  {
   "cell_type": "markdown",
   "metadata": {},
   "source": [
    "#### Process all sounds"
   ]
  },
  {
   "cell_type": "markdown",
   "metadata": {},
   "source": [
    "check and calculate missing indicies for all sounds in the database"
   ]
  },
  {
   "cell_type": "code",
   "execution_count": 24,
   "metadata": {
    "collapsed": false
   },
   "outputs": [
    {
     "name": "stdout",
     "output_type": "stream",
     "text": [
      "Process progress\n",
      "0%                                              100%\n",
      "[██████████████████████████████████████████████████] | ETA: 00:00:00 | Item ID: 153 -> SSS\n",
      "Total time elapsed: 00:16:53\n",
      "\n",
      "\n",
      "\n",
      "Total time elapsed: 00:16:59\n",
      "Title: Process progress\n",
      "  Started: 06/03/2016 11:40:52\n",
      "  Finished: 06/03/2016 11:57:51\n",
      "  Total time elapsed: 00:16:59\n",
      "  CPU %: 89.60\n",
      "  Memory %: 15.09\n"
     ]
    }
   ],
   "source": [
    "# list of supported indicies\n",
    "#indices = ['ACI', 'ADI', 'AEI', 'BAI', 'NDSI', 'SSS']\n",
    "indices = ['SSS']\n",
    "\n",
    "progress_bar = pyprind.ProgBar(len(sounds), bar_char='█', title='Process progress', monitor=True, stream=1, width=50)\n",
    "\n",
    "for sound in sounds:\n",
    "    \n",
    "    # compute all indices for the current sound\n",
    "    for index in indices:\n",
    "        # update progress bar\n",
    "        progress_bar.update(item_id = sound+\" -> \"+index)\n",
    "        \n",
    "        tablename = 'Index' + index\n",
    "        row = pumilio_db.fetch_as_pandas_df(table=tablename, where=\"Sound = '{0}'\".format(sound))\n",
    "        \n",
    "        # check if a calculation for the current sound and index already exists\n",
    "        if len(row) == 0:\n",
    "            insert_row(table=tablename, columns='Sound', values=sound)\n",
    "            # create a wav file for analysis if one does not already exist in the working directory\n",
    "            filename = os.path.basename(sounds[sound]).strip('.flac')\n",
    "            wavfile = os.path.join(working_directory, filename) + '.wav'\n",
    "            if not os.path.exists(wavfile):\n",
    "                convertFLACtoWAV(sounds[sound], wavfile)\n",
    "            # compute index\n",
    "            results, language, command = eval(\"calculate{0}(wavfile)\".format(index))\n",
    "            # update each column in database for each part of the index returned\n",
    "            for item in results:\n",
    "                values = (item, results[item])\n",
    "                update_row(table=tablename, values=values, where=\"Sound = '{0}'\".format(sound))\n",
    "            # check if command already exists in the 'Analyses' table\n",
    "            command_row = pumilio_db.fetch_as_pandas_df(table='Analyses', where=\"command = '{0}'\".format(command))\n",
    "            if len(command_row) == 0:\n",
    "                # add the command to the 'Analyses table if it does not exist\n",
    "                insert_row(table='Analyses', columns='command', values=command)\n",
    "                # get id of new row\n",
    "                command_row = pumilio_db.fetch_as_pandas_df(table='Analyses', where=\"command = '{0}'\".format(command))\n",
    "                command_ID = command_row['ID'][0]\n",
    "                # update all other columns\n",
    "                update_row(table='Analyses', values=('name', index), where=\"ID = '{0}'\".format(command_ID))\n",
    "                update_row(table='Analyses', values=('language', language), where=\"ID = '{0}'\".format(command_ID))\n",
    "            elif len(command_row) == 1:\n",
    "                # if the command exists, get the command_id\n",
    "                command_ID = command_row['ID'][0]\n",
    "            else:\n",
    "                # error!\n",
    "                pass\n",
    "            # update the command_id for the index calculation\n",
    "            update_row(table=tablename, values=('command_ID', command_ID), where=\"Sound = '{0}'\".format(sound))\n",
    "        elif len(row) == 1:\n",
    "            pass\n",
    "            #print(\"A record in the {0} table already exists for Sound {1}\".format(tablename, sound))\n",
    "        else:\n",
    "            pass\n",
    "            #print(\"WARNING: There were {0} analysis rows returned for SoundID = {0}\".format(str(len(analyses)), sound))\n",
    "    \n",
    "    # cleanup R environment\n",
    "    ro.r(\"remove('sound')\")\n",
    "    \n",
    "    # cleanup working directory\n",
    "    if os.path.exists(working_directory):\n",
    "        rmtree(working_directory)\n",
    "\n",
    "print('\\n')\n",
    "progress_bar.update()\n",
    "print(progress_bar)"
   ]
  }
 ],
 "metadata": {
  "kernelspec": {
   "display_name": "Python 3",
   "language": "python",
   "name": "python3"
  },
  "language_info": {
   "codemirror_mode": {
    "name": "ipython",
    "version": 3
   },
   "file_extension": ".py",
   "mimetype": "text/x-python",
   "name": "python",
   "nbconvert_exporter": "python",
   "pygments_lexer": "ipython3",
   "version": "3.5.1"
  }
 },
 "nbformat": 4,
 "nbformat_minor": 0
}
