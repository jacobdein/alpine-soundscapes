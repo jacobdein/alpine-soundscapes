{
 "cells": [
  {
   "cell_type": "markdown",
   "metadata": {},
   "source": [
    "# Compute location distance error"
   ]
  },
  {
   "cell_type": "markdown",
   "metadata": {},
   "source": [
    "This notebook computes the average distance between the generated recording locations and the actual recording locations used in the analysis."
   ]
  },
  {
   "cell_type": "markdown",
   "metadata": {},
   "source": [
    "#### import statements"
   ]
  },
  {
   "cell_type": "code",
   "execution_count": 44,
   "metadata": {
    "collapsed": true
   },
   "outputs": [],
   "source": [
    "from geo.models import SampleLocation\n",
    "from database.models import Site\n",
    "from shapely.geometry import shape, MultiPoint\n",
    "import geopandas\n",
    "import pandas\n",
    "import numpy\n",
    "from django.db import connection"
   ]
  },
  {
   "cell_type": "markdown",
   "metadata": {},
   "source": [
    "#### function declarations"
   ]
  },
  {
   "cell_type": "code",
   "execution_count": 16,
   "metadata": {
    "collapsed": true
   },
   "outputs": [],
   "source": [
    "def get_geodataframe(queryset, modification=None, crs={'+init':'epsg:31254'}):\n",
    "    query = queryset.query.sql_with_params()\n",
    "    if modification:\n",
    "        query = (modification, query[1])\n",
    "    return geopandas.read_postgis(query[0], connection, \n",
    "                                   geom_col='geometry', \n",
    "                                   params=query[1], \n",
    "                                   index_col='id',\n",
    "                                   crs=crs)"
   ]
  },
  {
   "cell_type": "markdown",
   "metadata": {},
   "source": [
    "#### load locations from database"
   ]
  },
  {
   "cell_type": "code",
   "execution_count": 19,
   "metadata": {
    "collapsed": true
   },
   "outputs": [],
   "source": [
    "generated = get_geodataframe(SampleLocation.objects.all())\n",
    "actual = get_geodataframe(Site.objects.filter(id__lte=30))"
   ]
  },
  {
   "cell_type": "markdown",
   "metadata": {},
   "source": [
    "#### loop through locations and compute distance"
   ]
  },
  {
   "cell_type": "code",
   "execution_count": 48,
   "metadata": {
    "collapsed": false,
    "scrolled": false
   },
   "outputs": [],
   "source": [
    "distance_array = numpy.zeros(30)\n",
    "distances = pandas.DataFrame({'id': generated.index, 'name': actual.sort_index().name, 'distance': distance_array}).set_index('id')\n",
    "for i in range(1, 31):\n",
    "    x1 = generated[generated.index == i].geometry.as_matrix()[0].coords.xy[0][0]\n",
    "    x2 = actual[actual.index == i].geometry.as_matrix()[0].coords.xy[0][0]\n",
    "    y1 = generated[generated.index == i].geometry.as_matrix()[0].coords.xy[1][0]\n",
    "    y2 = actual[actual.index == i].geometry.as_matrix()[0].coords.xy[1][0]\n",
    "    distance_array[i - 1] = numpy.sqrt((x2 - x1)**2 + (y2 - y1)**2)\n",
    "distances['distance'] = distance_array"
   ]
  },
  {
   "cell_type": "code",
   "execution_count": 49,
   "metadata": {
    "collapsed": false
   },
   "outputs": [
    {
     "data": {
      "text/html": [
       "<div>\n",
       "<table border=\"1\" class=\"dataframe\">\n",
       "  <thead>\n",
       "    <tr style=\"text-align: right;\">\n",
       "      <th></th>\n",
       "      <th>distance</th>\n",
       "      <th>name</th>\n",
       "    </tr>\n",
       "    <tr>\n",
       "      <th>id</th>\n",
       "      <th></th>\n",
       "      <th></th>\n",
       "    </tr>\n",
       "  </thead>\n",
       "  <tbody>\n",
       "    <tr>\n",
       "      <th>1</th>\n",
       "      <td>27.829084</td>\n",
       "      <td>Lans</td>\n",
       "    </tr>\n",
       "    <tr>\n",
       "      <th>2</th>\n",
       "      <td>53.318729</td>\n",
       "      <td>Hofwald</td>\n",
       "    </tr>\n",
       "    <tr>\n",
       "      <th>3</th>\n",
       "      <td>22.484906</td>\n",
       "      <td>Arzler Straße</td>\n",
       "    </tr>\n",
       "    <tr>\n",
       "      <th>4</th>\n",
       "      <td>191.370794</td>\n",
       "      <td>Kranebitten</td>\n",
       "    </tr>\n",
       "    <tr>\n",
       "      <th>5</th>\n",
       "      <td>11.777183</td>\n",
       "      <td>Gumppstraße</td>\n",
       "    </tr>\n",
       "    <tr>\n",
       "      <th>6</th>\n",
       "      <td>36.198389</td>\n",
       "      <td>Pfaffensteig</td>\n",
       "    </tr>\n",
       "    <tr>\n",
       "      <th>7</th>\n",
       "      <td>152.811369</td>\n",
       "      <td>Höttinger Rain</td>\n",
       "    </tr>\n",
       "    <tr>\n",
       "      <th>8</th>\n",
       "      <td>243.608341</td>\n",
       "      <td>Igls</td>\n",
       "    </tr>\n",
       "    <tr>\n",
       "      <th>9</th>\n",
       "      <td>48.259567</td>\n",
       "      <td>Golfcourse B</td>\n",
       "    </tr>\n",
       "    <tr>\n",
       "      <th>10</th>\n",
       "      <td>163.444315</td>\n",
       "      <td>Kosterberg</td>\n",
       "    </tr>\n",
       "    <tr>\n",
       "      <th>11</th>\n",
       "      <td>60.943469</td>\n",
       "      <td>Ullwald</td>\n",
       "    </tr>\n",
       "    <tr>\n",
       "      <th>12</th>\n",
       "      <td>17.929801</td>\n",
       "      <td>Alpenzoo</td>\n",
       "    </tr>\n",
       "    <tr>\n",
       "      <th>13</th>\n",
       "      <td>181.825330</td>\n",
       "      <td>Andreas-Hofer</td>\n",
       "    </tr>\n",
       "    <tr>\n",
       "      <th>14</th>\n",
       "      <td>138.404685</td>\n",
       "      <td>Pumhof</td>\n",
       "    </tr>\n",
       "    <tr>\n",
       "      <th>15</th>\n",
       "      <td>2.326952</td>\n",
       "      <td>Hofgarten</td>\n",
       "    </tr>\n",
       "    <tr>\n",
       "      <th>16</th>\n",
       "      <td>59.966425</td>\n",
       "      <td>Vill</td>\n",
       "    </tr>\n",
       "    <tr>\n",
       "      <th>17</th>\n",
       "      <td>82.142365</td>\n",
       "      <td>Golfcourse A</td>\n",
       "    </tr>\n",
       "    <tr>\n",
       "      <th>18</th>\n",
       "      <td>78.380853</td>\n",
       "      <td>Egger-Lienz-Straße</td>\n",
       "    </tr>\n",
       "    <tr>\n",
       "      <th>19</th>\n",
       "      <td>19.103852</td>\n",
       "      <td>Schillerhof</td>\n",
       "    </tr>\n",
       "    <tr>\n",
       "      <th>20</th>\n",
       "      <td>29.261384</td>\n",
       "      <td>Wilten</td>\n",
       "    </tr>\n",
       "    <tr>\n",
       "      <th>21</th>\n",
       "      <td>2.990658</td>\n",
       "      <td>Templstraße</td>\n",
       "    </tr>\n",
       "    <tr>\n",
       "      <th>22</th>\n",
       "      <td>26.303805</td>\n",
       "      <td>Hungerburg</td>\n",
       "    </tr>\n",
       "    <tr>\n",
       "      <th>23</th>\n",
       "      <td>2.805789</td>\n",
       "      <td>Poltenweg</td>\n",
       "    </tr>\n",
       "    <tr>\n",
       "      <th>24</th>\n",
       "      <td>184.457396</td>\n",
       "      <td>Rechenhof</td>\n",
       "    </tr>\n",
       "    <tr>\n",
       "      <th>25</th>\n",
       "      <td>121.709969</td>\n",
       "      <td>Buzihütte</td>\n",
       "    </tr>\n",
       "    <tr>\n",
       "      <th>26</th>\n",
       "      <td>72.588266</td>\n",
       "      <td>Bienenstraße</td>\n",
       "    </tr>\n",
       "    <tr>\n",
       "      <th>27</th>\n",
       "      <td>18.946554</td>\n",
       "      <td>Sadrach</td>\n",
       "    </tr>\n",
       "    <tr>\n",
       "      <th>28</th>\n",
       "      <td>602.449880</td>\n",
       "      <td>Brenner</td>\n",
       "    </tr>\n",
       "    <tr>\n",
       "      <th>29</th>\n",
       "      <td>19.294703</td>\n",
       "      <td>Rossau</td>\n",
       "    </tr>\n",
       "    <tr>\n",
       "      <th>30</th>\n",
       "      <td>32.990676</td>\n",
       "      <td>Wittenberg</td>\n",
       "    </tr>\n",
       "  </tbody>\n",
       "</table>\n",
       "</div>"
      ],
      "text/plain": [
       "      distance                name\n",
       "id                                \n",
       "1    27.829084                Lans\n",
       "2    53.318729             Hofwald\n",
       "3    22.484906       Arzler Straße\n",
       "4   191.370794         Kranebitten\n",
       "5    11.777183         Gumppstraße\n",
       "6    36.198389        Pfaffensteig\n",
       "7   152.811369      Höttinger Rain\n",
       "8   243.608341                Igls\n",
       "9    48.259567        Golfcourse B\n",
       "10  163.444315          Kosterberg\n",
       "11   60.943469             Ullwald\n",
       "12   17.929801            Alpenzoo\n",
       "13  181.825330       Andreas-Hofer\n",
       "14  138.404685              Pumhof\n",
       "15    2.326952           Hofgarten\n",
       "16   59.966425                Vill\n",
       "17   82.142365        Golfcourse A\n",
       "18   78.380853  Egger-Lienz-Straße\n",
       "19   19.103852         Schillerhof\n",
       "20   29.261384              Wilten\n",
       "21    2.990658         Templstraße\n",
       "22   26.303805          Hungerburg\n",
       "23    2.805789           Poltenweg\n",
       "24  184.457396           Rechenhof\n",
       "25  121.709969           Buzihütte\n",
       "26   72.588266        Bienenstraße\n",
       "27   18.946554             Sadrach\n",
       "28  602.449880             Brenner\n",
       "29   19.294703              Rossau\n",
       "30   32.990676          Wittenberg"
      ]
     },
     "execution_count": 49,
     "metadata": {},
     "output_type": "execute_result"
    }
   ],
   "source": [
    "distances"
   ]
  },
  {
   "cell_type": "markdown",
   "metadata": {},
   "source": [
    "#### compute the distance mean and standard deviation"
   ]
  },
  {
   "cell_type": "code",
   "execution_count": 66,
   "metadata": {
    "collapsed": false
   },
   "outputs": [
    {
     "data": {
      "text/plain": [
       "90.0"
      ]
     },
     "execution_count": 66,
     "metadata": {},
     "output_type": "execute_result"
    }
   ],
   "source": [
    "distances.distance.mean().round(0)"
   ]
  },
  {
   "cell_type": "code",
   "execution_count": 67,
   "metadata": {
    "collapsed": false
   },
   "outputs": [
    {
     "data": {
      "text/plain": [
       "118.0"
      ]
     },
     "execution_count": 67,
     "metadata": {},
     "output_type": "execute_result"
    }
   ],
   "source": [
    "distances.distance.std().round(0)"
   ]
  }
 ],
 "metadata": {
  "kernelspec": {
   "display_name": "Django Shell-Plus",
   "language": "python",
   "name": "django_extensions"
  },
  "language_info": {
   "codemirror_mode": {
    "name": "ipython",
    "version": 3
   },
   "file_extension": ".py",
   "mimetype": "text/x-python",
   "name": "python",
   "nbconvert_exporter": "python",
   "pygments_lexer": "ipython3",
   "version": "3.5.2"
  }
 },
 "nbformat": 4,
 "nbformat_minor": 1
}
